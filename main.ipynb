{
 "cells": [
  {
   "cell_type": "markdown",
   "metadata": {},
   "source": [
    "[![Generic badge](https://img.shields.io/badge/License-Properitary-red.svg)](https://github.com/JanGaida/research_project_machine_learning_hshof_sose2020/blob/master/LICENSE.md) <br>\n",
    "[![Active Development](https://img.shields.io/badge/Maintenance%20Level-Actively%20Developed-brightgreen.svg)](https://github.com/JanGaida/research_project_machine_learning_hshof_sose2020/) <br>\n",
    "[![Ask Me Anything !](https://img.shields.io/badge/Ask%20me-anything-1abc9c.svg)](https://github.com/JanGaida/research_project_machine_learning_hshof_sose2020/issues) <br>\n",
    "[![Python 3.7.7](https://img.shields.io/badge/python-3.7.7-blue.svg)](https://www.python.org/downloads/release/python-377/)"
   ]
  },
  {
   "cell_type": "markdown",
   "metadata": {
    "heading_collapsed": true
   },
   "source": [
    "# <img src=\"https://upload.wikimedia.org/wikipedia/commons/thumb/5/50/Logo_fh_hof.svg/2000px-Logo_fh_hof.svg.png\" width=\"300\" style=\"background-color:#FFF\">\n",
    "\n",
    "<font size=\"+4\"><i><u>Q-Learning mit 'Super Mario Bros'</u></i></font>\n",
    "\n",
    "Seminararbeit der Vorlesung **Angewandtes Maschinelles Lernen** an der **Hochschule für angewande Wissenschaften Hof** des **Sommersemesters 2020**."
   ]
  },
  {
   "cell_type": "markdown",
   "metadata": {
    "heading_collapsed": true
   },
   "source": [
    "# Anleitung\n",
    "\n",
    "*(Stand: April 2020)*"
   ]
  },
  {
   "cell_type": "markdown",
   "metadata": {
    "heading_collapsed": true,
    "hidden": true
   },
   "source": [
    "## Docker\n",
    "\n",
    "Nachfolgend eine kurze Erklärung wie dieses Notebook mit Docker ausgeführt werden kann."
   ]
  },
  {
   "cell_type": "markdown",
   "metadata": {
    "hidden": true
   },
   "source": [
    "\n",
    "Eine funktionierte Docker-Installation wird hierfür benötigt (<a href=\"https://docs.docker.com/docker-for-windows/install/\" target=\"_blank\">Anleitung</a>)"
   ]
  },
  {
   "cell_type": "markdown",
   "metadata": {
    "hidden": true
   },
   "source": [
    "Herunterladen des <a href=\"https://hub.docker.com/r/jupyter/tensorflow-notebook\">Dockerimages 'jupyter/tensorflow-notebook'</a>:\n",
    "\n",
    "```\n",
    "$ docker pull jupyter/tensorflow-notebook\n",
    "```"
   ]
  },
  {
   "cell_type": "markdown",
   "metadata": {
    "hidden": true
   },
   "source": [
    "Starten des Containers mit Portforwarding:\n",
    "\n",
    "```\n",
    "$ docker run -d -p 8888:8888 jupyter/tensorflow-notebook\n",
    "```\n",
    "\n",
    "Wenn der Container bereits gestartet worden ist:\n",
    "\n",
    "```\n",
    "$ docker start -i <container-id>\n",
    "```"
   ]
  },
  {
   "cell_type": "markdown",
   "metadata": {
    "hidden": true
   },
   "source": [
    "Anschließend wird die Container-Id benötigt, dazu können alle laufenden Container in einer List aufgeführt werden:\n",
    "\n",
    "```\n",
    "$ docker ps\n",
    "```"
   ]
  },
  {
   "cell_type": "markdown",
   "metadata": {
    "hidden": true
   },
   "source": [
    "Abschließend wird ein Kommando ausgeführt um das Jupyter-Access-Token auszulesen (hierfür wird die Container-Id aus dem Schritt vorher benötigt und ist anstelle '<container-id>' einzusetzen).\n",
    "\n",
    "```\n",
    "$ docker exec <container-id> jupyter notebook list\n",
    "```\n",
    "\n",
    "Zurückgegeben wird eine Link zu den Localhost an den definierten Port mit Token als Parameter. Dieser Link kann nun in einem Browser geöffnet werden (ggf. muss die Adresse des Localhost angepasst werden, z.b. '0.0.0.0' mit 'localhost' ersetz werden)."
   ]
  },
  {
   "cell_type": "markdown",
   "metadata": {
    "heading_collapsed": true,
    "hidden": true
   },
   "source": [
    "## Jupyter Notebook\n",
    "\n",
    "Nachfolgend sind <b>optionale</b> Anpassungen an dem im Container installierten Jupyter-Notebook."
   ]
  },
  {
   "cell_type": "markdown",
   "metadata": {
    "hidden": true
   },
   "source": [
    "Um Erweiterung zu installieren wird das Pip-Package 'jupyter_contrib_nbextensions' benötigt, zu erst benötigten wir hierfür ein Terminal - auf das in Jupyter-Notebook integrierte greift man folgend zu:\n",
    "\n",
    "```\n",
    "Home -> New -> Terminal\n",
    "```"
   ]
  },
  {
   "cell_type": "markdown",
   "metadata": {
    "hidden": true
   },
   "source": [
    "Anschließend können folgende Befehle ausgeführt werden:\n",
    "\n",
    "```\n",
    "$ pip install jupyter_contrib_nbextensions\n",
    "$ jupyter contrib nbextension install --user\n",
    "$ jupyter nbextensions_configurator enable --user\n",
    "```"
   ]
  },
  {
   "cell_type": "markdown",
   "metadata": {
    "hidden": true
   },
   "source": [
    "Nun muss der Docker-Container neugestartet werden:\n",
    "\n",
    "```\n",
    "$ docker stop <container-id>\n",
    "$ docker start -i <container-id>\n",
    "```\n",
    "\n",
    "Anschließend wird ein Link zu dem Jupyter-Notebook ausgegeben und auf der Startseite gibt es nun einen neuen Reiter 'Nbextensions'."
   ]
  },
  {
   "cell_type": "markdown",
   "metadata": {
    "heading_collapsed": true,
    "hidden": true
   },
   "source": [
    "### Strukturierung\n",
    "\n",
    "Nachfolgend ist beschrieben wie eine Jupyterweiterung zur strukturierten Darstellung im Jupyter-Notebook installiert wird."
   ]
  },
  {
   "cell_type": "markdown",
   "metadata": {
    "hidden": true
   },
   "source": [
    "Hierfür kann die zuvor installierte Erweiterung 'Nbextensions' genutzt werden:\n",
    "\n",
    "```\n",
    "Home -> Nbextensions\n",
    "```\n",
    "\n",
    "Zunächst muss der Hacken bei *'disable configuration for nbextensions without explicit compatibility [...]'* entfernt werden.\n",
    "\n",
    "Anschließend kann nach <b>'Collapsible Headings'</b> gesucht werden und diese Erweiterung mit einem Klick aktiviert werden.\n",
    "\n",
    "Lädt man nun die offnen Jupyter-Notebooks neu so werden diese mit der Erweiterung geladen.\n",
    "\n"
   ]
  },
  {
   "cell_type": "markdown",
   "metadata": {
    "heading_collapsed": true,
    "hidden": true
   },
   "source": [
    "### Ausführungszeit\n",
    "\n",
    "Nachfolgend ist beschrieben wie eine Jupyterweiterung zur Darstellung von Ausführungszeiten im Jupyter-Notebook installiert wird."
   ]
  },
  {
   "cell_type": "markdown",
   "metadata": {
    "hidden": true
   },
   "source": [
    "Hierfür kann die zuvor installierte Erweiterung 'Nbextensions' genutzt werden:\n",
    "\n",
    "```\n",
    "Home -> Nbextensions\n",
    "```\n",
    "\n",
    "Zunächst muss der Hacken bei *'disable configuration for nbextensions without explicit compatibility [...]'* entfernt werden.\n",
    "\n",
    "Anschließend kann nach <b>'ExecuteTime'</b> gesucht werden und diese Erweiterung mit einem Klick aktiviert werden.\n",
    "\n",
    "Lädt man nun die offnen Jupyter-Notebooks neu so werden diese mit der Erweiterung geladen.\n"
   ]
  },
  {
   "cell_type": "markdown",
   "metadata": {
    "heading_collapsed": true,
    "hidden": true
   },
   "source": [
    "### Zellweite\n",
    "\n",
    "Nachfolgende Zelle passt die Zellweite aller Zellen zu 95% der Bildschirmweite an:"
   ]
  },
  {
   "cell_type": "code",
   "execution_count": 10,
   "metadata": {
    "ExecuteTime": {
     "end_time": "2020-04-06T17:35:32.990559Z",
     "start_time": "2020-04-06T17:35:32.987054Z"
    },
    "hidden": true
   },
   "outputs": [
    {
     "data": {
      "text/html": [
       "<style>.container { width:95% !important; }</style>"
      ],
      "text/plain": [
       "<IPython.core.display.HTML object>"
      ]
     },
     "metadata": {},
     "output_type": "display_data"
    }
   ],
   "source": [
    "from IPython.core.display import display, HTML\n",
    "display(HTML(\"<style>.container { width:95% !important; }</style>\"))"
   ]
  },
  {
   "cell_type": "markdown",
   "metadata": {
    "heading_collapsed": true,
    "hidden": true
   },
   "source": [
    "### Theme\n",
    "\n",
    "Nachfolgende ist beschrieben wie eine Jupyterweiterung zum Anpassen des Jupyter-Themes installiert wird."
   ]
  },
  {
   "cell_type": "markdown",
   "metadata": {
    "hidden": true
   },
   "source": [
    "Zunächst muss mit Pip das 'jupyterthemes'-Package benötigt, dazu wird zu erst ein Terminal gebraucht:\n",
    "\n",
    "```\n",
    "Home -> New -> Terminal\n",
    "```"
   ]
  },
  {
   "cell_type": "markdown",
   "metadata": {
    "hidden": true
   },
   "source": [
    "Anschließend kann das Package installiert werden:\n",
    "\n",
    "```\n",
    "$ pip install jupyterthemes\n",
    "```"
   ]
  },
  {
   "cell_type": "markdown",
   "metadata": {
    "hidden": true
   },
   "source": [
    "Nun kann das gewünschte Theme aktivert werden, zur Auswahl stehen folgende Themes:\n",
    "- onedork\n",
    "- grade3\n",
    "- oceans16\n",
    "- chesterish\n",
    "- monokai\n",
    "- solarizedl\n",
    "- solarizedd\n",
    "\n",
    "Kommando zum aktivieren des Themes:\n",
    "```\n",
    "jt -t <theme-name>\n",
    "```\n",
    "\n",
    "Kommando zum zurücksetzen des Themes:\n",
    "```\n",
    "jt -r\n",
    "```"
   ]
  },
  {
   "cell_type": "markdown",
   "metadata": {},
   "source": [
    "# Requirements\n",
    "\n",
    "*Die benötigten Packages wurden aus der bei mir installierten Pip-Liste gebildet.*"
   ]
  },
  {
   "cell_type": "code",
   "execution_count": 11,
   "metadata": {
    "ExecuteTime": {
     "end_time": "2020-04-06T17:35:33.588837Z",
     "start_time": "2020-04-06T17:35:32.992342Z"
    }
   },
   "outputs": [],
   "source": [
    "# Package-Liste:\n",
    "#!pip list\n",
    "\n",
    "# Build Requierments:\n",
    "#!pip freeze > requirements.txt\n",
    "\n",
    "# Installation\n",
    "#!pip install -r requirements.txt\n",
    "\n",
    "# Update \n",
    "#!pip install -r requirements.txt --upgrade"
   ]
  }
 ],
 "metadata": {
  "kernelspec": {
   "display_name": "Python 3",
   "language": "python",
   "name": "python3"
  },
  "language_info": {
   "codemirror_mode": {
    "name": "ipython",
    "version": 3
   },
   "file_extension": ".py",
   "mimetype": "text/x-python",
   "name": "python",
   "nbconvert_exporter": "python",
   "pygments_lexer": "ipython3",
   "version": "3.7.6"
  }
 },
 "nbformat": 4,
 "nbformat_minor": 4
}
