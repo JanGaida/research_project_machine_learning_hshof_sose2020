{
 "cells": [
  {
   "cell_type": "markdown",
   "metadata": {},
   "source": [
    "[![Generic badge](https://img.shields.io/badge/License-Properitary-red.svg)](https://github.com/JanGaida/research_project_machine_learning_hshof_sose2020/blob/master/LICENSE.md) <br>\n",
    "[![Active Development](https://img.shields.io/badge/Maintenance%20Level-Actively%20Developed-brightgreen.svg)](https://github.com/JanGaida/research_project_machine_learning_hshof_sose2020/) <br>\n",
    "[![Ask Me Anything !](https://img.shields.io/badge/Ask%20me-anything-1abc9c.svg)](https://github.com/JanGaida/research_project_machine_learning_hshof_sose2020/issues) <br>\n",
    "[![Python 3.7.7](https://img.shields.io/badge/python-3.7.7-blue.svg)](https://www.python.org/downloads/release/python-377/)"
   ]
  },
  {
   "cell_type": "markdown",
   "metadata": {
    "heading_collapsed": true
   },
   "source": [
    "# <img src=\"https://upload.wikimedia.org/wikipedia/commons/thumb/5/50/Logo_fh_hof.svg/2000px-Logo_fh_hof.svg.png\" width=\"300\" style=\"background-color:#FFF\">\n",
    "\n",
    "<font size=\"+4\"><i><u>Q-Learning mit 'Super Mario Bros'</u></i></font>\n",
    "\n",
    "Seminararbeit der Vorlesung **Angewandtes Maschinelles Lernen** an der **Hochschule für angewande Wissenschaften Hof** des **Sommersemesters 2020**."
   ]
  },
  {
   "cell_type": "markdown",
   "metadata": {},
   "source": [
    "# Vorbereitungen\n",
    "\n",
    "*Code der das Jupyter-Notebook vorbereit.*"
   ]
  },
  {
   "cell_type": "markdown",
   "metadata": {
    "ExecuteTime": {
     "end_time": "2020-04-24T12:01:21.619987Z",
     "start_time": "2020-04-24T12:01:21.615688Z"
    }
   },
   "source": [
    "## Notebook-Styling\n",
    "\n",
    "*Ändert u.a. das Layout des Notebooks.*"
   ]
  },
  {
   "cell_type": "code",
   "execution_count": 1,
   "metadata": {
    "ExecuteTime": {
     "end_time": "2020-04-25T10:42:50.436594Z",
     "start_time": "2020-04-25T10:42:50.426818Z"
    }
   },
   "outputs": [
    {
     "data": {
      "text/html": [
       "<style>.container { width: 95% !important; }</style>"
      ],
      "text/plain": [
       "<IPython.core.display.HTML object>"
      ]
     },
     "metadata": {},
     "output_type": "display_data"
    }
   ],
   "source": [
    "from IPython.core.display import display, HTML\n",
    "\n",
    "_notebook_relative_width = \"95%\" # Wertebereich: 0-100, muss nach HTML-Schema definiert sein\n",
    "display(HTML('<style>.container { width: ' + _notebook_relative_width + ' !important; }</style>'))"
   ]
  },
  {
   "cell_type": "markdown",
   "metadata": {},
   "source": [
    "## Requirements\n",
    "\n",
    "*Die benötigten Packages wurden aus der bei mir installierten Pip-Liste gebildet.*\n",
    "\n",
    "**Hinweis:** *Es werden* ***mehr als zwingend notwendige*** *Packages installiert.*"
   ]
  },
  {
   "cell_type": "code",
   "execution_count": 2,
   "metadata": {
    "ExecuteTime": {
     "end_time": "2020-04-25T10:42:51.146819Z",
     "start_time": "2020-04-25T10:42:50.437848Z"
    }
   },
   "outputs": [
    {
     "name": "stdout",
     "output_type": "stream",
     "text": [
      "Package                            Version     \n",
      "---------------------------------- ------------\n",
      "absl-py                            0.9.0       \n",
      "alabaster                          0.7.12      \n",
      "anaconda-client                    1.7.2       \n",
      "anaconda-navigator                 1.9.7       \n",
      "anaconda-project                   0.8.3       \n",
      "asn1crypto                         1.3.0       \n",
      "astor                              0.8.1       \n",
      "astroid                            2.3.3       \n",
      "astropy                            4.0.1.post1 \n",
      "atari-py                           0.2.6       \n",
      "atomicwrites                       1.3.0       \n",
      "attrs                              19.3.0      \n",
      "autopep8                           1.5.2       \n",
      "Babel                              2.8.0       \n",
      "backcall                           0.1.0       \n",
      "backports.functools-lru-cache      1.6.1       \n",
      "backports.os                       0.1.1       \n",
      "backports.shutil-get-terminal-size 1.0.0       \n",
      "backports.tempfile                 1.0         \n",
      "backports.weakref                  1.0.post1   \n",
      "beautifulsoup4                     4.9.0       \n",
      "bitarray                           1.2.1       \n",
      "bkcharts                           0.2         \n",
      "bleach                             3.1.4       \n",
      "bokeh                              2.0.2       \n",
      "boto                               2.49.0      \n",
      "Bottleneck                         1.3.2       \n",
      "cachetools                         4.1.0       \n",
      "certifi                            2020.4.5.1  \n",
      "cffi                               1.14.0      \n",
      "chardet                            3.0.4       \n",
      "click                              7.1.1       \n",
      "cloudpickle                        1.3.0       \n",
      "clyent                             1.2.2       \n",
      "colorama                           0.4.3       \n",
      "conda                              4.8.3       \n",
      "conda-build                        3.18.8      \n",
      "conda-package-handling             1.3.11      \n",
      "conda-verify                       3.4.2       \n",
      "contextlib2                        0.6.0.post1 \n",
      "coverage                           5.1         \n",
      "cryptography                       2.9.2       \n",
      "cycler                             0.10.0      \n",
      "Cython                             0.29.16     \n",
      "cytoolz                            0.10.1      \n",
      "dask                               2.15.0      \n",
      "decorator                          4.4.2       \n",
      "defusedxml                         0.6.0       \n",
      "diff-match-patch                   20181111    \n",
      "distributed                        2.15.0      \n",
      "docutils                           0.16        \n",
      "EasyProcess                        0.2.10      \n",
      "entrypoints                        0.3         \n",
      "et-xmlfile                         1.0.1       \n",
      "fastcache                          1.1.0       \n",
      "filelock                           3.0.12      \n",
      "flake8                             3.7.9       \n",
      "Flask                              1.1.2       \n",
      "future                             0.18.2      \n",
      "gast                               0.2.2       \n",
      "gevent                             20.4.0      \n",
      "glob2                              0.7         \n",
      "gmpy2                              2.0.8       \n",
      "google-auth                        1.14.1      \n",
      "google-auth-oauthlib               0.4.1       \n",
      "google-pasta                       0.2.0       \n",
      "greenlet                           0.4.15      \n",
      "grpcio                             1.28.1      \n",
      "gym                                0.17.1      \n",
      "gym-super-mario-bros               7.3.0       \n",
      "h5py                               2.10.0      \n",
      "HeapDict                           1.0.1       \n",
      "helpdev                            0.6.10      \n",
      "html5lib                           1.0.1       \n",
      "hypothesis                         5.10.4      \n",
      "idna                               2.9         \n",
      "imageio                            2.8.0       \n",
      "imagesize                          1.2.0       \n",
      "importlib-metadata                 1.6.0       \n",
      "intervaltree                       3.0.2       \n",
      "ipykernel                          5.2.1       \n",
      "ipython                            7.13.0      \n",
      "ipython-genutils                   0.2.0       \n",
      "ipywidgets                         7.5.1       \n",
      "isort                              4.3.21      \n",
      "itsdangerous                       1.1.0       \n",
      "jdcal                              1.4.1       \n",
      "jedi                               0.17.0      \n",
      "jeepney                            0.4.3       \n",
      "Jinja2                             2.11.2      \n",
      "joblib                             0.14.1      \n",
      "json5                              0.9.4       \n",
      "jsonschema                         3.2.0       \n",
      "jupyter                            1.0.0       \n",
      "jupyter-client                     6.1.3       \n",
      "jupyter-console                    6.1.0       \n",
      "jupyter-contrib-core               0.3.3       \n",
      "jupyter-contrib-nbextensions       0.5.1       \n",
      "jupyter-core                       4.6.3       \n",
      "jupyter-highlight-selected-word    0.2.0       \n",
      "jupyter-latex-envs                 1.4.6       \n",
      "jupyter-nbextensions-configurator  0.4.1       \n",
      "jupyterlab                         2.1.1       \n",
      "jupyterlab-server                  1.1.1       \n",
      "jupyterthemes                      0.20.0      \n",
      "Keras-Applications                 1.0.8       \n",
      "Keras-Preprocessing                1.1.0       \n",
      "keyring                            21.2.0      \n",
      "kiwisolver                         1.2.0       \n",
      "lazy-object-proxy                  1.4.3       \n",
      "lesscpy                            0.14.0      \n",
      "libarchive-c                       2.9         \n",
      "lief                               0.10.1      \n",
      "llvmlite                           0.32.0      \n",
      "locket                             0.2.0       \n",
      "lxml                               4.5.0       \n",
      "Markdown                           3.2.1       \n",
      "MarkupSafe                         1.1.1       \n",
      "matplotlib                         3.2.1       \n",
      "mccabe                             0.6.1       \n",
      "mistune                            0.8.4       \n",
      "mkl-fft                            1.0.12      \n",
      "mkl-random                         1.0.2       \n",
      "mkl-service                        2.0.2       \n",
      "mock                               4.0.2       \n",
      "more-itertools                     8.2.0       \n",
      "mpmath                             1.1.0       \n",
      "msgpack                            1.0.0       \n",
      "multipledispatch                   0.6.0       \n",
      "navigator-updater                  0.2.1       \n",
      "nbconvert                          5.6.1       \n",
      "nbformat                           5.0.6       \n",
      "nes-py                             8.1.1       \n",
      "networkx                           2.4         \n",
      "nltk                               3.5         \n",
      "nose                               1.3.7       \n",
      "notebook                           6.0.3       \n",
      "numba                              0.49.0      \n",
      "numexpr                            2.7.1       \n",
      "numpy                              1.18.3      \n",
      "numpydoc                           0.9.2       \n",
      "oauthlib                           3.1.0       \n",
      "olefile                            0.46        \n",
      "opencv-python                      4.2.0.34    \n",
      "openpyxl                           3.0.3       \n",
      "opt-einsum                         3.2.1       \n",
      "packaging                          20.3        \n",
      "pandas                             1.0.3       \n",
      "pandocfilters                      1.4.2       \n",
      "parso                              0.7.0       \n",
      "partd                              1.1.0       \n",
      "path                               13.2.0      \n",
      "path.py                            12.4.0      \n",
      "pathlib2                           2.3.5       \n",
      "pathtools                          0.1.2       \n",
      "patsy                              0.5.1       \n",
      "pep8                               1.7.1       \n",
      "pexpect                            4.8.0       \n",
      "pickleshare                        0.7.5       \n",
      "Pillow                             7.1.1       \n",
      "pip                                20.0.2      \n",
      "pkginfo                            1.5.0.1     \n",
      "pluggy                             0.13.1      \n",
      "ply                                3.11        \n",
      "prometheus-client                  0.7.1       \n",
      "prompt-toolkit                     3.0.5       \n",
      "protobuf                           3.11.3      \n",
      "psutil                             5.7.0       \n",
      "ptyprocess                         0.6.0       \n",
      "py                                 1.8.1       \n",
      "pyasn1                             0.4.8       \n",
      "pyasn1-modules                     0.2.8       \n",
      "pycodestyle                        2.5.0       \n",
      "pycosat                            0.6.3       \n",
      "pycparser                          2.20        \n",
      "pycrypto                           2.6.1       \n",
      "pycurl                             7.43.0.3    \n",
      "pydocstyle                         5.0.2       \n",
      "pyflakes                           2.2.0       \n",
      "pyglet                             1.5.0       \n",
      "Pygments                           2.6.1       \n",
      "pylint                             2.4.4       \n",
      "pyodbc                             4.0.30      \n",
      "pyOpenSSL                          19.1.0      \n",
      "pyparsing                          2.4.7       \n",
      "PyQt5                              5.14.2      \n",
      "PyQt5-sip                          12.7.2      \n",
      "PyQtWebEngine                      5.14.0      \n",
      "pyrsistent                         0.16.0      \n",
      "PySocks                            1.7.1       \n",
      "pytest                             5.4.1       \n",
      "pytest-arraydiff                   0.3         \n",
      "pytest-astropy                     0.8.0       \n",
      "pytest-astropy-header              0.1.2       \n",
      "pytest-cov                         2.8.1       \n",
      "pytest-doctestplus                 0.5.0       \n",
      "pytest-filter-subpackage           0.1.1       \n",
      "pytest-openfiles                   0.5.0       \n",
      "pytest-remotedata                  0.3.2       \n",
      "python-dateutil                    2.8.1       \n",
      "python-jsonrpc-server              0.3.4       \n",
      "python-language-server             0.31.10     \n",
      "pytz                               2019.3      \n",
      "PyVirtualDisplay                   0.2.5       \n",
      "PyWavelets                         1.1.1       \n",
      "pyxdg                              0.26        \n",
      "PyYAML                             5.1.1       \n",
      "pyzmq                              19.0.0      \n",
      "QDarkStyle                         2.8.1       \n",
      "QtAwesome                          0.7.1       \n",
      "qtconsole                          4.7.3       \n",
      "QtPy                               1.9.0       \n",
      "regex                              2020.4.4    \n",
      "requests                           2.23.0      \n",
      "requests-oauthlib                  1.3.0       \n",
      "rope                               0.16.0      \n",
      "rsa                                4.0         \n",
      "ruamel-yaml                        0.15.46     \n",
      "ruamel.yaml.clib                   0.2.0       \n",
      "scikit-image                       0.16.2      \n",
      "scikit-learn                       0.22.2.post1\n",
      "scipy                              1.4.1       \n",
      "seaborn                            0.10.0      \n",
      "SecretStorage                      3.1.2       \n",
      "Send2Trash                         1.5.0       \n",
      "setuptools                         46.1.3      \n",
      "simplegeneric                      0.8.1       \n",
      "singledispatch                     3.4.0.3     \n",
      "six                                1.14.0      \n",
      "snowballstemmer                    2.0.0       \n",
      "sortedcollections                  1.1.2       \n",
      "sortedcontainers                   2.1.0       \n",
      "soupsieve                          2.0         \n",
      "Sphinx                             3.0.2       \n",
      "sphinxcontrib-applehelp            1.0.2       \n",
      "sphinxcontrib-devhelp              1.0.2       \n",
      "sphinxcontrib-htmlhelp             1.0.3       \n",
      "sphinxcontrib-jsmath               1.0.1       \n",
      "sphinxcontrib-qthelp               1.0.3       \n",
      "sphinxcontrib-serializinghtml      1.1.4       \n",
      "sphinxcontrib-websupport           1.2.1       \n",
      "spyder                             4.1.2       \n",
      "spyder-kernels                     1.9.0       \n",
      "SQLAlchemy                         1.3.16      \n",
      "stable-baselines                   2.10.0      \n",
      "statsmodels                        0.11.1      \n",
      "sympy                              1.5.1       \n",
      "tables                             3.6.1       \n",
      "tblib                              1.6.0       \n",
      "tensorboard                        2.1.1       \n",
      "tensorboard-plugin-wit             1.6.0.post3 \n",
      "tensorflow                         2.1.0       \n",
      "tensorflow-estimator               2.1.0       \n",
      "tensorflow-gpu                     2.1.0       \n",
      "termcolor                          1.1.0       \n",
      "terminado                          0.8.2       \n",
      "testpath                           0.4.4       \n",
      "toolz                              0.10.0      \n",
      "tornado                            6.0.4       \n",
      "tqdm                               4.45.0      \n",
      "traitlets                          4.3.3       \n",
      "typed-ast                          1.4.1       \n",
      "typing-extensions                  3.7.4.2     \n",
      "ujson                              2.0.3       \n",
      "unicodecsv                         0.14.1      \n",
      "urllib3                            1.25.9      \n",
      "watchdog                           0.10.2      \n",
      "wcwidth                            0.1.9       \n",
      "webencodings                       0.5.1       \n",
      "Werkzeug                           1.0.1       \n",
      "wheel                              0.34.2      \n",
      "widgetsnbextension                 3.5.1       \n",
      "wrapt                              1.12.1      \n",
      "wurlitzer                          2.0.0       \n",
      "xlrd                               1.2.0       \n",
      "XlsxWriter                         1.2.8       \n",
      "xlwt                               1.3.0       \n",
      "yapf                               0.30.0      \n",
      "zict                               2.0.0       \n",
      "zipp                               3.1.0       \n"
     ]
    }
   ],
   "source": [
    "# Package-Liste\n",
    "!pip3 list"
   ]
  },
  {
   "cell_type": "code",
   "execution_count": 3,
   "metadata": {
    "ExecuteTime": {
     "end_time": "2020-04-25T10:42:51.157877Z",
     "start_time": "2020-04-25T10:42:51.150743Z"
    }
   },
   "outputs": [],
   "source": [
    "%%capture\n",
    "# Installation\n",
    "#!pip3 install -r requirements.txt"
   ]
  },
  {
   "cell_type": "code",
   "execution_count": 4,
   "metadata": {
    "ExecuteTime": {
     "end_time": "2020-04-25T10:42:51.255913Z",
     "start_time": "2020-04-25T10:42:51.160160Z"
    }
   },
   "outputs": [],
   "source": [
    "%%capture\n",
    "# Update \n",
    "#!pip3 list --outdated --format=freeze | grep -v '^\\-e' | cut -d = -f 1  | xargs -n1 pip install -U"
   ]
  },
  {
   "cell_type": "code",
   "execution_count": 5,
   "metadata": {
    "ExecuteTime": {
     "end_time": "2020-04-25T10:42:51.786420Z",
     "start_time": "2020-04-25T10:42:51.258284Z"
    }
   },
   "outputs": [],
   "source": [
    "%%capture\n",
    "# Export Pip-Packages nach './requirements.txt'\n",
    "!pip3 freeze > requirements.txt"
   ]
  },
  {
   "cell_type": "markdown",
   "metadata": {},
   "source": [
    "# Konfiguration\n",
    "\n",
    "*Import-Statements & Vorbereitung der Frameworks/Module zusammengefasst.*"
   ]
  },
  {
   "cell_type": "markdown",
   "metadata": {},
   "source": [
    "## Allgemein\n",
    "\n",
    "*Nicht weiter spezifizierte Import-Statements, bspw. von System-Bibliotheken.*"
   ]
  },
  {
   "cell_type": "code",
   "execution_count": 6,
   "metadata": {
    "ExecuteTime": {
     "end_time": "2020-04-25T10:42:51.793407Z",
     "start_time": "2020-04-25T10:42:51.789695Z"
    }
   },
   "outputs": [],
   "source": [
    "import os\n",
    "from datetime import datetime"
   ]
  },
  {
   "cell_type": "code",
   "execution_count": 7,
   "metadata": {
    "ExecuteTime": {
     "end_time": "2020-04-25T10:42:51.873115Z",
     "start_time": "2020-04-25T10:42:51.794844Z"
    }
   },
   "outputs": [],
   "source": [
    "# Erstelle Logs-Folder falls nicht existent.\n",
    "logs_base_dir = \"./logs\"\n",
    "if not os.path.isdir(logs_base_dir):\n",
    "    !mkdir logs"
   ]
  },
  {
   "cell_type": "markdown",
   "metadata": {},
   "source": [
    "## Tensorflow\n",
    "\n",
    "<img src=\"https://upload.wikimedia.org/wikipedia/commons/thumb/1/11/TensorFlowLogo.svg/1280px-TensorFlowLogo.svg.png\" width=\"150px\"/>\n",
    "\n",
    "*TensorFlow ist ein Framework zur datenstromorientierten Programmierung. Es wird aus Python-Programmen heraus benutzt und ist in Python und C++ implementiert. Populäre Anwendung findet TensorFlow im Bereich des maschinellen Lernens. [...]*\n",
    "\n",
    "[Weiter Informationen](https://pypi.org/project/tensorflow/)"
   ]
  },
  {
   "cell_type": "code",
   "execution_count": 8,
   "metadata": {
    "ExecuteTime": {
     "end_time": "2020-04-25T10:42:53.119255Z",
     "start_time": "2020-04-25T10:42:51.877071Z"
    }
   },
   "outputs": [],
   "source": [
    "import tensorflow as tf"
   ]
  },
  {
   "cell_type": "markdown",
   "metadata": {},
   "source": [
    "## Tensorboard\n",
    "\n",
    "<img src=\"https://www.tensorflow.org/site-assets/images/project-logos/tensorboard-logo-social.png\" width=\"250px\"/>\n",
    "\n",
    "*TensorBoard ist ein Sammlung von Web-Applicationen um TensorFlow zu inspizieren und zu verstehen.*\n",
    "\n",
    "[Weitere Informationen](https://pypi.org/project/tensorboard/)"
   ]
  },
  {
   "cell_type": "code",
   "execution_count": 9,
   "metadata": {
    "ExecuteTime": {
     "end_time": "2020-04-25T10:42:53.125357Z",
     "start_time": "2020-04-25T10:42:53.121335Z"
    },
    "scrolled": true
   },
   "outputs": [],
   "source": [
    "%load_ext tensorboard"
   ]
  },
  {
   "cell_type": "code",
   "execution_count": 10,
   "metadata": {
    "ExecuteTime": {
     "end_time": "2020-04-25T10:42:53.227531Z",
     "start_time": "2020-04-25T10:42:53.126522Z"
    }
   },
   "outputs": [],
   "source": [
    "%%capture\n",
    "from tensorboard import notebook\n",
    "# Starten einer Tensorboard-Instanz mit Logs & gebindeten Ports\n",
    "%tensorboard --port=6007 --logdir {logs_base_dir} --bind_all\n",
    "# Auflisten der TensorBoard-Instanzen (resourcen intesiv)\n",
    "notebook.list()"
   ]
  },
  {
   "cell_type": "markdown",
   "metadata": {},
   "source": [
    "## IPyWidgets"
   ]
  },
  {
   "cell_type": "code",
   "execution_count": 11,
   "metadata": {
    "ExecuteTime": {
     "end_time": "2020-04-25T10:42:53.348166Z",
     "start_time": "2020-04-25T10:42:53.229534Z"
    }
   },
   "outputs": [],
   "source": [
    "import ipywidgets as widgets\n",
    "from ipywidgets import interact, interact_manual"
   ]
  },
  {
   "cell_type": "markdown",
   "metadata": {},
   "source": [
    "## PyVirtualDisplay\n",
    "*Ein python wrapper für Xvfb, Xephyr und Xvnc.*\n",
    "\n",
    "[Weiter Informationen](https://pypi.org/project/PyVirtualDisplay/)"
   ]
  },
  {
   "cell_type": "code",
   "execution_count": 12,
   "metadata": {
    "ExecuteTime": {
     "end_time": "2020-04-25T10:42:53.434726Z",
     "start_time": "2020-04-25T10:42:53.349237Z"
    }
   },
   "outputs": [
    {
     "name": "stdout",
     "output_type": "stream",
     "text": [
      "In case of failure in the next Code-Block consider installing python-opengl, xvfb, ffmpeg, x11-utils - Packages via apt-get.\n",
      "Use command 'sudo apt-get install -y python-opengl xvfb ffmpeg x11-utils > /dev/null' inside a terminal.\n"
     ]
    }
   ],
   "source": [
    "# videocode dependecies; x11-utils als workaround für 'xdpyinfo'\n",
    "print(\"In case of failure in the next Code-Block consider installing python-opengl, xvfb, ffmpeg, x11-utils - Packages via apt-get.\\nUse command 'sudo apt-get install -y python-opengl xvfb ffmpeg x11-utils > /dev/null' inside a terminal.\")"
   ]
  },
  {
   "cell_type": "code",
   "execution_count": 13,
   "metadata": {
    "ExecuteTime": {
     "end_time": "2020-04-25T10:42:53.597651Z",
     "start_time": "2020-04-25T10:42:53.437965Z"
    }
   },
   "outputs": [
    {
     "data": {
      "text/plain": [
       "<Display cmd_param=['Xvfb', '-br', '-nolisten', 'tcp', '-screen', '0', '1400x900x24', ':1077'] cmd=['Xvfb', '-br', '-nolisten', 'tcp', '-screen', '0', '1400x900x24', ':1077'] oserror=None return_code=None stdout=\"None\" stderr=\"None\" timeout_happened=False>"
      ]
     },
     "execution_count": 13,
     "metadata": {},
     "output_type": "execute_result"
    }
   ],
   "source": [
    "from pyvirtualdisplay import Display as PyVDisplay\n",
    "\n",
    "record_base_dir = \"./records\"\n",
    "if not os.path.isdir(record_base_dir):\n",
    "    !mkdir records\n",
    "\n",
    "py_vdisplay = PyVDisplay(visible=0, size=(1400, 900))\n",
    "py_vdisplay.start()"
   ]
  },
  {
   "cell_type": "markdown",
   "metadata": {},
   "source": [
    "## OpenAI-Gym\n",
    "\n",
    "<img src=\"https://upload.wikimedia.org/wikipedia/commons/thumb/4/4d/OpenAI_Logo.svg/1920px-OpenAI_Logo.svg.png\" width=\"275px\"/>\n",
    "\n",
    "*OpenAI-Gym ist ein Toolkit für das Entwickeln und Vergleichen von Reinforcement-Learning-Algorithmen.*\n",
    "\n",
    "[Weitere Informationen](https://pypi.org/project/gym/)"
   ]
  },
  {
   "cell_type": "code",
   "execution_count": 14,
   "metadata": {
    "ExecuteTime": {
     "end_time": "2020-04-25T10:42:53.638778Z",
     "start_time": "2020-04-25T10:42:53.598875Z"
    }
   },
   "outputs": [],
   "source": [
    "import gym\n",
    "\n",
    "from gym.wrappers import Monitor\n",
    "from gym import logger as gymlogger\n",
    "\n",
    "# Nur Error-Logging\n",
    "gymlogger.set_level(40)"
   ]
  },
  {
   "cell_type": "markdown",
   "metadata": {},
   "source": [
    "## Gym-Super-Mario-Bros\n",
    "\n",
    "*Eine OpenAI-Gym-Umgebung für Super Mario Bros. und Super Mario Bros. 2 (Lost Levels) auf den NES (Nitendo Entertainment System) mithilfe des nes-py emulators.*\n",
    "\n",
    "[Weitere Informationen](https://pypi.org/project/gym-super-mario-bros/)"
   ]
  },
  {
   "cell_type": "markdown",
   "metadata": {},
   "source": [
    "<table><thead><tr><th>SuperMarioBros-v0</th><th>SuperMarioBros-v1</th><th>SuperMarioBros-v2</th><th>SuperMarioBros-v3</th><th>SuperMarioBros2-v0</th><th>SuperMarioBros2-v1</th></tr></thead><tbody><tr><td><img src=\"https://warehouse-camo.ingress.cmh1.psfhosted.org/c4717c633d3823dda390ebc21bac34b18e7c22c3/68747470733a2f2f757365722d696d616765732e67697468756275736572636f6e74656e742e636f6d2f323138343436392f34303934383832302d33643135653563322d363833302d313165382d383164342d6563666166666565306131342e706e67\" width=\"175\"></td><td><img src=\"https://warehouse-camo.ingress.cmh1.psfhosted.org/e8eda56caeefcada9af67f43385ef1f48d0ac394/68747470733a2f2f757365722d696d616765732e67697468756275736572636f6e74656e742e636f6d2f323138343436392f34303934383831392d33636666366334382d363833302d313165382d383337332d3866616431363635616337322e706e67\" width=\"175\"></td><td><img src=\"https://warehouse-camo.ingress.cmh1.psfhosted.org/7f53e40eb716be49673cf41fb833486ab3ee104a/68747470733a2f2f757365722d696d616765732e67697468756275736572636f6e74656e742e636f6d2f323138343436392f34303934383831382d33636561303964342d363833302d313165382d386566612d3866333464386230356231312e706e67\" width=\"175\"></td><td><img src=\"https://warehouse-camo.ingress.cmh1.psfhosted.org/51975e7cc634efb02ed92acfb56368733b25f4d9/68747470733a2f2f757365722d696d616765732e67697468756275736572636f6e74656e742e636f6d2f323138343436392f34303934383831372d33636436363030612d363833302d313165382d386162622d3963656536613331643337372e706e67\" width=\"175\"></td><td><img src=\"https://warehouse-camo.ingress.cmh1.psfhosted.org/0618011a5c6cedb9dba051b8cf134ba51dd0777a/68747470733a2f2f757365722d696d616765732e67697468756275736572636f6e74656e742e636f6d2f323138343436392f34303934383832322d33643362383431322d363833302d313165382d383630622d6166333830326635333733662e706e67\" width=\"175\"></td><td><img src=\"https://warehouse-camo.ingress.cmh1.psfhosted.org/7c42437f4d2f447e192c088eab22739534c2d9be/68747470733a2f2f757365722d696d616765732e67697468756275736572636f6e74656e742e636f6d2f323138343436392f34303934383832312d33643264363161322d363833302d313165382d383738392d6139326537353061613961382e706e67\" width=\"175\"></td></tr></tbody></table>"
   ]
  },
  {
   "cell_type": "code",
   "execution_count": 15,
   "metadata": {
    "ExecuteTime": {
     "end_time": "2020-04-25T10:42:53.758363Z",
     "start_time": "2020-04-25T10:42:53.639781Z"
    }
   },
   "outputs": [
    {
     "data": {
      "application/vnd.jupyter.widget-view+json": {
       "model_id": "3ee86852f5684b3db6b16edb42f9f1e9",
       "version_major": 2,
       "version_minor": 0
      },
      "text/plain": [
       "interactive(children=(Dropdown(description='Enviorment', options=('SuperMarioBros-v0', 'SuperMarioBros-v1', 'S…"
      ]
     },
     "metadata": {},
     "output_type": "display_data"
    }
   ],
   "source": [
    "import gym_super_mario_bros\n",
    "\n",
    "from nes_py.wrappers import JoypadSpace # nes_py is a direct dependency by gym_super_mario_bros\n",
    "from gym_super_mario_bros.actions import RIGHT_ONLY, SIMPLE_MOVEMENT, COMPLEX_MOVEMENT\n",
    "\n",
    "gym_enviorment_id = 'SuperMarioBros-v0'\n",
    "gym_enviorment_movementset = 'Simple'\n",
    "\n",
    "@interact\n",
    "def show_env_param(Enviorment=['SuperMarioBros-v0', 'SuperMarioBros-v1', 'SuperMarioBros-v2', 'SuperMarioBros-v3', 'SuperMarioBros2-v0', 'SuperMarioBros2-v1', 'SuperMarioBros2-v2', 'SuperMarioBros2-v3'],\n",
    "                   Movementset=['Simple', 'Complex', 'Only-Right']):\n",
    "    global gym_enviorment_id\n",
    "    global gym_enviorment_movementset\n",
    "    \n",
    "    gym_enviorment_id = Enviorment\n",
    "    gym_enviorment_movementset = Movementset\n",
    "    \n",
    "    return"
   ]
  },
  {
   "cell_type": "markdown",
   "metadata": {},
   "source": [
    "## Stable-Baselines\n",
    "\n",
    "*Stable Baselines ist eine Sammlung von optimierten Implementation von Reinforcement-Learning-Algorithmen basierend auf OpenAi.*\n",
    "\n",
    "[Weitere Informationen](https://pypi.org/project/stable-baselines/)"
   ]
  },
  {
   "cell_type": "code",
   "execution_count": 16,
   "metadata": {
    "ExecuteTime": {
     "end_time": "2020-04-25T10:42:53.830038Z",
     "start_time": "2020-04-25T10:42:53.759353Z"
    }
   },
   "outputs": [],
   "source": [
    "# No imports yet."
   ]
  },
  {
   "cell_type": "markdown",
   "metadata": {},
   "source": [
    "# Pre-Training\n",
    "\n",
    "*Code der vor dem Traniern ausgeführt wird.*"
   ]
  },
  {
   "cell_type": "markdown",
   "metadata": {},
   "source": [
    "# Trainings-Parameter"
   ]
  },
  {
   "cell_type": "markdown",
   "metadata": {},
   "source": [
    "## Trainings-Epochen"
   ]
  },
  {
   "cell_type": "code",
   "execution_count": 17,
   "metadata": {
    "ExecuteTime": {
     "end_time": "2020-04-25T10:42:53.934850Z",
     "start_time": "2020-04-25T10:42:53.831444Z"
    }
   },
   "outputs": [
    {
     "name": "stdout",
     "output_type": "stream",
     "text": [
      "Geben Sie eine Anzahl an zu trainierenden Epochen ein (Wertebereich: 1-∞; Default: 1).\n"
     ]
    },
    {
     "data": {
      "application/vnd.jupyter.widget-view+json": {
       "model_id": "0b1ed64b800a4f279ad769cde205e7ef",
       "version_major": 2,
       "version_minor": 0
      },
      "text/plain": [
       "interactive(children=(Text(value='', description='Epochen'), Output()), _dom_classes=('widget-interact',))"
      ]
     },
     "metadata": {},
     "output_type": "display_data"
    }
   ],
   "source": [
    "print('Geben Sie eine Anzahl an zu trainierenden Epochen ein (Wertebereich: 1-∞; Default: 1).')\n",
    "\n",
    "max_amount_of_epoches = 1\n",
    "\n",
    "@interact\n",
    "def show_articles_more_than(Epochen=''):\n",
    "    global max_amount_of_epoches\n",
    "    try:\n",
    "        tmp = int(Epochen)\n",
    "        \n",
    "        if tmp > 0:\n",
    "            max_amount_of_epoches = tmp\n",
    "            print('Epochen-Anzahl in Höhe von {} angewandt.'.format(max_amount_of_epoches))\n",
    "        else:\n",
    "            max_amount_of_epoches = 1\n",
    "            print('Default-Anzahl in Höhe von 1 Epochen angewandt.')\n",
    "    except ValueError:\n",
    "        max_amount_of_epoches = 1\n",
    "        print('Default-Anzahl in Höhe von 1 Epochen angewandt.')"
   ]
  },
  {
   "cell_type": "markdown",
   "metadata": {},
   "source": [
    "## Reward-Funktionen\n",
    "\n",
    "*Belohnungsfunktionen zum lernen.*"
   ]
  },
  {
   "cell_type": "code",
   "execution_count": null,
   "metadata": {},
   "outputs": [],
   "source": []
  },
  {
   "cell_type": "markdown",
   "metadata": {},
   "source": [
    "## Monitor-Funktion"
   ]
  },
  {
   "cell_type": "code",
   "execution_count": 18,
   "metadata": {
    "ExecuteTime": {
     "end_time": "2020-04-25T10:42:54.051210Z",
     "start_time": "2020-04-25T10:42:53.935767Z"
    }
   },
   "outputs": [
    {
     "data": {
      "application/vnd.jupyter.widget-view+json": {
       "model_id": "fd2c4594c40d49af91e67ac0cc5983a8",
       "version_major": 2,
       "version_minor": 0
      },
      "text/plain": [
       "interactive(children=(Checkbox(value=True, description='Mointor_Run'), Output()), _dom_classes=('widget-intera…"
      ]
     },
     "metadata": {},
     "output_type": "display_data"
    }
   ],
   "source": [
    "gym_enviorment_monitor = True\n",
    "\n",
    "@interact\n",
    "def show_monitor_param(Mointor_Run = True):\n",
    "    global gym_enviorment_monitor\n",
    "    gym_enviorment_monitor = Mointor_Run\n",
    "    return"
   ]
  },
  {
   "cell_type": "code",
   "execution_count": null,
   "metadata": {},
   "outputs": [],
   "source": []
  },
  {
   "cell_type": "markdown",
   "metadata": {},
   "source": [
    "# Training"
   ]
  },
  {
   "cell_type": "code",
   "execution_count": 19,
   "metadata": {
    "ExecuteTime": {
     "end_time": "2020-04-25T10:42:54.164461Z",
     "start_time": "2020-04-25T10:42:54.052161Z"
    }
   },
   "outputs": [],
   "source": [
    "gym_enviorment_latest = None\n",
    "\n",
    "def init_gym():\n",
    "    global gym_enviorment\n",
    "    global gym_enviorment_id\n",
    "    global gym_enviorment_movementset\n",
    "    global gym_enviorment_latest\n",
    "    \n",
    "    print('Initalizing Gym ...')\n",
    "    \n",
    "    gym_enviorment_latest = datetime.now().strftime(\"rec_%d-%m-%Y_%H-%M-%S\")\n",
    "    \n",
    "    gym_enviorment = gym.make(gym_enviorment_id)\n",
    "    \n",
    "    print('Applied Gym-Enviorment-Id: {} ...'.format(gym_enviorment_id))\n",
    "    \n",
    "    if gym_enviorment_movementset == 'Complex':\n",
    "        gym_enviorment = JoypadSpace(gym_enviorment, COMPLEX_MOVEMENT)\n",
    "    elif gym_enviorment_movementset == 'Simple':\n",
    "        gym_enviorment = JoypadSpace(gym_enviorment, SIMPLE_MOVEMENT)\n",
    "    elif gym_enviorment_movementset == \"Only-Right\":\n",
    "        gym_enviorment = JoypadSpace(gym_enviorment, RIGHT_ONLY)\n",
    "    else:\n",
    "        print(\"Error: Gym-Movementset unknown ...\\nFalling back to 'SIMPLE_MOVEMENT' ...\")\n",
    "        gym_enviorment_movementset = 'Simple'\n",
    "        gym_enviorment = JoypadSpace(gym_enviorment, SIMPLE_MOVEMENT)\n",
    "    \n",
    "    print('Applied Gym-Enviorment-Movementset: {} ...'.format(gym_enviorment_movementset))\n",
    "    \n",
    "    if gym_enviorment_monitor:\n",
    "        record_spec_dir = '{}/{}'.format(record_base_dir, gym_enviorment_latest)\n",
    "        print('Creating Records-Folders {} ...'.format(record_spec_dir))\n",
    "        if not os.path.isdir(record_spec_dir):\n",
    "            os.mkdir(record_spec_dir)\n",
    "        else:\n",
    "            print('Records-Folders already exists ...')\n",
    "            \n",
    "        Monitor(gym_enviorment, record_spec_dir, force = True)\n",
    "        \n",
    "        print('Applied Gym-Enviorment-Montior ...')\n",
    "    else:\n",
    "        print('Skipped Gym-Enviorment-Montior ...')\n",
    "        \n",
    "    print('Initalizing Gym completed.')"
   ]
  },
  {
   "cell_type": "code",
   "execution_count": 20,
   "metadata": {
    "ExecuteTime": {
     "end_time": "2020-04-25T10:42:54.279229Z",
     "start_time": "2020-04-25T10:42:54.166472Z"
    }
   },
   "outputs": [],
   "source": [
    "def run_gym():\n",
    "    %%capture\n",
    "    \n",
    "    global observation\n",
    "    global gym_enviorment\n",
    "    \n",
    "    while True:\n",
    "        observation, _, done, info = gym_enviorment.step(gym_enviorment.action_space.sample())\n",
    "        \n",
    "        if done:\n",
    "            observation = gym_enviorment.reset()\n",
    "            break\n",
    "        \n",
    "        gym_enviorment.render()"
   ]
  },
  {
   "cell_type": "code",
   "execution_count": 21,
   "metadata": {
    "ExecuteTime": {
     "end_time": "2020-04-25T10:42:54.387378Z",
     "start_time": "2020-04-25T10:42:54.282698Z"
    }
   },
   "outputs": [],
   "source": [
    "def run_gym_epoches():\n",
    "    global max_amount_of_epoches\n",
    "    global gym_enviorment\n",
    "    \n",
    "    init_gym()\n",
    "    \n",
    "    print(\"\\nStarting Gym ...\")\n",
    "    gym_enviorment.reset()\n",
    "    \n",
    "    print(\"Applied {} Epochs ...\\nStarting Epoches-Loop ...\\n\".format(max_amount_of_epoches))\n",
    "    \n",
    "    cur_amount_of_epoches = 1\n",
    "    while cur_amount_of_epoches <= max_amount_of_epoches:\n",
    "        print('Runing Gym {} / {} ...'.format(cur_amount_of_epoches, max_amount_of_epoches))\n",
    "        run_gym()\n",
    "        print('Completed Gym {} / {} ...'.format(cur_amount_of_epoches, max_amount_of_epoches))\n",
    "        cur_amount_of_epoches += 1\n",
    "    \n",
    "    print('Finished.')\n",
    "    #gym_enviorment.close()    "
   ]
  },
  {
   "cell_type": "code",
   "execution_count": null,
   "metadata": {
    "ExecuteTime": {
     "start_time": "2020-04-25T10:42:50.448Z"
    }
   },
   "outputs": [
    {
     "name": "stdout",
     "output_type": "stream",
     "text": [
      "Initalizing Gym ...\n"
     ]
    }
   ],
   "source": [
    "run_gym_epoches()"
   ]
  }
 ],
 "metadata": {
  "kernelspec": {
   "display_name": "Python 3",
   "language": "python",
   "name": "python3"
  },
  "language_info": {
   "codemirror_mode": {
    "name": "ipython",
    "version": 3
   },
   "file_extension": ".py",
   "mimetype": "text/x-python",
   "name": "python",
   "nbconvert_exporter": "python",
   "pygments_lexer": "ipython3",
   "version": "3.7.3"
  }
 },
 "nbformat": 4,
 "nbformat_minor": 4
}
