{
 "cells": [
  {
   "cell_type": "markdown",
   "metadata": {},
   "source": [
    "[![Generic badge](https://img.shields.io/badge/License-Properitary-red.svg)](https://github.com/JanGaida/research_project_machine_learning_hshof_sose2020/blob/master/LICENSE.md) <br>\n",
    "[![Active Development](https://img.shields.io/badge/Maintenance%20Level-Actively%20Developed-brightgreen.svg)](https://github.com/JanGaida/research_project_machine_learning_hshof_sose2020/) <br>\n",
    "[![Ask Me Anything !](https://img.shields.io/badge/Ask%20me-anything-1abc9c.svg)](https://github.com/JanGaida/research_project_machine_learning_hshof_sose2020/issues) <br>\n",
    "[![Python 3.7.7](https://img.shields.io/badge/python-3.7.7-blue.svg)](https://www.python.org/downloads/release/python-377/)"
   ]
  },
  {
   "cell_type": "markdown",
   "metadata": {},
   "source": [
    "# <img src=\"https://upload.wikimedia.org/wikipedia/commons/thumb/5/50/Logo_fh_hof.svg/2000px-Logo_fh_hof.svg.png\" width=\"300\" style=\"background-color:#FFF\">\n",
    "\n",
    "<font size=\"+4\"><i><u>Q-Learning mit 'Super Mario Bros'</u></i></font>\n",
    "\n",
    "Seminararbeit der Vorlesung **Angewandtes Maschinelles Lernen** an der **Hochschule für angewande Wissenschaften Hof** des **Sommersemesters 2020**."
   ]
  },
  {
   "cell_type": "markdown",
   "metadata": {},
   "source": [
    "# Vorbereitungen\n",
    "\n",
    "*Code der das Jupyter-Notebook vorbereit.*"
   ]
  },
  {
   "cell_type": "markdown",
   "metadata": {
    "ExecuteTime": {
     "end_time": "2020-04-24T12:01:21.619987Z",
     "start_time": "2020-04-24T12:01:21.615688Z"
    }
   },
   "source": [
    "## Notebook-Styling\n",
    "\n",
    "*Ändert u.a. das Layout des Notebooks.*"
   ]
  },
  {
   "cell_type": "code",
   "execution_count": 1,
   "metadata": {
    "ExecuteTime": {
     "end_time": "2020-04-25T17:37:16.160102Z",
     "start_time": "2020-04-25T17:37:16.147045Z"
    }
   },
   "outputs": [
    {
     "data": {
      "text/html": [
       "<style>.container { width: 80% !important; }</style>"
      ],
      "text/plain": [
       "<IPython.core.display.HTML object>"
      ]
     },
     "metadata": {},
     "output_type": "display_data"
    }
   ],
   "source": [
    "from IPython.core.display import display, HTML\n",
    "\n",
    "_notebook_relative_width = \"80%\" # Wertebereich: 0-100, muss nach HTML-Schema definiert sein\n",
    "display(HTML('<style>.container { width: ' + _notebook_relative_width + ' !important; }</style>'))"
   ]
  },
  {
   "cell_type": "markdown",
   "metadata": {},
   "source": [
    "## Requirements\n",
    "\n",
    "*Die benötigten Packages wurden aus der bei mir installierten Pip-Liste gebildet.*\n",
    "\n",
    "**Hinweis:** *Es werden* ***mehr als zwingend notwendige*** *Packages installiert.*"
   ]
  },
  {
   "cell_type": "code",
   "execution_count": 2,
   "metadata": {
    "ExecuteTime": {
     "end_time": "2020-04-25T17:37:16.240971Z",
     "start_time": "2020-04-25T17:37:16.161657Z"
    }
   },
   "outputs": [],
   "source": [
    "# Package-Liste\n",
    "#!pip list"
   ]
  },
  {
   "cell_type": "code",
   "execution_count": 3,
   "metadata": {
    "ExecuteTime": {
     "end_time": "2020-04-25T17:37:16.307034Z",
     "start_time": "2020-04-25T17:37:16.245349Z"
    }
   },
   "outputs": [],
   "source": [
    "%%capture\n",
    "# Installation\n",
    "#!pip3 install -r requirements.txt"
   ]
  },
  {
   "cell_type": "code",
   "execution_count": 4,
   "metadata": {
    "ExecuteTime": {
     "end_time": "2020-04-25T17:37:16.383373Z",
     "start_time": "2020-04-25T17:37:16.308411Z"
    }
   },
   "outputs": [],
   "source": [
    "%%capture\n",
    "# Update \n",
    "#!pip3 list --outdated --format=freeze | grep -v '^\\-e' | cut -d = -f 1  | xargs -n1 pip install -U"
   ]
  },
  {
   "cell_type": "code",
   "execution_count": 5,
   "metadata": {
    "ExecuteTime": {
     "end_time": "2020-04-25T17:37:16.569207Z",
     "start_time": "2020-04-25T17:37:16.386072Z"
    }
   },
   "outputs": [],
   "source": [
    "%%capture\n",
    "# Export Pip-Packages nach './requirements.txt'\n",
    "!pip3 freeze > requirements.txt"
   ]
  },
  {
   "cell_type": "markdown",
   "metadata": {},
   "source": [
    "# Konfiguration\n",
    "\n",
    "*Import-Statements & Vorbereitung der Frameworks/Module zusammengefasst.*"
   ]
  },
  {
   "cell_type": "markdown",
   "metadata": {},
   "source": [
    "## Allgemein\n",
    "\n",
    "*Nicht weiter spezifizierte Import-Statements, bspw. von System-Bibliotheken.*"
   ]
  },
  {
   "cell_type": "code",
   "execution_count": 6,
   "metadata": {
    "ExecuteTime": {
     "end_time": "2020-04-25T17:37:16.576644Z",
     "start_time": "2020-04-25T17:37:16.572311Z"
    }
   },
   "outputs": [],
   "source": [
    "import os\n",
    "from datetime import datetime"
   ]
  },
  {
   "cell_type": "code",
   "execution_count": 7,
   "metadata": {
    "ExecuteTime": {
     "end_time": "2020-04-25T17:37:16.657497Z",
     "start_time": "2020-04-25T17:37:16.577909Z"
    }
   },
   "outputs": [],
   "source": [
    "# Erstelle Logs-Folder falls nicht existent.\n",
    "logs_base_dir = \"./logs\"\n",
    "if not os.path.isdir(logs_base_dir):\n",
    "    !mkdir logs"
   ]
  },
  {
   "cell_type": "markdown",
   "metadata": {},
   "source": [
    "## Tensorflow\n",
    "\n",
    "<img src=\"https://upload.wikimedia.org/wikipedia/commons/thumb/1/11/TensorFlowLogo.svg/1280px-TensorFlowLogo.svg.png\" width=\"150px\"/>\n",
    "\n",
    "*TensorFlow ist ein Framework zur datenstromorientierten Programmierung. Es wird aus Python-Programmen heraus benutzt und ist in Python und C++ implementiert. Populäre Anwendung findet TensorFlow im Bereich des maschinellen Lernens. [...]*\n",
    "\n",
    "[Weiter Informationen](https://pypi.org/project/tensorflow/)"
   ]
  },
  {
   "cell_type": "code",
   "execution_count": 8,
   "metadata": {
    "ExecuteTime": {
     "end_time": "2020-04-25T17:37:17.807336Z",
     "start_time": "2020-04-25T17:37:16.661282Z"
    }
   },
   "outputs": [],
   "source": [
    "%%capture\n",
    "import tensorflow as tf"
   ]
  },
  {
   "cell_type": "markdown",
   "metadata": {},
   "source": [
    "## Tensorboard\n",
    "\n",
    "<img src=\"https://www.tensorflow.org/site-assets/images/project-logos/tensorboard-logo-social.png\" width=\"250px\"/>\n",
    "\n",
    "*TensorBoard ist ein Sammlung von Web-Applicationen um TensorFlow zu inspizieren und zu verstehen.*\n",
    "\n",
    "[Weitere Informationen](https://pypi.org/project/tensorboard/)"
   ]
  },
  {
   "cell_type": "code",
   "execution_count": 9,
   "metadata": {
    "ExecuteTime": {
     "end_time": "2020-04-25T17:37:17.811931Z",
     "start_time": "2020-04-25T17:37:17.808693Z"
    },
    "scrolled": true
   },
   "outputs": [],
   "source": [
    "%load_ext tensorboard"
   ]
  },
  {
   "cell_type": "code",
   "execution_count": 10,
   "metadata": {
    "ExecuteTime": {
     "end_time": "2020-04-25T17:37:19.396796Z",
     "start_time": "2020-04-25T17:37:17.812970Z"
    }
   },
   "outputs": [],
   "source": [
    "%%capture\n",
    "from tensorboard import notebook\n",
    "# Starten einer Tensorboard-Instanz mit Logs & gebindeten Ports\n",
    "%tensorboard --port=6007 --logdir {logs_base_dir} --bind_all\n",
    "# Auflisten der TensorBoard-Instanzen (resourcen intesiv)\n",
    "notebook.list()"
   ]
  },
  {
   "cell_type": "markdown",
   "metadata": {},
   "source": [
    "## IPyWidgets"
   ]
  },
  {
   "cell_type": "code",
   "execution_count": 11,
   "metadata": {
    "ExecuteTime": {
     "end_time": "2020-04-25T17:37:19.421673Z",
     "start_time": "2020-04-25T17:37:19.399490Z"
    }
   },
   "outputs": [],
   "source": [
    "import ipywidgets as widgets\n",
    "from ipywidgets import interact, interact_manual"
   ]
  },
  {
   "cell_type": "markdown",
   "metadata": {},
   "source": [
    "## PyVirtualDisplay\n",
    "*Ein python wrapper für Xvfb, Xephyr und Xvnc.*\n",
    "\n",
    "[Weiter Informationen](https://pypi.org/project/PyVirtualDisplay/)"
   ]
  },
  {
   "cell_type": "code",
   "execution_count": 12,
   "metadata": {
    "ExecuteTime": {
     "end_time": "2020-04-25T17:37:19.474941Z",
     "start_time": "2020-04-25T17:37:19.422676Z"
    }
   },
   "outputs": [
    {
     "name": "stdout",
     "output_type": "stream",
     "text": [
      "In case of failure in the next Code-Block consider installing python-opengl, xvfb, ffmpeg, x11-utils - Packages via apt-get.\n",
      "Use command 'sudo apt-get install -y python-opengl xvfb ffmpeg x11-utils > /dev/null' inside a terminal.\n"
     ]
    }
   ],
   "source": [
    "# videocode dependecies; x11-utils als workaround für 'xdpyinfo'\n",
    "print(\"In case of failure in the next Code-Block consider installing python-opengl, xvfb, ffmpeg, x11-utils - Packages via apt-get.\\nUse command 'sudo apt-get install -y python-opengl xvfb ffmpeg x11-utils > /dev/null' inside a terminal.\")"
   ]
  },
  {
   "cell_type": "code",
   "execution_count": 13,
   "metadata": {
    "ExecuteTime": {
     "end_time": "2020-04-25T17:37:19.631268Z",
     "start_time": "2020-04-25T17:37:19.476580Z"
    }
   },
   "outputs": [
    {
     "data": {
      "text/plain": [
       "<Display cmd_param=['Xvfb', '-br', '-nolisten', 'tcp', '-screen', '0', '1400x900x24', ':1257'] cmd=['Xvfb', '-br', '-nolisten', 'tcp', '-screen', '0', '1400x900x24', ':1257'] oserror=None return_code=None stdout=\"None\" stderr=\"None\" timeout_happened=False>"
      ]
     },
     "execution_count": 13,
     "metadata": {},
     "output_type": "execute_result"
    }
   ],
   "source": [
    "from pyvirtualdisplay import Display as PyVDisplay\n",
    "\n",
    "global record_base_dir\n",
    "\n",
    "record_base_dir = \"./mp4\"\n",
    "if not os.path.isdir(record_base_dir):\n",
    "    os.mkdir(record_base_dir)\n",
    "\n",
    "py_vdisplay = PyVDisplay(visible=0, size=(1400, 900))\n",
    "py_vdisplay.start()"
   ]
  },
  {
   "cell_type": "markdown",
   "metadata": {},
   "source": [
    "## OpenAI-Gym\n",
    "\n",
    "<img src=\"https://upload.wikimedia.org/wikipedia/commons/thumb/4/4d/OpenAI_Logo.svg/1920px-OpenAI_Logo.svg.png\" width=\"275px\"/>\n",
    "\n",
    "*OpenAI-Gym ist ein Toolkit für das Entwickeln und Vergleichen von Reinforcement-Learning-Algorithmen.*\n",
    "\n",
    "[Weitere Informationen](https://pypi.org/project/gym/)"
   ]
  },
  {
   "cell_type": "code",
   "execution_count": 14,
   "metadata": {
    "ExecuteTime": {
     "end_time": "2020-04-25T17:37:19.670793Z",
     "start_time": "2020-04-25T17:37:19.632469Z"
    }
   },
   "outputs": [],
   "source": [
    "import gym\n",
    "\n",
    "from gym.wrappers import Monitor\n",
    "from gym import logger as gymlogger\n",
    "\n",
    "# DEBUG = 10 # INFO = 20 # WARN = 30 # ERROR = 40 # DISABLED = 50\n",
    "gymlogger.set_level(50)"
   ]
  },
  {
   "cell_type": "markdown",
   "metadata": {},
   "source": [
    "## Gym-Super-Mario-Bros\n",
    "\n",
    "*Eine OpenAI-Gym-Umgebung für Super Mario Bros. und Super Mario Bros. 2 (Lost Levels) auf den NES (Nitendo Entertainment System) mithilfe des nes-py emulators.*\n",
    "\n",
    "[Weitere Informationen](https://pypi.org/project/gym-super-mario-bros/)"
   ]
  },
  {
   "cell_type": "markdown",
   "metadata": {},
   "source": [
    "<table><thead><tr><th>SuperMarioBros-v0</th><th>SuperMarioBros-v1</th><th>SuperMarioBros-v2</th><th>SuperMarioBros-v3</th><th>SuperMarioBros2-v0</th><th>SuperMarioBros2-v1</th></tr></thead><tbody><tr><td><img src=\"https://warehouse-camo.ingress.cmh1.psfhosted.org/c4717c633d3823dda390ebc21bac34b18e7c22c3/68747470733a2f2f757365722d696d616765732e67697468756275736572636f6e74656e742e636f6d2f323138343436392f34303934383832302d33643135653563322d363833302d313165382d383164342d6563666166666565306131342e706e67\" width=\"175\"></td><td><img src=\"https://warehouse-camo.ingress.cmh1.psfhosted.org/e8eda56caeefcada9af67f43385ef1f48d0ac394/68747470733a2f2f757365722d696d616765732e67697468756275736572636f6e74656e742e636f6d2f323138343436392f34303934383831392d33636666366334382d363833302d313165382d383337332d3866616431363635616337322e706e67\" width=\"175\"></td><td><img src=\"https://warehouse-camo.ingress.cmh1.psfhosted.org/7f53e40eb716be49673cf41fb833486ab3ee104a/68747470733a2f2f757365722d696d616765732e67697468756275736572636f6e74656e742e636f6d2f323138343436392f34303934383831382d33636561303964342d363833302d313165382d386566612d3866333464386230356231312e706e67\" width=\"175\"></td><td><img src=\"https://warehouse-camo.ingress.cmh1.psfhosted.org/51975e7cc634efb02ed92acfb56368733b25f4d9/68747470733a2f2f757365722d696d616765732e67697468756275736572636f6e74656e742e636f6d2f323138343436392f34303934383831372d33636436363030612d363833302d313165382d386162622d3963656536613331643337372e706e67\" width=\"175\"></td><td><img src=\"https://warehouse-camo.ingress.cmh1.psfhosted.org/0618011a5c6cedb9dba051b8cf134ba51dd0777a/68747470733a2f2f757365722d696d616765732e67697468756275736572636f6e74656e742e636f6d2f323138343436392f34303934383832322d33643362383431322d363833302d313165382d383630622d6166333830326635333733662e706e67\" width=\"175\"></td><td><img src=\"https://warehouse-camo.ingress.cmh1.psfhosted.org/7c42437f4d2f447e192c088eab22739534c2d9be/68747470733a2f2f757365722d696d616765732e67697468756275736572636f6e74656e742e636f6d2f323138343436392f34303934383832312d33643264363161322d363833302d313165382d383738392d6139326537353061613961382e706e67\" width=\"175\"></td></tr></tbody></table>"
   ]
  },
  {
   "cell_type": "code",
   "execution_count": 15,
   "metadata": {
    "ExecuteTime": {
     "end_time": "2020-04-25T17:37:19.768122Z",
     "start_time": "2020-04-25T17:37:19.671839Z"
    }
   },
   "outputs": [
    {
     "data": {
      "application/vnd.jupyter.widget-view+json": {
       "model_id": "5b785b0aacfc4e65a9b112a142d92467",
       "version_major": 2,
       "version_minor": 0
      },
      "text/plain": [
       "interactive(children=(Dropdown(description='Enviorment', options=('SuperMarioBros-v0', 'SuperMarioBros-v1', 'S…"
      ]
     },
     "metadata": {},
     "output_type": "display_data"
    }
   ],
   "source": [
    "import gym_super_mario_bros\n",
    "\n",
    "from nes_py.wrappers import JoypadSpace # nes_py is a direct dependency by gym_super_mario_bros\n",
    "from gym_super_mario_bros.actions import RIGHT_ONLY, SIMPLE_MOVEMENT, COMPLEX_MOVEMENT\n",
    "\n",
    "global gym_enviorment_id\n",
    "global gym_enviorment_movementset\n",
    "\n",
    "gym_enviorment_id = 'SuperMarioBros-v0'\n",
    "gym_enviorment_movementset = 'Simple'\n",
    "\n",
    "@interact\n",
    "def show_env_param(Enviorment=['SuperMarioBros-v0', 'SuperMarioBros-v1', 'SuperMarioBros-v2', 'SuperMarioBros-v3', 'SuperMarioBros2-v0', 'SuperMarioBros2-v1', 'SuperMarioBros2-v2', 'SuperMarioBros2-v3'],\n",
    "                   Movementset=['Simple', 'Complex', 'Only-Right']):\n",
    "    global gym_enviorment_id\n",
    "    global gym_enviorment_movementset\n",
    "    \n",
    "    gym_enviorment_id = Enviorment\n",
    "    gym_enviorment_movementset = Movementset\n",
    "    \n",
    "    return"
   ]
  },
  {
   "cell_type": "markdown",
   "metadata": {},
   "source": [
    "## Stable-Baselines\n",
    "\n",
    "*Stable Baselines ist eine Sammlung von optimierten Implementation von Reinforcement-Learning-Algorithmen basierend auf OpenAi.*\n",
    "\n",
    "[Weitere Informationen](https://pypi.org/project/stable-baselines/)"
   ]
  },
  {
   "cell_type": "code",
   "execution_count": 16,
   "metadata": {
    "ExecuteTime": {
     "end_time": "2020-04-25T17:37:20.434720Z",
     "start_time": "2020-04-25T17:37:19.769053Z"
    }
   },
   "outputs": [],
   "source": [
    "from stable_baselines import PPO2"
   ]
  },
  {
   "cell_type": "markdown",
   "metadata": {},
   "source": [
    "# Pre-Training\n",
    "\n",
    "*Code der vor dem Traniern ausgeführt wird.*"
   ]
  },
  {
   "cell_type": "markdown",
   "metadata": {},
   "source": [
    "## Trainings-Parameter"
   ]
  },
  {
   "cell_type": "markdown",
   "metadata": {},
   "source": [
    "### Trainings-Epochen"
   ]
  },
  {
   "cell_type": "code",
   "execution_count": 17,
   "metadata": {
    "ExecuteTime": {
     "end_time": "2020-04-25T17:37:20.452733Z",
     "start_time": "2020-04-25T17:37:20.435871Z"
    }
   },
   "outputs": [
    {
     "name": "stdout",
     "output_type": "stream",
     "text": [
      "Geben Sie eine Anzahl an zu trainierenden Epochen ein (Wertebereich: 1-∞; Default: 1).\n"
     ]
    },
    {
     "data": {
      "application/vnd.jupyter.widget-view+json": {
       "model_id": "62047d6cc80045899dacdfdcb25f9e1e",
       "version_major": 2,
       "version_minor": 0
      },
      "text/plain": [
       "interactive(children=(Text(value='', description='Epochen'), Output()), _dom_classes=('widget-interact',))"
      ]
     },
     "metadata": {},
     "output_type": "display_data"
    }
   ],
   "source": [
    "print('Geben Sie eine Anzahl an zu trainierenden Epochen ein (Wertebereich: 1-∞; Default: 1).')\n",
    "\n",
    "max_amount_of_epoches = 1\n",
    "\n",
    "@interact\n",
    "def show_articles_more_than(Epochen=''):\n",
    "    global max_amount_of_epoches\n",
    "    try:\n",
    "        tmp = int(Epochen)\n",
    "        \n",
    "        if tmp > 0:\n",
    "            max_amount_of_epoches = tmp\n",
    "            print('Epochen-Anzahl in Höhe von {} angewandt.'.format(max_amount_of_epoches))\n",
    "        else:\n",
    "            max_amount_of_epoches = 1\n",
    "            print('Default-Anzahl in Höhe von 1 Epochen angewandt.')\n",
    "    except ValueError:\n",
    "        max_amount_of_epoches = 1\n",
    "        print('Default-Anzahl in Höhe von 1 Epochen angewandt.')"
   ]
  },
  {
   "cell_type": "markdown",
   "metadata": {},
   "source": [
    "### Monitor-Funktion"
   ]
  },
  {
   "cell_type": "code",
   "execution_count": 18,
   "metadata": {
    "ExecuteTime": {
     "end_time": "2020-04-25T17:37:20.568927Z",
     "start_time": "2020-04-25T17:37:20.453722Z"
    }
   },
   "outputs": [
    {
     "data": {
      "application/vnd.jupyter.widget-view+json": {
       "model_id": "a818cc898534448c978ce05ff9409c90",
       "version_major": 2,
       "version_minor": 0
      },
      "text/plain": [
       "interactive(children=(Checkbox(value=True, description='Mointor_Run'), Output()), _dom_classes=('widget-intera…"
      ]
     },
     "metadata": {},
     "output_type": "display_data"
    }
   ],
   "source": [
    "global gym_enviorment_monitor\n",
    "\n",
    "gym_enviorment_monitor = True\n",
    "\n",
    "@interact\n",
    "def show_monitor_param(Mointor_Run = True):\n",
    "    global gym_enviorment_monitor\n",
    "    gym_enviorment_monitor = Mointor_Run\n",
    "    return"
   ]
  },
  {
   "cell_type": "markdown",
   "metadata": {},
   "source": [
    "## Reward-Funktionen\n",
    "\n",
    "*Belohnungsfunktionen zum lernen.*"
   ]
  },
  {
   "cell_type": "code",
   "execution_count": null,
   "metadata": {},
   "outputs": [],
   "source": []
  },
  {
   "cell_type": "markdown",
   "metadata": {},
   "source": [
    "# Training"
   ]
  },
  {
   "cell_type": "markdown",
   "metadata": {},
   "source": [
    "## Helpers"
   ]
  },
  {
   "cell_type": "markdown",
   "metadata": {},
   "source": [
    "### Env"
   ]
  },
  {
   "cell_type": "code",
   "execution_count": 19,
   "metadata": {
    "ExecuteTime": {
     "end_time": "2020-04-25T17:37:20.633164Z",
     "start_time": "2020-04-25T17:37:20.569934Z"
    }
   },
   "outputs": [],
   "source": [
    "def init_env():\n",
    "    global gym_enviorment\n",
    "    global gym_enviorment_id\n",
    "    global gym_enviorment_movementset\n",
    "    \n",
    "    if gym_enviorment == None:\n",
    "        # Create new Enviorment\n",
    "        print(\"Intializing Gym ...\\nApplying Gym-Enviorment-Id \\\"{}\\\" ...\".format(gym_enviorment_id))\n",
    "        gym_enviorment = gym.make(gym_enviorment_id)\n",
    "            \n",
    "        if gym_enviorment_movementset == 'Complex':\n",
    "            gym_enviorment = JoypadSpace(gym_enviorment, COMPLEX_MOVEMENT)\n",
    "        elif gym_enviorment_movementset == 'Simple':\n",
    "            gym_enviorment = JoypadSpace(gym_enviorment, SIMPLE_MOVEMENT)\n",
    "        elif gym_enviorment_movementset == \"Only-Right\":\n",
    "            gym_enviorment = JoypadSpace(gym_enviorment, RIGHT_ONLY)\n",
    "        else:\n",
    "            print(\"Error: Gym-Movementset unknown ...\\nFalling back to 'SIMPLE_MOVEMENT' ...\")\n",
    "            gym_enviorment_movementset = 'Simple'\n",
    "            gym_enviorment = JoypadSpace(gym_enviorment, SIMPLE_MOVEMENT)\n",
    "        \n",
    "        print('Applied Gym-Enviorment-Movementset: {} ...\\nIntializing Gym completed ...'.format(gym_enviorment_movementset))\n",
    "    \n",
    "    else:\n",
    "        try:\n",
    "            print(\"Reusing Gym ...\")\n",
    "            gym_enviorment.reset()\n",
    "        except:\n",
    "            # When reset failed due to gym still beeing active\n",
    "            print(\"Reusing Gym failed...\")\n",
    "            gym_enviorment.close()\n",
    "        finally:\n",
    "            gym_enviorment = None\n",
    "            init_env()"
   ]
  },
  {
   "cell_type": "markdown",
   "metadata": {},
   "source": [
    "### Run"
   ]
  },
  {
   "cell_type": "code",
   "execution_count": 20,
   "metadata": {
    "ExecuteTime": {
     "end_time": "2020-04-25T17:37:20.744946Z",
     "start_time": "2020-04-25T17:37:20.634899Z"
    }
   },
   "outputs": [],
   "source": [
    "def init_run(cur_amount_of_epoches):\n",
    "    global gym_enviorment\n",
    "    global gym_enviorment_monitor\n",
    "    global gym_enviorment_run_path\n",
    "    \n",
    "    print(\"Initialzing Run-{} ...\".format(cur_amount_of_epoches))\n",
    "    \n",
    "    init_env()\n",
    "    \n",
    "    if gym_enviorment_monitor:\n",
    "        if not gym_enviorment_run_path == None:\n",
    "            # Create directory for the recordings of this specific run\n",
    "            gym_enviorment_monitor_path = \"{}/{}\".format(gym_enviorment_run_path, cur_amount_of_epoches)\n",
    "            print(\"Creating Videooutput-Path \\\"{}\\\" ...\".format(gym_enviorment_monitor_path))\n",
    "            if not os.path.isdir(gym_enviorment_monitor_path):\n",
    "                os.mkdir(gym_enviorment_monitor_path)\n",
    "            else:\n",
    "                print(\"Warning: \\\"{}\\\"-Path already exist while it should'nt have ...\".format(gym_enviorment_run_path))\n",
    "            \n",
    "            # Wrapp with Monitor\n",
    "            print(\"Wrapping Enviorment with Monitor ...\")\n",
    "            gym_enviorment = Monitor(gym_enviorment, gym_enviorment_monitor_path, force = False)\n",
    "            \n",
    "        else:\n",
    "            print(\"Warning: Enviorment_Monitor-Path is empty while it should'nt have ...\\nFailed attaching Monitor for run {} ...\".format(cur_amount_of_epoches))\n",
    "    \n",
    "    gym_enviorment.reset()\n",
    "    \n",
    "    print(\"Initialzing Run-{} completed...\".format(cur_amount_of_epoches))"
   ]
  },
  {
   "cell_type": "code",
   "execution_count": 21,
   "metadata": {
    "ExecuteTime": {
     "end_time": "2020-04-25T17:37:20.835414Z",
     "start_time": "2020-04-25T17:37:20.748588Z"
    }
   },
   "outputs": [],
   "source": [
    "def run_gym(cur_amount_of_epoches):\n",
    "    \n",
    "    init_run(cur_amount_of_epoches)\n",
    "\n",
    "    loop_render()\n",
    "    \n",
    "    deinit_run(cur_amount_of_epoches)"
   ]
  },
  {
   "cell_type": "code",
   "execution_count": 22,
   "metadata": {
    "ExecuteTime": {
     "end_time": "2020-04-25T17:37:20.900843Z",
     "start_time": "2020-04-25T17:37:20.837127Z"
    }
   },
   "outputs": [],
   "source": [
    "def deinit_run(cur_amount_of_epoches):\n",
    "    global gym_enviorment\n",
    "    \n",
    "    print(\"Deinitialzing Run-{} ...\".format(cur_amount_of_epoches))\n",
    "    \n",
    "    print(\"Deinitialzing Run-{} completed...\".format(cur_amount_of_epoches))"
   ]
  },
  {
   "cell_type": "markdown",
   "metadata": {},
   "source": [
    "### Loop"
   ]
  },
  {
   "cell_type": "code",
   "execution_count": 23,
   "metadata": {
    "ExecuteTime": {
     "end_time": "2020-04-25T17:37:20.975597Z",
     "start_time": "2020-04-25T17:37:20.906961Z"
    }
   },
   "outputs": [],
   "source": [
    "def loop_render():\n",
    "    global gym_enviorment\n",
    "    global observation\n",
    "    \n",
    "    # Cleanup\n",
    "    observation = None\n",
    "    done = None\n",
    "    info = None\n",
    "    \n",
    "    print(\"Running ...\")\n",
    "    for step in range(2000): # for Debuging\n",
    "    #while True: # for actual Runs\n",
    "        \n",
    "        observation, _, done, info = gym_enviorment.step(gym_enviorment.action_space.sample());\n",
    "        \n",
    "        if done:\n",
    "            observation = gym_enviorment.reset();\n",
    "            break\n",
    "        \n",
    "        gym_enviorment.render();"
   ]
  },
  {
   "cell_type": "markdown",
   "metadata": {},
   "source": [
    "### Epoch"
   ]
  },
  {
   "cell_type": "code",
   "execution_count": 24,
   "metadata": {
    "ExecuteTime": {
     "end_time": "2020-04-25T17:37:21.079146Z",
     "start_time": "2020-04-25T17:37:20.978075Z"
    }
   },
   "outputs": [],
   "source": [
    "def init_epoches():\n",
    "    global max_amount_of_epoches\n",
    "    global record_base_dir\n",
    "    global gym_enviorment_run_path\n",
    "    global gym_enviorment_monitor\n",
    "    global gym_enviorment\n",
    "    \n",
    "    print(\"Initialzing Epoches-Runs ...\")\n",
    "    \n",
    "    # Init env var\n",
    "    if not 'gym_enviorment' in globals():\n",
    "        gym_enviorment = None\n",
    "        \n",
    "    # Prepare Directory\n",
    "    if gym_enviorment_monitor:\n",
    "        print(\"Preparing Epoches-Runs-Directory ...\")\n",
    "        # Create path with format: {record_base_dir}/run_{amount_runs}_{datetime_now}\n",
    "        gym_enviorment_run_path = '{}/run_{}_{}'.format(record_base_dir, max_amount_of_epoches, datetime.now().strftime(\"%d-%m-%Y_%H-%M-%S\"))\n",
    "    \n",
    "        # Ensure unique directory\n",
    "        if os.path.isdir(gym_enviorment_run_path):\n",
    "            gym_enviorment_run_path = '{}_uuid-{}'.format(gym_enviorment_run_path, uuid.uuid4())\n",
    "        \n",
    "        # Create dir\n",
    "        os.mkdir(gym_enviorment_run_path)\n",
    "        print(\"Epoches-Runs-Directory-Path is \\\"{}\\\" ...\".format(gym_enviorment_run_path))\n",
    "    else:\n",
    "        gym_enviorment_run_path = None\n",
    "        \n",
    "    print(\"Initialzing Epoches-Runs completed...\")"
   ]
  },
  {
   "cell_type": "code",
   "execution_count": 25,
   "metadata": {
    "ExecuteTime": {
     "end_time": "2020-04-25T17:37:21.142479Z",
     "start_time": "2020-04-25T17:37:21.081758Z"
    }
   },
   "outputs": [],
   "source": [
    "def run_gym_epoches():\n",
    "    global gym_enviorment_run_path\n",
    "    global max_amount_of_epoches\n",
    "    \n",
    "    print(\"Preparing ...\\nApplied maximum of {} Epoches ...\".format(max_amount_of_epoches))\n",
    "    init_epoches()\n",
    "    \n",
    "    print(\"Starting Epoches-Loop ...\\n\")\n",
    "    cur_amount_of_epoches = 1\n",
    "    while cur_amount_of_epoches <= max_amount_of_epoches:\n",
    "        print(\"\\nRunning Gym {}/{} ...\\n\".format(cur_amount_of_epoches, max_amount_of_epoches))\n",
    "        run_gym(cur_amount_of_epoches)\n",
    "        print('Finished Gym ...')\n",
    "        cur_amount_of_epoches += 1\n",
    "    \n",
    "    deinit_epoches()\n",
    "    print(\"Finished Epoches ...\\n\")"
   ]
  },
  {
   "cell_type": "code",
   "execution_count": 26,
   "metadata": {
    "ExecuteTime": {
     "end_time": "2020-04-25T17:37:21.245651Z",
     "start_time": "2020-04-25T17:37:21.145091Z"
    }
   },
   "outputs": [],
   "source": [
    "def deinit_epoches():\n",
    "    global gym_enviorment\n",
    "    \n",
    "    print(\"Deinitialzing Epoches ...\")\n",
    "    \n",
    "    if not gym_enviorment == None:\n",
    "        gym_enviorment.close()\n",
    "        gym_enviorment = None\n",
    "    \n",
    "    print(\"Deinitialzing completed...\")"
   ]
  },
  {
   "cell_type": "markdown",
   "metadata": {},
   "source": [
    "## Start"
   ]
  },
  {
   "cell_type": "markdown",
   "metadata": {},
   "source": [
    "Call-Reihenfolge ist:\n",
    "\n",
    "```\n",
    "run_gym_epoches\n",
    "|> init_epoches\n",
    "|      run_gym\n",
    "|      |> init_run\n",
    "|      |      |> init_env\n",
    "|      |> loop_render\n",
    "|      |> deinit_run\n",
    "|> deinit_epoches\n",
    "```"
   ]
  },
  {
   "cell_type": "code",
   "execution_count": 27,
   "metadata": {
    "ExecuteTime": {
     "end_time": "2020-04-25T17:37:31.365588Z",
     "start_time": "2020-04-25T17:37:21.248292Z"
    },
    "scrolled": true
   },
   "outputs": [
    {
     "name": "stdout",
     "output_type": "stream",
     "text": [
      "Preparing ...\n",
      "Applied maximum of 1 Epoches ...\n",
      "Initialzing Epoches-Runs ...\n",
      "Preparing Epoches-Runs-Directory ...\n",
      "Epoches-Runs-Directory-Path is \"./mp4/run_1_25-04-2020_19-37-21\" ...\n",
      "Initialzing Epoches-Runs completed...\n",
      "Starting Epoches-Loop ...\n",
      "\n",
      "\n",
      "Running Gym 1/1 ...\n",
      "\n",
      "Initialzing Run-1 ...\n",
      "Intializing Gym ...\n",
      "Applying Gym-Enviorment-Id \"SuperMarioBros-v0\" ...\n",
      "Applied Gym-Enviorment-Movementset: Simple ...\n",
      "Intializing Gym completed ...\n",
      "Creating Videooutput-Path \"./mp4/run_1_25-04-2020_19-37-21/1\" ...\n",
      "Wrapping Enviorment with Monitor ...\n",
      "Initialzing Run-1 completed...\n",
      "Running ...\n"
     ]
    },
    {
     "name": "stderr",
     "output_type": "stream",
     "text": [
      "/home/jan/anaconda3/lib/python3.7/site-packages/gym_super_mario_bros/smb_env.py:148: RuntimeWarning: overflow encountered in ubyte_scalars\n",
      "  return (self.ram[0x86] - self.ram[0x071c]) % 256\n"
     ]
    },
    {
     "name": "stdout",
     "output_type": "stream",
     "text": [
      "Deinitialzing Run-1 ...\n",
      "Deinitialzing Run-1 completed...\n",
      "Finished Gym ...\n",
      "Deinitialzing Epoches ...\n",
      "Deinitialzing completed...\n",
      "Finished Epoches ...\n",
      "\n"
     ]
    },
    {
     "name": "stderr",
     "output_type": "stream",
     "text": [
      "Exception ignored in: <function Monitor.__del__ at 0x7f5802e17560>\n",
      "Traceback (most recent call last):\n",
      "  File \"/home/jan/anaconda3/lib/python3.7/site-packages/gym/wrappers/monitor.py\", line 229, in __del__\n",
      "    self.close()\n",
      "  File \"/home/jan/anaconda3/lib/python3.7/site-packages/gym/wrappers/monitor.py\", line 134, in close\n",
      "    super(Monitor, self).close()\n",
      "  File \"/home/jan/anaconda3/lib/python3.7/site-packages/gym/core.py\", line 238, in close\n",
      "    return self.env.close()\n",
      "  File \"/home/jan/anaconda3/lib/python3.7/site-packages/gym/core.py\", line 238, in close\n",
      "    return self.env.close()\n",
      "  File \"/home/jan/anaconda3/lib/python3.7/site-packages/gym/core.py\", line 238, in close\n",
      "    return self.env.close()\n",
      "  File \"/home/jan/anaconda3/lib/python3.7/site-packages/nes_py/nes_env.py\", line 338, in close\n",
      "    raise ValueError('env has already been closed.')\n",
      "ValueError: env has already been closed.\n"
     ]
    }
   ],
   "source": [
    "run_gym_epoches()"
   ]
  }
 ],
 "metadata": {
  "kernelspec": {
   "display_name": "Python 3",
   "language": "python",
   "name": "python3"
  },
  "language_info": {
   "codemirror_mode": {
    "name": "ipython",
    "version": 3
   },
   "file_extension": ".py",
   "mimetype": "text/x-python",
   "name": "python",
   "nbconvert_exporter": "python",
   "pygments_lexer": "ipython3",
   "version": "3.7.6"
  },
  "toc": {
   "base_numbering": 1,
   "nav_menu": {},
   "number_sections": true,
   "sideBar": true,
   "skip_h1_title": false,
   "title_cell": "Table of Contents",
   "title_sidebar": "Contents",
   "toc_cell": false,
   "toc_position": {
    "height": "calc(100% - 180px)",
    "left": "10px",
    "top": "150px",
    "width": "352px"
   },
   "toc_section_display": true,
   "toc_window_display": true
  }
 },
 "nbformat": 4,
 "nbformat_minor": 4
}
