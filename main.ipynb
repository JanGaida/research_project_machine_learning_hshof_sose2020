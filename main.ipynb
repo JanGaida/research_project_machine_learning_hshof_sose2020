{
 "cells": [
  {
   "cell_type": "markdown",
   "metadata": {},
   "source": [
    "[![Generic badge](https://img.shields.io/badge/License-Properitary-red.svg)](https://github.com/JanGaida/research_project_machine_learning_hshof_sose2020/blob/master/LICENSE.md) <br>\n",
    "[![Active Development](https://img.shields.io/badge/Maintenance%20Level-Actively%20Developed-brightgreen.svg)](https://github.com/JanGaida/research_project_machine_learning_hshof_sose2020/) <br>\n",
    "[![Ask Me Anything !](https://img.shields.io/badge/Ask%20me-anything-1abc9c.svg)](https://github.com/JanGaida/research_project_machine_learning_hshof_sose2020/issues) <br>\n",
    "[![Python 3.7.7](https://img.shields.io/badge/python-3.7.7-blue.svg)](https://www.python.org/downloads/release/python-377/)"
   ]
  },
  {
   "cell_type": "markdown",
   "metadata": {
    "heading_collapsed": true
   },
   "source": [
    "# <img src=\"https://upload.wikimedia.org/wikipedia/commons/thumb/5/50/Logo_fh_hof.svg/2000px-Logo_fh_hof.svg.png\" width=\"300\" style=\"background-color:#FFF\">\n",
    "\n",
    "<font size=\"+4\"><i><u>Q-Learning mit 'Super Mario Bros'</u></i></font>\n",
    "\n",
    "Seminararbeit der Vorlesung **Angewandtes Maschinelles Lernen** an der **Hochschule für angewande Wissenschaften Hof** des **Sommersemesters 2020**."
   ]
  },
  {
   "cell_type": "markdown",
   "metadata": {},
   "source": [
    "# Vorbereitungen\n",
    "\n",
    "*Code der das Jupyter-Notebook vorbereit.*"
   ]
  },
  {
   "cell_type": "markdown",
   "metadata": {
    "ExecuteTime": {
     "end_time": "2020-04-24T12:01:21.619987Z",
     "start_time": "2020-04-24T12:01:21.615688Z"
    }
   },
   "source": [
    "## Notebook-Styling\n",
    "\n",
    "*Ändert u.a. das Layout des Notebooks.*"
   ]
  },
  {
   "cell_type": "code",
   "execution_count": 1,
   "metadata": {
    "ExecuteTime": {
     "end_time": "2020-04-24T13:06:31.886379Z",
     "start_time": "2020-04-24T13:06:31.876303Z"
    }
   },
   "outputs": [
    {
     "data": {
      "text/html": [
       "<style>.container { width: 95% !important; }</style>"
      ],
      "text/plain": [
       "<IPython.core.display.HTML object>"
      ]
     },
     "metadata": {},
     "output_type": "display_data"
    }
   ],
   "source": [
    "from IPython.core.display import display, HTML\n",
    "\n",
    "_notebook_relative_width = \"95%\" # Wertebereich: 0-100, muss nach HTML-Schema definiert sein\n",
    "display(HTML('<style>.container { width: ' + _notebook_relative_width + ' !important; }</style>'))"
   ]
  },
  {
   "cell_type": "markdown",
   "metadata": {},
   "source": [
    "## Requirements\n",
    "\n",
    "*Die benötigten Packages wurden aus der bei mir installierten Pip-Liste gebildet.*\n",
    "\n",
    "**Hinweis:** *Es werden* ***mehr als zwingend notwendige*** *Packages installiert.*"
   ]
  },
  {
   "cell_type": "code",
   "execution_count": 2,
   "metadata": {
    "ExecuteTime": {
     "end_time": "2020-04-24T13:06:33.191142Z",
     "start_time": "2020-04-24T13:06:31.888495Z"
    }
   },
   "outputs": [
    {
     "name": "stdout",
     "output_type": "stream",
     "text": [
      "Package                           Version            \r\n",
      "--------------------------------- -------------------\r\n",
      "absl-py                           0.9.0              \r\n",
      "alembic                           1.4.1              \r\n",
      "astor                             0.8.1              \r\n",
      "async-generator                   1.10               \r\n",
      "attrs                             19.3.0             \r\n",
      "backcall                          0.1.0              \r\n",
      "beautifulsoup4                    4.8.2              \r\n",
      "bleach                            3.1.3              \r\n",
      "blinker                           1.4                \r\n",
      "bokeh                             1.4.0              \r\n",
      "cachetools                        4.0.0              \r\n",
      "certifi                           2019.11.28         \r\n",
      "certipy                           0.1.3              \r\n",
      "cffi                              1.14.0             \r\n",
      "chardet                           3.0.4              \r\n",
      "click                             7.1.1              \r\n",
      "cloudpickle                       1.3.0              \r\n",
      "conda                             4.8.2              \r\n",
      "conda-package-handling            1.6.0              \r\n",
      "cryptography                      2.8                \r\n",
      "cycler                            0.10.0             \r\n",
      "Cython                            0.29.15            \r\n",
      "cytoolz                           0.10.1             \r\n",
      "dask                              2.11.0             \r\n",
      "decorator                         4.4.2              \r\n",
      "defusedxml                        0.6.0              \r\n",
      "dill                              0.3.1.1            \r\n",
      "distributed                       2.12.0             \r\n",
      "entrypoints                       0.3                \r\n",
      "fsspec                            0.6.2              \r\n",
      "gast                              0.2.2              \r\n",
      "google-auth                       1.11.3             \r\n",
      "google-auth-oauthlib              0.4.1              \r\n",
      "google-pasta                      0.2.0              \r\n",
      "grpcio                            1.27.2             \r\n",
      "h5py                              2.10.0             \r\n",
      "HeapDict                          1.0.1              \r\n",
      "idna                              2.9                \r\n",
      "imageio                           2.8.0              \r\n",
      "importlib-metadata                1.5.0              \r\n",
      "ipykernel                         5.1.4              \r\n",
      "ipympl                            0.5.3              \r\n",
      "ipython                           7.13.0             \r\n",
      "ipython-genutils                  0.2.0              \r\n",
      "ipywidgets                        7.5.1              \r\n",
      "jedi                              0.16.0             \r\n",
      "Jinja2                            2.11.1             \r\n",
      "joblib                            0.14.1             \r\n",
      "json5                             0.9.0              \r\n",
      "jsonschema                        3.2.0              \r\n",
      "jupyter-client                    6.0.0              \r\n",
      "jupyter-contrib-core              0.3.3              \r\n",
      "jupyter-contrib-nbextensions      0.5.1              \r\n",
      "jupyter-core                      4.6.3              \r\n",
      "jupyter-highlight-selected-word   0.2.0              \r\n",
      "jupyter-latex-envs                1.4.6              \r\n",
      "jupyter-nbextensions-configurator 0.4.1              \r\n",
      "jupyter-telemetry                 0.0.5              \r\n",
      "jupyterhub                        1.1.0              \r\n",
      "jupyterlab                        2.0.1              \r\n",
      "jupyterlab-server                 1.0.7              \r\n",
      "jupyterthemes                     0.20.0             \r\n",
      "Keras-Applications                1.0.8              \r\n",
      "Keras-Preprocessing               1.1.0              \r\n",
      "kiwisolver                        1.1.0              \r\n",
      "lesscpy                           0.14.0             \r\n",
      "llvmlite                          0.31.0             \r\n",
      "locket                            0.2.0              \r\n",
      "lxml                              4.5.0              \r\n",
      "Mako                              1.1.0              \r\n",
      "Markdown                          3.2.1              \r\n",
      "MarkupSafe                        1.1.1              \r\n",
      "matplotlib                        3.1.3              \r\n",
      "mistune                           0.8.4              \r\n",
      "mpmath                            1.1.0              \r\n",
      "msgpack                           1.0.0              \r\n",
      "nbconvert                         5.6.1              \r\n",
      "nbformat                          5.0.4              \r\n",
      "networkx                          2.4                \r\n",
      "notebook                          6.0.3              \r\n",
      "numba                             0.48.0             \r\n",
      "numexpr                           2.7.1              \r\n",
      "numpy                             1.18.1             \r\n",
      "oauthlib                          3.0.1              \r\n",
      "olefile                           0.46               \r\n",
      "opt-einsum                        3.2.0              \r\n",
      "packaging                         20.1               \r\n",
      "pamela                            1.0.0              \r\n",
      "pandas                            1.0.2              \r\n",
      "pandocfilters                     1.4.2              \r\n",
      "parso                             0.6.2              \r\n",
      "partd                             1.1.0              \r\n",
      "patsy                             0.5.1              \r\n",
      "pexpect                           4.8.0              \r\n",
      "pickleshare                       0.7.5              \r\n",
      "Pillow                            7.0.0              \r\n",
      "pip                               20.0.2             \r\n",
      "ply                               3.11               \r\n",
      "prometheus-client                 0.7.1              \r\n",
      "prompt-toolkit                    3.0.4              \r\n",
      "protobuf                          3.11.4             \r\n",
      "psutil                            5.7.0              \r\n",
      "ptyprocess                        0.6.0              \r\n",
      "pyasn1                            0.4.8              \r\n",
      "pyasn1-modules                    0.2.8              \r\n",
      "pycosat                           0.6.3              \r\n",
      "pycparser                         2.20               \r\n",
      "pycurl                            7.43.0.5           \r\n",
      "Pygments                          2.6.1              \r\n",
      "PyJWT                             1.7.1              \r\n",
      "pyOpenSSL                         19.1.0             \r\n",
      "pyparsing                         2.4.6              \r\n",
      "pyrsistent                        0.15.7             \r\n",
      "PySocks                           1.7.1              \r\n",
      "python-dateutil                   2.8.1              \r\n",
      "python-editor                     1.0.4              \r\n",
      "python-json-logger                0.1.11             \r\n",
      "pytz                              2019.3             \r\n",
      "PyWavelets                        1.1.1              \r\n",
      "PyYAML                            5.3                \r\n",
      "pyzmq                             19.0.0             \r\n",
      "requests                          2.23.0             \r\n",
      "requests-oauthlib                 1.3.0              \r\n",
      "rsa                               4.0                \r\n",
      "ruamel-yaml                       0.15.80            \r\n",
      "ruamel.yaml                       0.16.6             \r\n",
      "ruamel.yaml.clib                  0.2.0              \r\n",
      "scikit-image                      0.16.2             \r\n",
      "scikit-learn                      0.22.2.post1       \r\n",
      "scipy                             1.4.1              \r\n",
      "seaborn                           0.10.0             \r\n",
      "Send2Trash                        1.5.0              \r\n",
      "setuptools                        46.0.0.post20200311\r\n",
      "six                               1.14.0             \r\n",
      "sortedcontainers                  2.1.0              \r\n",
      "soupsieve                         1.9.4              \r\n",
      "SQLAlchemy                        1.3.15             \r\n",
      "statsmodels                       0.11.1             \r\n",
      "sympy                             1.5.1              \r\n",
      "tblib                             1.6.0              \r\n",
      "tensorboard                       2.1.1              \r\n",
      "tensorflow                        2.1.0              \r\n",
      "tensorflow-estimator              2.1.0              \r\n",
      "termcolor                         1.1.0              \r\n",
      "terminado                         0.8.3              \r\n",
      "testpath                          0.4.4              \r\n",
      "toolz                             0.10.0             \r\n",
      "tornado                           6.0.4              \r\n",
      "tqdm                              4.43.0             \r\n",
      "traitlets                         4.3.3              \r\n",
      "urllib3                           1.25.7             \r\n",
      "vincent                           0.4.4              \r\n",
      "wcwidth                           0.1.8              \r\n",
      "webencodings                      0.5.1              \r\n",
      "Werkzeug                          1.0.0              \r\n",
      "wheel                             0.34.2             \r\n",
      "widgetsnbextension                3.5.1              \r\n",
      "wrapt                             1.12.1             \r\n",
      "xlrd                              1.2.0              \r\n",
      "zict                              2.0.0              \r\n",
      "zipp                              3.1.0              \r\n"
     ]
    }
   ],
   "source": [
    "# Package-Liste\n",
    "!pip list"
   ]
  },
  {
   "cell_type": "code",
   "execution_count": 3,
   "metadata": {
    "ExecuteTime": {
     "end_time": "2020-04-24T13:06:33.197340Z",
     "start_time": "2020-04-24T13:06:33.193020Z"
    }
   },
   "outputs": [],
   "source": [
    "%%capture\n",
    "# Installation\n",
    "#!pip install -r requirements.txt"
   ]
  },
  {
   "cell_type": "code",
   "execution_count": 4,
   "metadata": {
    "ExecuteTime": {
     "end_time": "2020-04-24T13:07:02.315962Z",
     "start_time": "2020-04-24T13:06:33.199494Z"
    }
   },
   "outputs": [],
   "source": [
    "%%capture\n",
    "# Update \n",
    "!pip install -r requirements.txt --upgrade"
   ]
  },
  {
   "cell_type": "code",
   "execution_count": 5,
   "metadata": {
    "ExecuteTime": {
     "end_time": "2020-04-24T13:07:02.979684Z",
     "start_time": "2020-04-24T13:07:02.317698Z"
    }
   },
   "outputs": [],
   "source": [
    "%%capture\n",
    "# Export Pip-Packages nach './requirements.txt'\n",
    "!pip freeze > requirements.txt"
   ]
  },
  {
   "cell_type": "markdown",
   "metadata": {
    "heading_collapsed": true
   },
   "source": [
    "# Konfiguration\n",
    "\n",
    "*Import-Statements & Vorbereitung der Frameworks/Module zusammengefasst.*"
   ]
  },
  {
   "cell_type": "markdown",
   "metadata": {
    "hidden": true
   },
   "source": [
    "## Allgemein\n",
    "\n",
    "*Nicht weiter spezifizierte Import-Statements, bspw. von System-Bibliotheken.*"
   ]
  },
  {
   "cell_type": "code",
   "execution_count": 32,
   "metadata": {
    "ExecuteTime": {
     "end_time": "2020-04-24T13:34:24.247069Z",
     "start_time": "2020-04-24T13:34:23.960860Z"
    },
    "hidden": true
   },
   "outputs": [],
   "source": [
    "import datetime, os"
   ]
  },
  {
   "cell_type": "code",
   "execution_count": 34,
   "metadata": {
    "ExecuteTime": {
     "end_time": "2020-04-24T13:35:19.994257Z",
     "start_time": "2020-04-24T13:35:19.990799Z"
    },
    "hidden": true
   },
   "outputs": [],
   "source": [
    "# Erstelle Logs-Folder falls nicht existent.\n",
    "if not os.path.isdir(\"./logs\"):\n",
    "    !mkdir logs"
   ]
  },
  {
   "cell_type": "markdown",
   "metadata": {
    "heading_collapsed": true,
    "hidden": true
   },
   "source": [
    "## Tensorflow\n",
    "\n",
    "<img src=\"https://upload.wikimedia.org/wikipedia/commons/thumb/1/11/TensorFlowLogo.svg/1280px-TensorFlowLogo.svg.png\" width=\"150px\"/>\n",
    "\n",
    "*TensorFlow ist ein Framework zur datenstromorientierten Programmierung. Es wird aus Python-Programmen heraus benutzt und ist in Python und C++ implementiert. Populäre Anwendung findet TensorFlow im Bereich des maschinellen Lernens. [...]*\n",
    "\n",
    "[Weiter Informationen](https://pypi.org/project/tensorflow/)"
   ]
  },
  {
   "cell_type": "code",
   "execution_count": 7,
   "metadata": {
    "ExecuteTime": {
     "end_time": "2020-04-24T13:07:04.566171Z",
     "start_time": "2020-04-24T13:07:02.988989Z"
    },
    "hidden": true
   },
   "outputs": [],
   "source": [
    "import tensorflow as tf"
   ]
  },
  {
   "cell_type": "markdown",
   "metadata": {
    "hidden": true
   },
   "source": [
    "## Tensorboard\n",
    "\n",
    "<img src=\"https://www.tensorflow.org/site-assets/images/project-logos/tensorboard-logo-social.png\" width=\"250px\"/>\n",
    "\n",
    "TensorBoard ist ein Sammlung von Web-Applicationen um TensorFlow zu inspizieren und zu verstehen.\n",
    "\n",
    "[Weitere Informationen](https://pypi.org/project/tensorboard/)"
   ]
  },
  {
   "cell_type": "code",
   "execution_count": 35,
   "metadata": {
    "ExecuteTime": {
     "end_time": "2020-04-24T13:36:06.058333Z",
     "start_time": "2020-04-24T13:36:06.054278Z"
    },
    "hidden": true,
    "scrolled": true
   },
   "outputs": [
    {
     "name": "stdout",
     "output_type": "stream",
     "text": [
      "The tensorboard extension is already loaded. To reload it, use:\n",
      "  %reload_ext tensorboard\n"
     ]
    }
   ],
   "source": [
    "%load_ext tensorboard"
   ]
  },
  {
   "cell_type": "code",
   "execution_count": 36,
   "metadata": {
    "ExecuteTime": {
     "end_time": "2020-04-24T13:36:08.705682Z",
     "start_time": "2020-04-24T13:36:08.701338Z"
    },
    "hidden": true,
    "scrolled": true
   },
   "outputs": [
    {
     "name": "stdout",
     "output_type": "stream",
     "text": [
      "No known TensorBoard instances running.\n"
     ]
    }
   ],
   "source": [
    "from tensorboard import notebook\n",
    "\n",
    "#TensorBoard Instanzen:\n",
    "notebook.list() "
   ]
  },
  {
   "cell_type": "code",
   "execution_count": null,
   "metadata": {
    "ExecuteTime": {
     "start_time": "2020-04-24T13:36:24.386Z"
    },
    "hidden": true
   },
   "outputs": [
    {
     "name": "stdout",
     "output_type": "stream",
     "text": [
      "2020-04-24 13:36:25.528647: W tensorflow/stream_executor/platform/default/dso_loader.cc:55] Could not load dynamic library 'libnvinfer.so.6'; dlerror: libnvinfer.so.6: cannot open shared object file: No such file or directory\n",
      "2020-04-24 13:36:25.528775: W tensorflow/stream_executor/platform/default/dso_loader.cc:55] Could not load dynamic library 'libnvinfer_plugin.so.6'; dlerror: libnvinfer_plugin.so.6: cannot open shared object file: No such file or directory\n",
      "2020-04-24 13:36:25.528828: W tensorflow/compiler/tf2tensorrt/utils/py_utils.cc:30] Cannot dlopen some TensorRT libraries. If you would like to use Nvidia GPU with TensorRT, please make sure the missing libraries mentioned above are installed properly.\n",
      "TensorBoard 2.1.1 at http://localhost:6006/ (Press CTRL+C to quit)\n"
     ]
    }
   ],
   "source": [
    "!tensorboard --logdir=logs --host=localhost"
   ]
  },
  {
   "cell_type": "code",
   "execution_count": 14,
   "metadata": {
    "ExecuteTime": {
     "end_time": "2020-04-24T13:11:56.838681Z",
     "start_time": "2020-04-24T13:11:56.829390Z"
    },
    "hidden": true
   },
   "outputs": [
    {
     "data": {
      "text/plain": [
       "Reusing TensorBoard on port 6006 (pid 62), started 0:03:59 ago. (Use '!kill 62' to kill it.)"
      ]
     },
     "metadata": {},
     "output_type": "display_data"
    },
    {
     "data": {
      "text/html": [
       "\n",
       "      <iframe id=\"tensorboard-frame-c00666ef4c6620af\" width=\"100%\" height=\"800\" frameborder=\"0\">\n",
       "      </iframe>\n",
       "      <script>\n",
       "        (function() {\n",
       "          const frame = document.getElementById(\"tensorboard-frame-c00666ef4c6620af\");\n",
       "          const url = new URL(\"/\", window.location);\n",
       "          url.port = 6006;\n",
       "          frame.src = url;\n",
       "        })();\n",
       "      </script>\n",
       "  "
      ],
      "text/plain": [
       "<IPython.core.display.HTML object>"
      ]
     },
     "metadata": {},
     "output_type": "display_data"
    }
   ],
   "source": [
    "%tensorboard --logdir logs"
   ]
  },
  {
   "cell_type": "code",
   "execution_count": null,
   "metadata": {
    "hidden": true
   },
   "outputs": [],
   "source": []
  }
 ],
 "metadata": {
  "kernelspec": {
   "display_name": "Python 3",
   "language": "python",
   "name": "python3"
  },
  "language_info": {
   "codemirror_mode": {
    "name": "ipython",
    "version": 3
   },
   "file_extension": ".py",
   "mimetype": "text/x-python",
   "name": "python",
   "nbconvert_exporter": "python",
   "pygments_lexer": "ipython3",
   "version": "3.7.3"
  }
 },
 "nbformat": 4,
 "nbformat_minor": 4
}
