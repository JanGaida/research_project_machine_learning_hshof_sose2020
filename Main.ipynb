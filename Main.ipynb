{
 "cells": [
  {
   "cell_type": "markdown",
   "metadata": {},
   "source": [
    "<img src=\"https://upload.wikimedia.org/wikipedia/commons/thumb/5/50/Logo_fh_hof.svg/2000px-Logo_fh_hof.svg.png\" width=\"250\" style=\"background-color:#FFF\">"
   ]
  },
  {
   "cell_type": "markdown",
   "metadata": {},
   "source": [
    "---\n",
    "\n",
    "<p style=\"font-size:44px;\"><i><u>Q-Learning mit 'Super Mario Bros'</u></i></p>\n",
    "<br>\n",
    "<p style=\"font-size:16px;\">Seminararbeit der Vorlesung <b>Angewandtes Maschinelles Lernen</b> an der <b>Hochschule für angewande Wissenschaften Hof</b> des <b>Sommersemesters 2020</b>.</p>\n",
    "\n",
    "---"
   ]
  },
  {
   "cell_type": "markdown",
   "metadata": {
    "toc": true
   },
   "source": [
    "<h1>Inhaltsverzeichnis<span class=\"tocSkip\"></span></h1>\n",
    "<div class=\"toc\"><ul class=\"toc-item\"><li><span><a href=\"#Vorbereitungen\" data-toc-modified-id=\"Vorbereitungen-1\"><span class=\"toc-item-num\">1&nbsp;&nbsp;</span>Vorbereitungen</a></span></li><li><span><a href=\"#Bibliotheken\" data-toc-modified-id=\"Bibliotheken-2\"><span class=\"toc-item-num\">2&nbsp;&nbsp;</span>Bibliotheken</a></span><ul class=\"toc-item\"><li><span><a href=\"#OpenAI-Gym\" data-toc-modified-id=\"OpenAI-Gym-2.1\"><span class=\"toc-item-num\">2.1&nbsp;&nbsp;</span>OpenAI Gym</a></span></li><li><span><a href=\"#Torch\" data-toc-modified-id=\"Torch-2.2\"><span class=\"toc-item-num\">2.2&nbsp;&nbsp;</span>Torch</a></span></li><li><span><a href=\"#Tensorboard\" data-toc-modified-id=\"Tensorboard-2.3\"><span class=\"toc-item-num\">2.3&nbsp;&nbsp;</span>Tensorboard</a></span></li></ul></li><li><span><a href=\"#Klassen\" data-toc-modified-id=\"Klassen-3\"><span class=\"toc-item-num\">3&nbsp;&nbsp;</span>Klassen</a></span><ul class=\"toc-item\"><li><span><a href=\"#Super-Mario-Bros---Enviorment\" data-toc-modified-id=\"Super-Mario-Bros---Enviorment-3.1\"><span class=\"toc-item-num\">3.1&nbsp;&nbsp;</span>Super Mario Bros - Enviorment</a></span></li><li><span><a href=\"#Memory\" data-toc-modified-id=\"Memory-3.2\"><span class=\"toc-item-num\">3.2&nbsp;&nbsp;</span>Memory</a></span></li><li><span><a href=\"#Agent\" data-toc-modified-id=\"Agent-3.3\"><span class=\"toc-item-num\">3.3&nbsp;&nbsp;</span>Agent</a></span></li><li><span><a href=\"#Model\" data-toc-modified-id=\"Model-3.4\"><span class=\"toc-item-num\">3.4&nbsp;&nbsp;</span>Model</a></span></li></ul></li><li><span><a href=\"#Test-Run\" data-toc-modified-id=\"Test-Run-4\"><span class=\"toc-item-num\">4&nbsp;&nbsp;</span>Test-Run</a></span></li><li><span><a href=\"#Preprocessing\" data-toc-modified-id=\"Preprocessing-5\"><span class=\"toc-item-num\">5&nbsp;&nbsp;</span>Preprocessing</a></span></li><li><span><a href=\"#Training\" data-toc-modified-id=\"Training-6\"><span class=\"toc-item-num\">6&nbsp;&nbsp;</span>Training</a></span></li><li><span><a href=\"#Trainingsergebnis\" data-toc-modified-id=\"Trainingsergebnis-7\"><span class=\"toc-item-num\">7&nbsp;&nbsp;</span>Trainingsergebnis</a></span></li><li><span><a href=\"#Google-Colab\" data-toc-modified-id=\"Google-Colab-8\"><span class=\"toc-item-num\">8&nbsp;&nbsp;</span>Google-Colab</a></span></li><li><span><a href=\"#Referenzen\" data-toc-modified-id=\"Referenzen-9\"><span class=\"toc-item-num\">9&nbsp;&nbsp;</span>Referenzen</a></span></li></ul></div>"
   ]
  },
  {
   "cell_type": "markdown",
   "metadata": {},
   "source": [
    "---"
   ]
  },
  {
   "cell_type": "markdown",
   "metadata": {},
   "source": [
    "## Vorbereitungen"
   ]
  },
  {
   "cell_type": "markdown",
   "metadata": {},
   "source": [
    "Zu aller erst müssen ein paar Vorbereitungen getroffen werden ..."
   ]
  },
  {
   "cell_type": "code",
   "execution_count": 1,
   "metadata": {
    "ExecuteTime": {
     "end_time": "2020-05-02T16:21:58.462128Z",
     "start_time": "2020-05-02T16:21:57.533433Z"
    }
   },
   "outputs": [
    {
     "data": {
      "text/html": [
       "<style>.container { width: 80% !important; }</style>"
      ],
      "text/plain": [
       "<IPython.core.display.HTML object>"
      ]
     },
     "metadata": {},
     "output_type": "display_data"
    },
    {
     "name": "stdout",
     "output_type": "stream",
     "text": [
      "JupyterNotebook-Html-Container auf 80% Relative-Weite gestezt ...\n",
      "Requierments-Management gestartet ...\n",
      "Requierments-Management abgeschlossen ...\n",
      "Ordner-Management gestartet ...\n",
      "LOGS-Ordner ...\n",
      "... bereits vorhanden ...\n",
      "... entleeren übersprungen ...\n",
      "REC-Ordner ...\n",
      "... bereits vorhanden ...\n",
      "... entleert ...\n",
      "MODEL-Ordner ...\n",
      "... bereits vorhanden ...\n",
      "... entleeren übersprungen ...\n",
      "Ordner-Management abgeschlossen ...\n",
      "CUDA-Gpu entdeckt ...\n",
      "Initialisiere Hilfsfunktionen ...\n",
      "... \"show_video\" erzeugt ...\n",
      "... \"plot_rrs\" erzeugt ...\n",
      "... \"plot_avg_rrss\" erzeugt ...\n",
      "... abgeschlossen ...\n",
      "Vorbereitungen erfolgreich abgeschlossen ...\n"
     ]
    }
   ],
   "source": [
    "%run 'CLASS/Vorbereitungen.ipynb'"
   ]
  },
  {
   "cell_type": "markdown",
   "metadata": {},
   "source": [
    "Jetzt noch ein paar '*unwichtige*' Import-Statements ..."
   ]
  },
  {
   "cell_type": "code",
   "execution_count": 2,
   "metadata": {
    "ExecuteTime": {
     "end_time": "2020-05-02T16:21:58.465134Z",
     "start_time": "2020-05-02T16:21:58.463245Z"
    }
   },
   "outputs": [],
   "source": [
    "from IPython.utils.io import capture_output"
   ]
  },
  {
   "cell_type": "markdown",
   "metadata": {},
   "source": [
    "---"
   ]
  },
  {
   "cell_type": "markdown",
   "metadata": {
    "ExecuteTime": {
     "end_time": "2020-04-27T20:08:39.399241Z",
     "start_time": "2020-04-27T20:08:39.394114Z"
    }
   },
   "source": [
    "## Bibliotheken"
   ]
  },
  {
   "cell_type": "markdown",
   "metadata": {},
   "source": [
    "Jetzt werden die wesentlichen Bibliotheken importiert (evtl. konfiguriert) und kurz erklärt."
   ]
  },
  {
   "cell_type": "markdown",
   "metadata": {},
   "source": [
    "<br>\n",
    "<h3 style=\" clear: both;display: table;\">OpenAI Gym</h3>\n",
    "\n",
    "<div style=\"box-sizing: border-box;width:450px;margin-left: auto;margin-right: auto\">\n",
    "  \n",
    "<div style=\"float: left; width: 175px;padding: 5px;height: 175px\">\n",
    "<img src=\"https://i.gzn.jp/img/2017/05/26/openai-baselines-dqn/00.png\" width=\"175\" />\n",
    "</div>\n",
    "  \n",
    "<div style=\"float: left; width: 75px;padding: 5px;padding-top:30px;margin-left:30px;margin-left:30px\">\n",
    "<img src=\"https://upload.wikimedia.org/wikipedia/commons/thumb/8/86/A_perfect_SVG_heart.svg/1200px-A_perfect_SVG_heart.svg.png\" width=\"100\" />\n",
    "</div>\n",
    "  \n",
    "<div style=\"float: left; width: 125px;padding: 5px;height: 175px;\">\n",
    "<img src=\"https://warehouse-camo.ingress.cmh1.psfhosted.org/198f06f6c66355bf8b78cae634e8155028948538/68747470733a2f2f757365722d696d616765732e67697468756275736572636f6e74656e742e636f6d2f323138343436392f34303934393631332d37353432373333612d363833342d313165382d383935622d6365316363336166396462622e676966\" width=\"175\" />\n",
    "</div>\n",
    "</div>\n"
   ]
  },
  {
   "cell_type": "markdown",
   "metadata": {},
   "source": [
    "OpenAI-Gym ist ein Toolkit für das Entwickeln und Vergleichen von Reinforcement-Learning-Algorithmen.\n",
    "\n",
    "[Weitere Informationen](https://pypi.org/project/gym/)"
   ]
  },
  {
   "cell_type": "code",
   "execution_count": 3,
   "metadata": {
    "ExecuteTime": {
     "end_time": "2020-05-02T16:21:58.568964Z",
     "start_time": "2020-05-02T16:21:58.466620Z"
    }
   },
   "outputs": [],
   "source": [
    "import gym\n",
    "from gym import logger as gymlogger\n",
    "from gym.wrappers import Monitor"
   ]
  },
  {
   "cell_type": "code",
   "execution_count": 4,
   "metadata": {
    "ExecuteTime": {
     "end_time": "2020-05-02T16:21:58.614216Z",
     "start_time": "2020-05-02T16:21:58.570161Z"
    }
   },
   "outputs": [],
   "source": [
    "gymlogger.set_level(50) # 50: disabled, 40: error, 30: warning, 20: info, 10: debug"
   ]
  },
  {
   "cell_type": "markdown",
   "metadata": {},
   "source": [
    "Jetzt noch das <b>'Super Mario Bros'-Gym</b>.\n",
    "\n",
    "[Weitere Informationen](https://pypi.org/project/gym-super-mario-bros/)"
   ]
  },
  {
   "cell_type": "code",
   "execution_count": 5,
   "metadata": {
    "ExecuteTime": {
     "end_time": "2020-05-02T16:21:58.704187Z",
     "start_time": "2020-05-02T16:21:58.616064Z"
    }
   },
   "outputs": [],
   "source": [
    "import gym_super_mario_bros\n",
    "\n",
    "from nes_py.wrappers import JoypadSpace\n",
    "from gym_super_mario_bros.actions import RIGHT_ONLY, SIMPLE_MOVEMENT, COMPLEX_MOVEMENT"
   ]
  },
  {
   "cell_type": "markdown",
   "metadata": {},
   "source": [
    "<br>\n",
    "\n",
    "### Torch\n",
    "\n",
    "<img src=\"https://upload.wikimedia.org/wikipedia/commons/thumb/9/96/Pytorch_logo.png/800px-Pytorch_logo.png\" width=\"300\">"
   ]
  },
  {
   "cell_type": "markdown",
   "metadata": {
    "ExecuteTime": {
     "end_time": "2020-04-27T20:17:48.509681Z",
     "start_time": "2020-04-27T20:17:48.500744Z"
    }
   },
   "source": [
    "Ein Open-Source-Framework für maschinelles Lernen ähnlich wie Tensorflow.\n",
    "\n",
    "[Weitere Informationen](https://pypi.org/project/torch/1.5.0/)"
   ]
  },
  {
   "cell_type": "code",
   "execution_count": 6,
   "metadata": {
    "ExecuteTime": {
     "end_time": "2020-05-02T16:21:58.764325Z",
     "start_time": "2020-05-02T16:21:58.705142Z"
    }
   },
   "outputs": [],
   "source": [
    "import torch\n",
    "import torch.nn as nn\n",
    "import torch.optim as optim\n",
    "import torch.nn.functional as F"
   ]
  },
  {
   "cell_type": "code",
   "execution_count": 7,
   "metadata": {
    "ExecuteTime": {
     "end_time": "2020-05-02T16:21:58.839568Z",
     "start_time": "2020-05-02T16:21:58.765902Z"
    }
   },
   "outputs": [],
   "source": [
    "def get_torch_device():\n",
    "    \"\"\"Gibt die Device-ID zurück die für Torch verwendet wird.\"\"\"\n",
    "    return torch.device(\"cuda:0\" if torch.cuda.is_available() else \"cpu\")"
   ]
  },
  {
   "cell_type": "markdown",
   "metadata": {},
   "source": [
    "### Tensorboard"
   ]
  },
  {
   "cell_type": "code",
   "execution_count": 8,
   "metadata": {
    "ExecuteTime": {
     "end_time": "2020-05-02T16:21:59.114592Z",
     "start_time": "2020-05-02T16:21:58.843317Z"
    }
   },
   "outputs": [],
   "source": [
    "%%capture\n",
    "from torch.utils.tensorboard import SummaryWriter"
   ]
  },
  {
   "cell_type": "code",
   "execution_count": 9,
   "metadata": {
    "ExecuteTime": {
     "end_time": "2020-05-02T16:21:59.124178Z",
     "start_time": "2020-05-02T16:21:59.115762Z"
    }
   },
   "outputs": [
    {
     "name": "stdout",
     "output_type": "stream",
     "text": [
      "Open a terminal and launch Tensorboard manualy by typing:\n",
      "\n",
      "tensorboard --logdir ./LOGS\n"
     ]
    }
   ],
   "source": [
    "from datetime import datetime\n",
    "\n",
    "global _swriter\n",
    "global _LOGS_BASE_DIR\n",
    "global _ABSOLUTE_TRAINED_EPISODE\n",
    "\n",
    "_ABSOLUTE_TRAINED_EPISODE = 0\n",
    "\n",
    "_swriter = SummaryWriter(\"{}/DQN_{}\".format(_LOGS_BASE_DIR, datetime.now().strftime(\"%d-%m-%Y_%H-%M-%S\")))\n",
    "_swriter_topic_mario_positions = 'Mario\\'s Positionen'\n",
    "_swriter_mario_xpos            = '{}/X-Pos'.format(_swriter_topic_mario_positions)\n",
    "_swriter_mario_ypos            = '{}/Y-Post'.format(_swriter_topic_mario_positions)\n",
    "_swriter_topic_mario_stats = 'Mario\\'s Statistiken'\n",
    "_swriter_mario_status      = '{}/Status'.format(_swriter_topic_mario_stats)\n",
    "_swriter_mario_life        = '{}/Life'.format(_swriter_topic_mario_stats)\n",
    "_swriter_mario_flag        = '{}/Flag'.format(_swriter_topic_mario_stats)\n",
    "_swriter_topic_gym_stats = 'Gym\\'s Statistiken'\n",
    "_swriter_gym_time        = '{}/Total Time'.format(_swriter_topic_gym_stats)\n",
    "_swriter_gym_coins       = '{}/Coin'.format(_swriter_topic_gym_stats)\n",
    "_swriter_gym_score       = '{}/Score'.format(_swriter_topic_gym_stats)\n",
    "_swriter_topic_reward_stats = 'Reward Statistiken'\n",
    "_swriter_reward_reward      = '{}/Reward'.format(_swriter_topic_reward_stats)\n",
    "_swriter_reward_sumreward   = '{}/Summe-Reward'.format(_swriter_topic_reward_stats)\n",
    "_swriter_reward_avgreward   = '{}/Durchschnitt-Reward'.format(_swriter_topic_reward_stats)\n",
    "\n",
    "def write_rrs_to_tensorboard(rrs):\n",
    "    global _ABSOLUTE_TRAINED_EPISODE\n",
    "    global _swriter\n",
    "    \n",
    "    _ABSOLUTE_TRAINED_EPISODE += 1\n",
    "    \n",
    "    _swriter.add_scalar(_swriter_mario_xpos, rrs.x_pos, _ABSOLUTE_TRAINED_EPISODE)\n",
    "    _swriter.add_scalar(_swriter_mario_ypos, rrs.y_pos, _ABSOLUTE_TRAINED_EPISODE)\n",
    "    _swriter.add_scalar(_swriter_mario_status, rrs.status, _ABSOLUTE_TRAINED_EPISODE)\n",
    "    _swriter.add_scalar(_swriter_mario_life, rrs.life, _ABSOLUTE_TRAINED_EPISODE)\n",
    "    _swriter.add_scalar(_swriter_mario_flag, rrs.flag_get, _ABSOLUTE_TRAINED_EPISODE)\n",
    "    _swriter.add_scalar(_swriter_gym_time, rrs.total_time, _ABSOLUTE_TRAINED_EPISODE)\n",
    "    _swriter.add_scalar(_swriter_gym_coins, rrs.coins, _ABSOLUTE_TRAINED_EPISODE)\n",
    "    _swriter.add_scalar(_swriter_gym_score, rrs.score, _ABSOLUTE_TRAINED_EPISODE)\n",
    "    _swriter.add_scalar(_swriter_reward_reward, rrs.reward, _ABSOLUTE_TRAINED_EPISODE)\n",
    "    _swriter.add_scalar(_swriter_reward_sumreward, rrs.sum_reward, _ABSOLUTE_TRAINED_EPISODE)\n",
    "    _swriter.add_scalar(_swriter_reward_avgreward, rrs.avg_reward, _ABSOLUTE_TRAINED_EPISODE)\n",
    "\n",
    "print(\"Open a terminal and launch Tensorboard manualy by typing:\\n\\ntensorboard --logdir {}\".format(_LOGS_BASE_DIR))"
   ]
  },
  {
   "cell_type": "markdown",
   "metadata": {},
   "source": [
    "---"
   ]
  },
  {
   "cell_type": "markdown",
   "metadata": {
    "ExecuteTime": {
     "end_time": "2020-04-27T20:50:55.584125Z",
     "start_time": "2020-04-27T20:50:55.578783Z"
    }
   },
   "source": [
    "## Klassen"
   ]
  },
  {
   "cell_type": "markdown",
   "metadata": {},
   "source": [
    "Jetzt werden noch die ausgelagerten Klassen geladen. Sie werden dabei kurz vorgestellt - für genauere Informationen empfiehlt es sich in die jeweiligen JupyterNotebooks zugucken."
   ]
  },
  {
   "cell_type": "markdown",
   "metadata": {
    "ExecuteTime": {
     "end_time": "2020-04-27T20:55:32.559131Z",
     "start_time": "2020-04-27T20:55:32.553732Z"
    }
   },
   "source": [
    "### Super Mario Bros - Enviorment"
   ]
  },
  {
   "cell_type": "markdown",
   "metadata": {},
   "source": [
    "<table><thead><tr><th>SuperMarioBros-v0</th><th>SuperMarioBros-v1</th><th>SuperMarioBros-v2</th><th>SuperMarioBros-v3</th><th>SuperMarioBros2-v0</th><th>SuperMarioBros2-v1</th></tr></thead><tbody><tr><td><img src=\"https://warehouse-camo.ingress.cmh1.psfhosted.org/c4717c633d3823dda390ebc21bac34b18e7c22c3/68747470733a2f2f757365722d696d616765732e67697468756275736572636f6e74656e742e636f6d2f323138343436392f34303934383832302d33643135653563322d363833302d313165382d383164342d6563666166666565306131342e706e67\" width=\"175\"></td><td><img src=\"https://warehouse-camo.ingress.cmh1.psfhosted.org/e8eda56caeefcada9af67f43385ef1f48d0ac394/68747470733a2f2f757365722d696d616765732e67697468756275736572636f6e74656e742e636f6d2f323138343436392f34303934383831392d33636666366334382d363833302d313165382d383337332d3866616431363635616337322e706e67\" width=\"175\"></td><td><img src=\"https://warehouse-camo.ingress.cmh1.psfhosted.org/7f53e40eb716be49673cf41fb833486ab3ee104a/68747470733a2f2f757365722d696d616765732e67697468756275736572636f6e74656e742e636f6d2f323138343436392f34303934383831382d33636561303964342d363833302d313165382d386566612d3866333464386230356231312e706e67\" width=\"175\"></td><td><img src=\"https://warehouse-camo.ingress.cmh1.psfhosted.org/51975e7cc634efb02ed92acfb56368733b25f4d9/68747470733a2f2f757365722d696d616765732e67697468756275736572636f6e74656e742e636f6d2f323138343436392f34303934383831372d33636436363030612d363833302d313165382d386162622d3963656536613331643337372e706e67\" width=\"175\"></td><td><img src=\"https://warehouse-camo.ingress.cmh1.psfhosted.org/0618011a5c6cedb9dba051b8cf134ba51dd0777a/68747470733a2f2f757365722d696d616765732e67697468756275736572636f6e74656e742e636f6d2f323138343436392f34303934383832322d33643362383431322d363833302d313165382d383630622d6166333830326635333733662e706e67\" width=\"175\"></td><td><img src=\"https://warehouse-camo.ingress.cmh1.psfhosted.org/7c42437f4d2f447e192c088eab22739534c2d9be/68747470733a2f2f757365722d696d616765732e67697468756275736572636f6e74656e742e636f6d2f323138343436392f34303934383832312d33643264363161322d363833302d313165382d383738392d6139326537353061613961382e706e67\" width=\"175\"></td></tr></tbody></table>"
   ]
  },
  {
   "cell_type": "code",
   "execution_count": 10,
   "metadata": {
    "ExecuteTime": {
     "end_time": "2020-05-02T16:21:59.216074Z",
     "start_time": "2020-05-02T16:21:59.125292Z"
    }
   },
   "outputs": [
    {
     "name": "stdout",
     "output_type": "stream",
     "text": [
      "SuperMarioBrosEnviorment-Parameter auf Default-Werte gestetz ...\n"
     ]
    }
   ],
   "source": [
    "%run 'CLASS/SuperMarioBrosEnviorment.ipynb'\n",
    "\n",
    "global _GYM_ENV_ID\n",
    "global _GYM_ACTIONS\n",
    "global _MONITOR_RECORD_EVERY\n",
    "\n",
    "_GYM_ENV_ID = \"SuperMarioBros-v0\"\n",
    "\n",
    "# __Benchmark für 1000 Steps in dem Testlauf ohne Training o.ä.__\n",
    "# V0 -- 0:00:03.020264 -- 0:00:03.009269 --\n",
    "# V1 -- 0:00:03.018293 --\n",
    "# V2 -- 0:00:03.008501 --\n",
    "# V3 -- 0:00:03.036722 --"
   ]
  },
  {
   "cell_type": "markdown",
   "metadata": {},
   "source": [
    "### Memory"
   ]
  },
  {
   "cell_type": "code",
   "execution_count": 11,
   "metadata": {
    "ExecuteTime": {
     "end_time": "2020-05-02T16:21:59.263831Z",
     "start_time": "2020-05-02T16:21:59.217180Z"
    },
    "scrolled": true
   },
   "outputs": [
    {
     "name": "stdout",
     "output_type": "stream",
     "text": [
      "Memory-Device-Parameter initialisiert ...\n"
     ]
    }
   ],
   "source": [
    "%run 'CLASS/Memory.ipynb'"
   ]
  },
  {
   "cell_type": "markdown",
   "metadata": {
    "ExecuteTime": {
     "end_time": "2020-04-27T22:19:07.040248Z",
     "start_time": "2020-04-27T22:19:07.036256Z"
    }
   },
   "source": [
    "### Agent"
   ]
  },
  {
   "cell_type": "code",
   "execution_count": 12,
   "metadata": {
    "ExecuteTime": {
     "end_time": "2020-05-02T16:21:59.344600Z",
     "start_time": "2020-05-02T16:21:59.265011Z"
    },
    "scrolled": true
   },
   "outputs": [
    {
     "name": "stdout",
     "output_type": "stream",
     "text": [
      "AGENT-Parameter initialisiert ...\n",
      "... BUFFER_SIZE: 5000 ...\n",
      "... BATCH_SIZE: 256 ...\n",
      "... GAMMA: 0.99 ...\n",
      "... TAU: 0.001 ...\n",
      "... LR: 0.0005 ...\n",
      "... UPDATE_EVERY: 10 ...\n"
     ]
    }
   ],
   "source": [
    "%run 'CLASS/Agent.ipynb'"
   ]
  },
  {
   "cell_type": "markdown",
   "metadata": {},
   "source": [
    "### Model"
   ]
  },
  {
   "cell_type": "code",
   "execution_count": 13,
   "metadata": {
    "ExecuteTime": {
     "end_time": "2020-05-02T16:21:59.389934Z",
     "start_time": "2020-05-02T16:21:59.345615Z"
    }
   },
   "outputs": [],
   "source": [
    "%run 'CLASS/Model.ipynb'"
   ]
  },
  {
   "cell_type": "markdown",
   "metadata": {},
   "source": [
    "---"
   ]
  },
  {
   "cell_type": "markdown",
   "metadata": {},
   "source": [
    "## Test-Run"
   ]
  },
  {
   "cell_type": "markdown",
   "metadata": {},
   "source": [
    "Jetzt sind wir bereit für einen Run ! Hier wird <b>nur</b> demonstriert wie das Gym funktioniert. "
   ]
  },
  {
   "cell_type": "markdown",
   "metadata": {},
   "source": [
    "Folgendes soll passieren:\n",
    "\n",
    "- Es soll eine kurze Sequenz gespielt werden\n",
    "- Der Run soll als Video gespeichert werden\n",
    "- Die Aktionen sollen zufällig gewählt werden (hier werden sie reduziert um Mario bestmöglichst zu steuern)\n",
    "- Im Anschluss sollen das Video als auch Statistiken zu dem Run angezeigt werden"
   ]
  },
  {
   "cell_type": "code",
   "execution_count": 14,
   "metadata": {
    "ExecuteTime": {
     "end_time": "2020-05-02T16:21:59.431511Z",
     "start_time": "2020-05-02T16:21:59.390946Z"
    }
   },
   "outputs": [],
   "source": [
    "max_frames = 500\n",
    "testrun_frames = np.zeros( (max_frames, 240, 256, 3), dtype=np.uint8)\n",
    "\n",
    "def make_test_run(env):\n",
    "    \"\"\"\"\"\"\n",
    "    global max_frames\n",
    "    \n",
    "    # Reduziere mögliche Aktion auf für diesen Test-Run sinnvolle Aktionen\n",
    "    valid_actions = get_reduced_actionset()\n",
    "    available_actions = len(valid_actions)\n",
    "    \n",
    "    # Gebe die alle reduzierten Aktionen und ihre genau Bedeutung aus\n",
    "    actions_meaning = env._env.get_action_meanings()\n",
    "    filtered_actions_meaning = []\n",
    "    for i in valid_actions: filtered_actions_meaning.append(actions_meaning[i])\n",
    "    print('Mögliche Aktionen: {}'.format(filtered_actions_meaning)) \n",
    "        \n",
    "    # Beginne von neu\n",
    "    env.reset()\n",
    "\n",
    "    print('Beginne Testlauf ...')\n",
    "    timestart = datetime.now() # Zeitmessen vor dem Testdurchlauf\n",
    "    \n",
    "    # Wiederhole bis zu max_frames\n",
    "    for step in range(max_frames):\n",
    "        # Render Mario\n",
    "        testrun_frames[step] = env.render(mode = 'rgb_array')\n",
    "        # Wähle eine Aktion aus und mache den Schritt im Env\n",
    "        observation, reward, done, info = env.step( valid_actions[np.random.randint(available_actions) ])\n",
    "        # Stoppe wenn das Enviorment ferig ist\n",
    "        if done or env._reward_records[-1].flag_get:\n",
    "            break\n",
    "    \n",
    "    timeend = datetime.now()\n",
    "    print('... Testlauf abgeschlossen in {} ...'.format(timeend - timestart))"
   ]
  },
  {
   "cell_type": "markdown",
   "metadata": {},
   "source": [
    "Los gehts!"
   ]
  },
  {
   "cell_type": "code",
   "execution_count": null,
   "metadata": {
    "ExecuteTime": {
     "start_time": "2020-05-02T16:21:57.559Z"
    },
    "scrolled": false
   },
   "outputs": [
    {
     "name": "stdout",
     "output_type": "stream",
     "text": [
      "Initialisieren SuperMarioBrosEnviorment mit Parameter ...\n",
      "... ID: SuperMarioBros-v0\n",
      "... ACTIONS: [['NOOP'], ['right'], ['right', 'A'], ['right', 'B'], ['right', 'A', 'B'], ['A'], ['left']]\n",
      "... RECORD_EVERY: 1 ...\n",
      "... abgeschlossen ...\n",
      "Wrappe Enviormenter in Monitor ...\n",
      "... Video-Output-Pfad: \"./REC/run_02-05-2020_18-21-59__5fab826e-9360-4a53-857e-1591fb018560\" ...\n",
      "Mögliche Aktionen: ['right', 'right A', 'A']\n",
      "Beginne Testlauf ...\n"
     ]
    },
    {
     "name": "stderr",
     "output_type": "stream",
     "text": [
      "/home/jan/anaconda3/lib/python3.7/site-packages/gym_super_mario_bros/smb_env.py:148: RuntimeWarning: overflow encountered in ubyte_scalars\n",
      "  return (self.ram[0x86] - self.ram[0x071c]) % 256\n"
     ]
    }
   ],
   "source": [
    "env = SuperMarioBrosEnviorment() # Erzeuge das Enviorment \n",
    "videopath = env.monitor() # Nehmm das Gym auf\n",
    "results = make_test_run(env) # Mach ein Testdurchlauf\n",
    "env.close() # Beende das Enviorment\n",
    "show_video(videopath) # Zeige das aufgenomme Video an\n",
    "plot_rrs(env._reward_records) # Zeige die Reward-Record Statistiken"
   ]
  },
  {
   "cell_type": "markdown",
   "metadata": {},
   "source": [
    "## Preprocessing"
   ]
  },
  {
   "cell_type": "markdown",
   "metadata": {},
   "source": [
    "Für eine bessere Performance wird jedes Frame noch vereinfacht das sieht dann so aus..."
   ]
  },
  {
   "cell_type": "code",
   "execution_count": null,
   "metadata": {
    "ExecuteTime": {
     "start_time": "2020-05-02T16:21:57.562Z"
    }
   },
   "outputs": [],
   "source": [
    "def simplify_frame(frame):\n",
    "    frame = frame.sum(axis = -1) / 765 # farbtiefe reduzieren\n",
    "    frame = frame[20:210,:] # oben und unten abschneiden\n",
    "    frame = frame[::2,::2] # gesamtgröße halbieren\n",
    "    return frame\n",
    "\n",
    "# Zu Anzeige der Frames wird Plot genutzt\n",
    "fig, ax = plt.subplots(3,2, figsize=(24, 24))\n",
    "ax[0,0].set_title(\"Frame 0 (orginal):\")\n",
    "ax[0,0].imshow(testrun_frames[0])\n",
    "ax[0,1].set_title(\"Frame 0 (vereinfacht):\")\n",
    "ax[0,1].imshow(simplify_frame(testrun_frames[0]))\n",
    "\n",
    "ax[1,0].set_title(\"Frame {} (orginal):\".format(int(max_frames/2) - 1))\n",
    "ax[1,0].imshow(testrun_frames[int(max_frames/2) - 1 ])\n",
    "ax[1,1].set_title(\"Frame {} (vereinfacht):\".format(int(max_frames/2) - 1))\n",
    "ax[1,1].imshow(simplify_frame(testrun_frames[int(max_frames/2) - 1]))\n",
    "                  \n",
    "ax[2,0].set_title(\"Frame {} (orginal):\".format((max_frames - 1)))\n",
    "ax[2,0].imshow(testrun_frames[max_frames - 1])\n",
    "ax[2,1].set_title(\"Frame {} (vereinfacht):\".format((max_frames - 1)))\n",
    "ax[2,1].imshow(simplify_frame(testrun_frames[max_frames - 1]))"
   ]
  },
  {
   "cell_type": "markdown",
   "metadata": {},
   "source": [
    "## Training"
   ]
  },
  {
   "cell_type": "markdown",
   "metadata": {},
   "source": [
    "Jetzt wird trainiert!"
   ]
  },
  {
   "cell_type": "code",
   "execution_count": null,
   "metadata": {
    "ExecuteTime": {
     "start_time": "2020-05-02T16:21:57.564Z"
    },
    "scrolled": false
   },
   "outputs": [],
   "source": [
    "episode = 500\n",
    "discount_rate = .99\n",
    "noise = 0.05\n",
    "noise_decay = 0.99\n",
    "tmax = 50000\n",
    "\n",
    "env = SuperMarioBrosEnviorment()\n",
    "rewards = []\n",
    "\n",
    "# keep track of frames\n",
    "FRAME_SHAPE = (95, 128)\n",
    "MAX_FRAMES = 4\n",
    "nn_frames = deque(maxlen = MAX_FRAMES)\n",
    "\n",
    "for i in range(MAX_FRAMES):\n",
    "    nn_frames.append(np.zeros(FRAME_SHAPE))\n",
    "    \n",
    "action_size = len(_GYM_ACTIONS)\n",
    "state_size = (MAX_FRAMES,) + FRAME_SHAPE\n",
    "episode_minus_one = episode - 1\n",
    "\n",
    "agent = DQNAgent(QNetworkDuellingCNN, state_size, action_size, ddqn = True, priority = True)\n",
    "\n",
    "global _ABSOLUTE_TRAINED_EPISODE\n",
    "global _LOST_LIFE_PENALITY\n",
    "\n",
    "print(\"Agent ist bereits {} Episoden trainiert worden ...\\nBeginne Training ...\".format(_ABSOLUTE_TRAINED_EPISODE))\n",
    "_training_start = datetime.now()\n",
    "\n",
    "for e in range(episode):\n",
    "    obs = env.reset()\n",
    "    prev_obs = None\n",
    "    \n",
    "    for i in range(MAX_FRAMES):\n",
    "        nn_frames.append(np.zeros(FRAME_SHAPE))\n",
    "        \n",
    "    nn_frames.append(np.copy(simplify_frame(obs)))\n",
    "    states = np.array(nn_frames)\n",
    "    \n",
    "    for t in range(tmax):\n",
    "#         prev_obs = np.copy(obs)\n",
    "        actions = agent.act(states, noise)\n",
    "        obs, reward, done, _ = env.step(actions)\n",
    "        nn_frames.append(np.copy(simplify_frame(obs)))\n",
    "        next_states = np.array(nn_frames)\n",
    "#         next_states = model_preprocess(obs, prev_obs)\n",
    "        \n",
    "        agent.step(states, int(actions), int(reward), next_states, int(done))\n",
    "        states = next_states\n",
    "        \n",
    "        if done or reward <= _LOST_LIFE_PENALITY:\n",
    "            break\n",
    "    \n",
    "    # Schreibt das _finale_ Runden-Ergebnis zu den Tensorboard-Logs\n",
    "    write_rrs_to_tensorboard(env._reward_records[-1])\n",
    "    \n",
    "    agent.update_error()\n",
    "    \n",
    "    # get the average reward of the parallel environments\n",
    "    noise = noise * noise_decay\n",
    "    \n",
    "    rewards.append(env._reward_records)\n",
    "            \n",
    "    print('\\rEpisode {:>4}/{:<4}     ||     Total Reward: {:>11.1f}     ||     Avg. Reward: {:>11.1f}     ||     Final X-Pos: {:>6}     ||     Final Flagstat: {:<1}'.format((e+1), (episode_minus_one), env._reward_records[-1].sum_reward, env._reward_records[-1].avg_reward, env._reward_records[-1].x_pos, env._reward_records[-1].flag_get), end = \"\")\n",
    "\n",
    "_training_end = datetime.now()\n",
    "print('Training abgeschlossen in {} ...'.format(_training_end - _training_start))\n",
    "\n",
    "env.close()\n",
    "plot_avg_rrss(rewards)"
   ]
  },
  {
   "cell_type": "markdown",
   "metadata": {},
   "source": [
    "## Trainingsergebnis"
   ]
  },
  {
   "cell_type": "code",
   "execution_count": null,
   "metadata": {
    "ExecuteTime": {
     "start_time": "2020-05-02T16:21:57.565Z"
    },
    "scrolled": false
   },
   "outputs": [],
   "source": [
    "repeats = 3\n",
    "for n in range(repeats):\n",
    "    # Prep\n",
    "    env = SuperMarioBrosEnviorment()\n",
    "    videopath = env.monitor()\n",
    "    \n",
    "    # Var\n",
    "    obs = env.reset()\n",
    "    prev_obs = None\n",
    "    frames = np.zeros((tmax, 240, 256, 3), dtype=np.uint8)\n",
    "    for i in range(MAX_FRAMES):\n",
    "        nn_frames.append(np.zeros(FRAME_SHAPE))\n",
    "    nn_frames.append(np.copy(simplify_frame(obs)))\n",
    "\n",
    "    states = np.array(nn_frames)\n",
    "\n",
    "    for t in range(tmax):\n",
    "        frames[t] = obs\n",
    "        actions = agent.act(states, noise)\n",
    "        obs, reward, done, info = env.step(actions)\n",
    "        nn_frames.append(np.copy(simplify_frame(obs)))\n",
    "        next_states = np.array(nn_frames)\n",
    "\n",
    "        states = next_states\n",
    "        if done:\n",
    "            break\n",
    "\n",
    "    env.close()\n",
    "    show_video(videopath)\n",
    "    plot_rrs(env._reward_records, \"Run {} ({})\".format(n+1, videopath)) "
   ]
  },
  {
   "cell_type": "markdown",
   "metadata": {},
   "source": [
    "## Google-Colab"
   ]
  },
  {
   "cell_type": "markdown",
   "metadata": {},
   "source": [
    "Übrigens funktioniert dieses Skript auch mit <b>Google-Colab</b>, dazu müssen allerdings folgende wenige Schritte unternommen werden:\n",
    "\n",
    "1. Dieses Jupyter-Notebook in Colab importieren\n",
    "\n",
    "2. Colab auf Laufzeitumgebung mit GPU stellen\n",
    "\n",
    "3. In dem importieren Jupyter-Notebook einen Codeblock mit folgenden Befehlen am Anfang einfügen:\n",
    "\n",
    "```\n",
    "!git clone \"https://github.com/JanGaida/research_project_machine_learning_hshof_sose2020\"\n",
    "!mv research_project_machine_learning_hshof_sose2020/* .\n",
    "!rm -r research_project_machine_learning_hshof_sose2020\n",
    "!pip install gym-super-mario-bros\n",
    "```\n",
    "\n",
    "4. Das Jupyter-Notebook starten"
   ]
  },
  {
   "cell_type": "markdown",
   "metadata": {},
   "source": [
    "## Referenzen"
   ]
  },
  {
   "cell_type": "markdown",
   "metadata": {},
   "source": [
    "- [Super Mario Bros for OpenAi Gym, 2018, Christian Kauten](https://github.com/Kautenja/gym-super-mario-bros)\n",
    "\n",
    "- [Using Reinforcement Learning to play Super Mario Bros on NES using TensorFlow, 2019, Sebastian Heinz](https://www.statworx.com/de/blog/using-reinforcement-learning-to-play-super-mario-bros-on-nes-using-tensorflow/)\n",
    "\n",
    "- [Mario Reinforcement Learning (Double DQN), 2019, Sachin Abeywardana](https://github.com/sachinruk/Mario)"
   ]
  }
 ],
 "metadata": {
  "kernelspec": {
   "display_name": "Python 3",
   "language": "python",
   "name": "python3"
  },
  "language_info": {
   "codemirror_mode": {
    "name": "ipython",
    "version": 3
   },
   "file_extension": ".py",
   "mimetype": "text/x-python",
   "name": "python",
   "nbconvert_exporter": "python",
   "pygments_lexer": "ipython3",
   "version": "3.7.6"
  },
  "toc": {
   "base_numbering": 1,
   "nav_menu": {},
   "number_sections": true,
   "sideBar": true,
   "skip_h1_title": true,
   "title_cell": "Inhaltsverzeichnis",
   "title_sidebar": "Contents",
   "toc_cell": true,
   "toc_position": {
    "height": "calc(100% - 180px)",
    "left": "10px",
    "top": "150px",
    "width": "337px"
   },
   "toc_section_display": true,
   "toc_window_display": true
  }
 },
 "nbformat": 4,
 "nbformat_minor": 4
}
