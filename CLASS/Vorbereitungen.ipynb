{
 "cells": [
  {
   "cell_type": "markdown",
   "metadata": {
    "ExecuteTime": {
     "end_time": "2020-04-27T19:19:41.286165Z",
     "start_time": "2020-04-27T19:19:41.276625Z"
    }
   },
   "source": [
    "<img src=\"https://upload.wikimedia.org/wikipedia/commons/thumb/5/50/Logo_fh_hof.svg/2000px-Logo_fh_hof.svg.png\" width=\"250\" style=\"background-color:#FFF\">"
   ]
  },
  {
   "cell_type": "markdown",
   "metadata": {},
   "source": [
    "---\n",
    "\n",
    "<div style=\"text-align:center;\">\n",
    "    <font size=\"+4\"><i><u>Q-Learning mit 'Super Mario Bros'</u></i></font><br><br>\n",
    "    <font>Seminararbeit der Vorlesung <b>Angewandtes Maschinelles Lernen</b> an der <b>Hochschule für angewande Wissenschaften Hof</b> des <b>Sommersemesters 2020</b>.</font>\n",
    "</div>\n",
    "\n",
    "---"
   ]
  },
  {
   "cell_type": "markdown",
   "metadata": {
    "ExecuteTime": {
     "end_time": "2020-04-27T19:23:51.355018Z",
     "start_time": "2020-04-27T19:23:51.349652Z"
    }
   },
   "source": [
    "# JupyterNotebook_Vorbereitungen\n",
    "---\n",
    "\n",
    "<font>Hier befindet sich Codeschnippsel die für die Vorbereitung des eigentlichen Hauptscript verwendet werden.</font>"
   ]
  },
  {
   "cell_type": "markdown",
   "metadata": {},
   "source": [
    "---"
   ]
  },
  {
   "cell_type": "markdown",
   "metadata": {},
   "source": [
    "\n",
    "Ändert die Weite des Jupyternotebook auf den spezifizierten Wert."
   ]
  },
  {
   "cell_type": "code",
   "execution_count": null,
   "metadata": {
    "ExecuteTime": {
     "end_time": "2020-04-27T22:53:24.671253Z",
     "start_time": "2020-04-27T22:53:24.657017Z"
    }
   },
   "outputs": [],
   "source": [
    "from IPython.core.display import display, HTML\n",
    "\n",
    "# Wertebereich: 0-100, muss nach HTML-Schema definiert sein\n",
    "_notebook_relative_width = \"80%\" \n",
    "display(HTML('<style>.container { width: ' + _notebook_relative_width + ' !important; }</style>'))\n",
    "\n",
    "print('JupyterNotebook-Html-Container auf {} Relative-Weite gestezt ...'.format(_notebook_relative_width))"
   ]
  },
  {
   "cell_type": "markdown",
   "metadata": {},
   "source": [
    "---"
   ]
  },
  {
   "cell_type": "markdown",
   "metadata": {},
   "source": [
    "Managet die Requierments mit Pip, hier müssen ggf. einzelene Funktionsaufrufe auskommentiert oder entkommentiert werden."
   ]
  },
  {
   "cell_type": "code",
   "execution_count": null,
   "metadata": {
    "ExecuteTime": {
     "end_time": "2020-04-27T22:53:25.172805Z",
     "start_time": "2020-04-27T22:53:24.672289Z"
    },
    "scrolled": true
   },
   "outputs": [],
   "source": [
    "print('Requierments-Management gestartet ...')\n",
    "\n",
    "# Zeigt die Liste aller installierten Packages\n",
    "#!pip list\n",
    "\n",
    "# Installiert alle in der './requirements.txt' vorkommenden Packages\n",
    "#!pip install -r requirements.txt\n",
    "\n",
    "# Updated alle veralteten Packeges die aktuell installiert sind\n",
    "#!pip list --outdated --format=freeze | grep -v '^\\-e' | cut -d = -f 1  | xargs -n1 pip install -U\n",
    "\n",
    "# Schreibt alle installierten Packages in die './requirements.txt'\n",
    "!pip freeze > requirements.txt\n",
    "\n",
    "print('Requierments-Management abgeschlossen ...')"
   ]
  },
  {
   "cell_type": "markdown",
   "metadata": {},
   "source": [
    "---"
   ]
  },
  {
   "cell_type": "markdown",
   "metadata": {},
   "source": [
    "Hier werden diverse Unterordner erstellt, geleert oder gelöscht. Auch hier können Anpassungen vorgenommen werden."
   ]
  },
  {
   "cell_type": "code",
   "execution_count": null,
   "metadata": {
    "ExecuteTime": {
     "end_time": "2020-04-27T22:53:25.192221Z",
     "start_time": "2020-04-27T22:53:25.176979Z"
    }
   },
   "outputs": [],
   "source": [
    "import os, glob, shutil\n",
    "\n",
    "print('Ordner-Management gestartet ...')\n",
    "\n",
    "global _LOGS_BASE_DIR_NAME\n",
    "global _LOGS_BASE_DIR\n",
    "global _SHOULD_CLEAR_LOGS_BASE_DIR\n",
    "\n",
    "global _RECORDS_BASE_DIR_NAME\n",
    "global _RECORDS_BASE_DIR\n",
    "global _SHOULD_CLEAR_RECORDS_BASE_DIR\n",
    "\n",
    "global _MODEL_BASE_DIR_NAME\n",
    "global _MODEL_BASE_DIR\n",
    "global _SHOULD_CLEAR_MODEL_BASE_DIR\n",
    "\n",
    "\n",
    "\n",
    "_LOGS_BASE_DIR_NAME = 'LOGS'\n",
    "_LOGS_BASE_DIR = './{}'.format(_LOGS_BASE_DIR_NAME)\n",
    "_SHOULD_CLEAR_LOGS_BASE_DIR = False # Auf True setzten um den Inhalt des Logs-Ordners zu leeren\n",
    "\n",
    "print('{}-Ordner ...'.format(_LOGS_BASE_DIR_NAME))\n",
    "\n",
    "if os.path.isdir(_LOGS_BASE_DIR):\n",
    "    print('... bereits vorhanden ...')\n",
    "    \n",
    "    if _SHOULD_CLEAR_LOGS_BASE_DIR:\n",
    "        \n",
    "        for f in glob.glob('{}/*'.format(_LOGS_BASE_DIR)):\n",
    "            if os.path.isdir(f):\n",
    "                shutil.rmtree(f)\n",
    "            else:\n",
    "                os.remove(f)\n",
    "        \n",
    "        print('... entleert ...')\n",
    "        \n",
    "    else:\n",
    "        print('... entleeren übersprungen ...')\n",
    "else:\n",
    "    os.mkdir(_LOGS_BASE_DIR)\n",
    "    print('... erstellt ...'.format(_LOGS_BASE_DIR))\n",
    "\n",
    "\n",
    "\n",
    "_RECORDS_BASE_DIR_NAME = 'REC'\n",
    "_RECORDS_BASE_DIR = './{}'.format(_RECORDS_BASE_DIR_NAME)\n",
    "_SHOULD_CLEAR_RECORDS_BASE_DIR = False # Auf True setzten um den Inhalt des Records-Ordners zu leeren\n",
    "\n",
    "print('{}-Ordner ...'.format(_RECORDS_BASE_DIR_NAME))\n",
    "\n",
    "if os.path.isdir(_RECORDS_BASE_DIR):\n",
    "    print('... bereits vorhanden ...')\n",
    "    \n",
    "    if _SHOULD_CLEAR_RECORDS_BASE_DIR:\n",
    "        \n",
    "        for f in glob.glob('{}/*'.format(_RECORDS_BASE_DIR)):\n",
    "            if os.path.isdir(f):\n",
    "                shutil.rmtree(f)\n",
    "            else:\n",
    "                os.remove(f)\n",
    "        \n",
    "        print('... entleert ...')\n",
    "        \n",
    "    else:\n",
    "        print('... entleeren übersprungen ...')\n",
    "    \n",
    "else:\n",
    "    os.mkdir(_RECORDS_BASE_DIR)\n",
    "    print('... erstellt ...')\n",
    "\n",
    "    \n",
    "\n",
    "_MODEL_BASE_DIR_NAME = 'MODEL'\n",
    "_MODEL_BASE_DIR = './{}'.format(_MODEL_BASE_DIR_NAME)\n",
    "_SHOULD_CLEAR_MODEL_BASE_DIR = False # Auf True setzten um den Inhalt des Models-Ordners zu leeren\n",
    "\n",
    "print('{}-Ordner ...'.format(_MODEL_BASE_DIR_NAME))\n",
    "\n",
    "if os.path.isdir(_MODEL_BASE_DIR):\n",
    "    print('... bereits vorhanden ...')\n",
    "    \n",
    "    if _SHOULD_CLEAR_MODEL_BASE_DIR:\n",
    "        \n",
    "        for f in glob.glob('{}/*'.format(_MODEL_BASE_DIR)):\n",
    "            if os.path.isdir(f):\n",
    "                shutil.rmtree(f)\n",
    "            else:\n",
    "                os.remove(f)\n",
    "        \n",
    "        print('... entleert ...')\n",
    "        \n",
    "    else:\n",
    "        print('... entleeren übersprungen ...')\n",
    "    \n",
    "else:\n",
    "    os.mkdir(_MODEL_BASE_DIR)\n",
    "    print('... erstellt ...')\n",
    "\n",
    "print('Ordner-Management abgeschlossen ...')"
   ]
  },
  {
   "cell_type": "code",
   "execution_count": null,
   "metadata": {
    "ExecuteTime": {
     "end_time": "2020-04-27T22:53:25.575074Z",
     "start_time": "2020-04-27T22:53:25.193427Z"
    }
   },
   "outputs": [],
   "source": [
    "import torch\n",
    "\n",
    "if torch.cuda.is_available():\n",
    "    print('CUDA-Gpu entdeckt ...')\n",
    "else:\n",
    "    print('Überspringe GPU-Support ...\\n... Sie können ihren GPU-Support-Status mit dem \\'gpu_test\\'-Jupyternotebook testen ...')"
   ]
  },
  {
   "cell_type": "code",
   "execution_count": null,
   "metadata": {
    "ExecuteTime": {
     "end_time": "2020-04-29T07:30:09.203625Z",
     "start_time": "2020-04-29T07:30:09.158326Z"
    }
   },
   "outputs": [],
   "source": [
    "import os, io, base64\n",
    "import matplotlib.pyplot as plt\n",
    "from IPython.core.display import display, HTML\n",
    "\n",
    "print(\"Initialisiere Hilfsfunktionen ...\")\n",
    "\n",
    "print(\"... \\\"show_video\\\" erzeugt ...\")\n",
    "def show_video(base_video_path):\n",
    "    mp4list = glob.glob('{}/*.mp4'.format(base_video_path))\n",
    "    if len(mp4list) > 0:\n",
    "        mp4 = mp4list[0]\n",
    "        video = io.open(mp4, 'r+b').read()\n",
    "        encoded = base64.b64encode(video)\n",
    "        display(HTML(data='<video alt=\"{}\" autoplay loop controls style=\"height: 300px;\"><source src=\"data:video/mp4;base64,{}\" type=\"video/mp4\"/></video>'.format(base_video_path, encoded.decode('ascii'))))\n",
    "    else: \n",
    "        html_p(\"Could not found a video in \\'{}\\'.\".format(base_video_path))\n",
    "       \n",
    "    \n",
    "print(\"... \\\"plot_rrs\\\" erzeugt ...\")\n",
    "def plot_rrs(rrs):\n",
    "    # Zeige gewissen Statistiken an dazu ...\n",
    "    rewards = []\n",
    "    coins = []\n",
    "    lifes = []\n",
    "    scores = []\n",
    "    status = []\n",
    "    times = []\n",
    "    xpositions = []\n",
    "    ypositions = []\n",
    "    flags = []\n",
    "    summe = rrs[-1].sum_reward\n",
    "\n",
    "    # ... Gehe die Reward-Records durch\n",
    "    for rr in rrs:\n",
    "        # Appenden\n",
    "        rewards.append(rr.reward)\n",
    "        coins.append(rr.coins)\n",
    "        lifes.append(rr.life)\n",
    "        scores.append(rr.score)\n",
    "        times.append(rr.time)\n",
    "        xpositions.append(rr.x_pos)\n",
    "        ypositions.append(rr.y_pos)\n",
    "\n",
    "        # Umwandeln und Appenden\n",
    "        if rr.status == 'small': status.append(0)\n",
    "        elif rr.status == 'tall': status.append(1)\n",
    "        elif rr.status == 'fireball': status.append(2)\n",
    "        else: status.append(-1)\n",
    "\n",
    "        if rr.flag_get: flag.append(1)\n",
    "        elif not rr.flag_get: flags.append(0)\n",
    "        else: flags.append(-1)\n",
    "\n",
    "    # ... und erzeuge die Graphen\n",
    "    fig, ax = plt.subplots(3, 3, figsize=(22, 18))\n",
    "    \n",
    "    ax[0,0].plot(xpositions)\n",
    "    ax[0,0].set_title(\"X-Positionen Verlauf:\")\n",
    "    ax[0,0].set(ylabel=\"X\")\n",
    "    ax[0,0].set(xlabel=\"Frame\")\n",
    "    \n",
    "    ax[0,1].plot(ypositions)\n",
    "    ax[0,1].set_title(\"Y-Positionen Verlauf:\")\n",
    "    ax[0,1].set(ylabel=\"Y\")\n",
    "    ax[0,1].set(xlabel=\"Frame\")\n",
    "\n",
    "    ax[0,2].plot(status)\n",
    "    ax[0,2].set_title(\"Verlauf Statuscodes:\")\n",
    "    ax[0,2].set(ylabel=\"Status\")\n",
    "    ax[0,2].set(xlabel=\"Frame\")\n",
    "    \n",
    "    \n",
    "    ax[1,0].plot(rewards)\n",
    "    ax[1,0].set_title(\"Verlauf des Reward:\")\n",
    "    ax[1,0].set(ylabel=\"Reward\")\n",
    "    ax[1,0].set(xlabel=\"Frame\")\n",
    "    \n",
    "    ax[1,1].plot(scores)\n",
    "    ax[1,1].set_title(\"Verlauf der Scores:\")\n",
    "    ax[1,1].set(ylabel=\"Score\")\n",
    "    ax[1,1].set(xlabel=\"Frame\")\n",
    "\n",
    "    ax[1,2].plot(coins)\n",
    "    ax[1,2].set_title(\"Verlauf der Münzen:\")\n",
    "    ax[1,2].set(ylabel=\"Coin\")\n",
    "    ax[1,2].set(xlabel=\"Frame\")\n",
    "\n",
    "    \n",
    "    ax[2,0].plot(times)\n",
    "    ax[2,0].set_title(\"In-Game Zeit:\")\n",
    "    ax[2,0].set(ylabel=\"Time\")\n",
    "    ax[2,0].set(xlabel=\"Frame\")\n",
    "    \n",
    "    ax[2,1].plot(lifes)\n",
    "    ax[2,1].set_title(\"Verlauf der Leben:\")\n",
    "    ax[2,1].set(ylabel=\"Leben\")\n",
    "    ax[2,1].set(xlabel=\"Frame\")\n",
    "\n",
    "    ax[2,2].plot(flags)\n",
    "    ax[2,2].set_title(\"Verlauf Flaggencode:\")\n",
    "    ax[2,2].set(ylabel=\"Flag\")\n",
    "    ax[2,2].set(xlabel=\"Frame\")\n",
    "    \n",
    "print(\"... abgeschlossen ...\")"
   ]
  },
  {
   "cell_type": "code",
   "execution_count": null,
   "metadata": {
    "ExecuteTime": {
     "end_time": "2020-04-27T22:53:25.644219Z",
     "start_time": "2020-04-27T22:53:25.581985Z"
    }
   },
   "outputs": [],
   "source": [
    "print('Vorbereitungen erfolgreich abgeschlossen ...')"
   ]
  },
  {
   "cell_type": "markdown",
   "metadata": {},
   "source": [
    "---"
   ]
  },
  {
   "cell_type": "markdown",
   "metadata": {},
   "source": [
    "---"
   ]
  }
 ],
 "metadata": {
  "kernelspec": {
   "display_name": "Python 3",
   "language": "python",
   "name": "python3"
  },
  "language_info": {
   "codemirror_mode": {
    "name": "ipython",
    "version": 3
   },
   "file_extension": ".py",
   "mimetype": "text/x-python",
   "name": "python",
   "nbconvert_exporter": "python",
   "pygments_lexer": "ipython3",
   "version": "3.7.6"
  },
  "toc": {
   "base_numbering": 1,
   "nav_menu": {},
   "number_sections": false,
   "sideBar": true,
   "skip_h1_title": true,
   "title_cell": "Table of Contents",
   "title_sidebar": "Contents",
   "toc_cell": false,
   "toc_position": {},
   "toc_section_display": true,
   "toc_window_display": true
  }
 },
 "nbformat": 4,
 "nbformat_minor": 4
}
