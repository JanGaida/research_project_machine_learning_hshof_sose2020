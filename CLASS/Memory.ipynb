{
 "cells": [
  {
   "cell_type": "markdown",
   "metadata": {},
   "source": [
    "<img src=\"https://upload.wikimedia.org/wikipedia/commons/thumb/5/50/Logo_fh_hof.svg/2000px-Logo_fh_hof.svg.png\" width=\"250\" style=\"background-color:#FFF\">"
   ]
  },
  {
   "cell_type": "markdown",
   "metadata": {},
   "source": [
    "---\n",
    "\n",
    "<div style=\"text-align:center;\">\n",
    "    <font size=\"+4\"><i><u>Q-Learning mit 'Super Mario Bros'</u></i></font><br><br>\n",
    "    <font>Seminararbeit der Vorlesung <b>Angewandtes Maschinelles Lernen</b> an der <b>Hochschule für angewande Wissenschaften Hof</b> des <b>Sommersemesters 2020</b>.</font>\n",
    "</div>\n",
    "\n",
    "---"
   ]
  },
  {
   "cell_type": "markdown",
   "metadata": {
    "toc": true
   },
   "source": [
    "<h1>Inhaltsverzeichnis<span class=\"tocSkip\"></span></h1>\n",
    "<div class=\"toc\"><ul class=\"toc-item\"><li><span><a href=\"#Imports\" data-toc-modified-id=\"Imports-1\"><span class=\"toc-item-num\">1&nbsp;&nbsp;</span>Imports</a></span></li><li><span><a href=\"#Parameter-&amp;-Hilfsunktionen\" data-toc-modified-id=\"Parameter-&amp;-Hilfsunktionen-2\"><span class=\"toc-item-num\">2&nbsp;&nbsp;</span>Parameter &amp; Hilfsunktionen</a></span></li><li><span><a href=\"#Memory\" data-toc-modified-id=\"Memory-3\"><span class=\"toc-item-num\">3&nbsp;&nbsp;</span>Memory</a></span></li></ul></div>"
   ]
  },
  {
   "cell_type": "markdown",
   "metadata": {},
   "source": [
    "---"
   ]
  },
  {
   "cell_type": "markdown",
   "metadata": {},
   "source": [
    "## Imports"
   ]
  },
  {
   "cell_type": "code",
   "execution_count": null,
   "metadata": {},
   "outputs": [],
   "source": [
    "import torch\n",
    "import numpy as np"
   ]
  },
  {
   "cell_type": "markdown",
   "metadata": {},
   "source": [
    "---"
   ]
  },
  {
   "cell_type": "markdown",
   "metadata": {},
   "source": [
    "## Parameter & Hilfsunktionen"
   ]
  },
  {
   "cell_type": "code",
   "execution_count": null,
   "metadata": {},
   "outputs": [],
   "source": [
    "_memory_device = get_torch_device()\n",
    "\n",
    "print(\"Memory-Device-Parameter initialisiert ...\")"
   ]
  },
  {
   "cell_type": "markdown",
   "metadata": {},
   "source": [
    "---"
   ]
  },
  {
   "cell_type": "markdown",
   "metadata": {},
   "source": [
    "## Memory"
   ]
  },
  {
   "cell_type": "code",
   "execution_count": null,
   "metadata": {
    "ExecuteTime": {
     "end_time": "2020-04-27T22:07:49.966540Z",
     "start_time": "2020-04-27T22:07:49.946757Z"
    }
   },
   "outputs": [],
   "source": [
    "class Memory:\n",
    "    \"\"\"Fixed-size buffer to store experience tuples.\"\"\"\n",
    "\n",
    "    def __init__(self, state_size, action_size, buffer_size, batch_size, priority = False):\n",
    "        \"\"\"Initialize a ReplayBuffer object.\n",
    "        Params\n",
    "        ======\n",
    "            action_size (int): dimension of each action\n",
    "            buffer_size (int): maximum size of buffer (chosen as multiple of num agents)\n",
    "            batch_size (int): size of each training batch\n",
    "            seed (int): random seed\n",
    "        \"\"\"\n",
    "        self.states = torch.zeros((buffer_size,) + state_size).to(_memory_device)\n",
    "        self.next_states = torch.zeros((buffer_size,) + state_size).to(_memory_device)\n",
    "        self.actions = torch.zeros(buffer_size,1, dtype = torch.long).to(_memory_device)\n",
    "        self.rewards = torch.zeros(buffer_size, 1, dtype = torch.float).to(_memory_device)\n",
    "        self.dones = torch.zeros(buffer_size, 1, dtype = torch.float).to(_memory_device)\n",
    "        self.e = np.zeros((buffer_size, 1), dtyp e= np.float)\n",
    "        \n",
    "        self.priority = priority\n",
    "\n",
    "        self.ptr = 0\n",
    "        self.n = 0\n",
    "        self.buffer_size = buffer_size\n",
    "        self.batch_size = batch_size\n",
    "    \n",
    "    def add(self, state, action, reward, next_state, done):\n",
    "        \"\"\"Add a new experience to memory.\"\"\"\n",
    "        self.states[self.ptr] = torch.from_numpy(state).to(_memory_device)\n",
    "        self.next_states[self.ptr] = torch.from_numpy(next_state).to(_memory_device)\n",
    "        self.actions[self.ptr] = action\n",
    "        self.rewards[self.ptr] = reward\n",
    "        self.dones[self.ptr] = done\n",
    "        \n",
    "        self.ptr += 1\n",
    "        if self.ptr >= self.buffer_size:\n",
    "            self.ptr = 0\n",
    "            self.n = self.buffer_size\n",
    "\n",
    "    def sample(self, get_all=False):\n",
    "        \"\"\"Randomly sample a batch of experiences from memory.\"\"\"\n",
    "        n = len(self)\n",
    "        if get_all:\n",
    "            return self.states[:n], self.actions[:n], self.rewards[:n], self.next_states[:n], self.dones[:n]\n",
    "        # else:\n",
    "        if self.priority:\n",
    "            idx = np.random.choice(n, self.batch_size, replace=False, p=self.e)\n",
    "        else:\n",
    "            idx = np.random.choice(n, self.batch_size, replace=False)\n",
    "        \n",
    "        states = self.states[idx]\n",
    "        next_states = self.next_states[idx]\n",
    "        actions = self.actions[idx]\n",
    "        rewards = self.rewards[idx]\n",
    "        dones = self.dones[idx]\n",
    "        \n",
    "        return (states, actions, rewards, next_states, dones), idx\n",
    "      \n",
    "    def update_error(self, e, idx=None):\n",
    "        e = torch.abs(e.detach())\n",
    "        e = e / e.sum()\n",
    "        if idx is not None:\n",
    "            self.e[idx] = e.cpu().numpy()\n",
    "        else:\n",
    "            self.e[:len(self)] = e.cpu().numpy()\n",
    "        \n",
    "    def __len__(self):\n",
    "        if self.n == 0:\n",
    "            return self.ptr\n",
    "        else:\n",
    "            return self.n"
   ]
  }
 ],
 "metadata": {
  "kernelspec": {
   "display_name": "Python 3",
   "language": "python",
   "name": "python3"
  },
  "language_info": {
   "codemirror_mode": {
    "name": "ipython",
    "version": 3
   },
   "file_extension": ".py",
   "mimetype": "text/x-python",
   "name": "python",
   "nbconvert_exporter": "python",
   "pygments_lexer": "ipython3",
   "version": "3.7.6"
  },
  "toc": {
   "base_numbering": 1,
   "nav_menu": {},
   "number_sections": true,
   "sideBar": true,
   "skip_h1_title": true,
   "title_cell": "Inhaltsverzeichnis",
   "title_sidebar": "Contents",
   "toc_cell": true,
   "toc_position": {},
   "toc_section_display": true,
   "toc_window_display": true
  }
 },
 "nbformat": 4,
 "nbformat_minor": 4
}
