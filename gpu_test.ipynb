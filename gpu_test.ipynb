{
 "cells": [
  {
   "cell_type": "markdown",
   "metadata": {
    "toc": true
   },
   "source": [
    "<h1>Table of Contents<span class=\"tocSkip\"></span></h1>\n",
    "<div class=\"toc\"><ul class=\"toc-item\"></ul></div>"
   ]
  },
  {
   "cell_type": "markdown",
   "metadata": {},
   "source": [
    "[![Generic badge](https://img.shields.io/badge/License-Properitary-red.svg)](https://github.com/JanGaida/research_project_machine_learning_hshof_sose2020/blob/master/LICENSE.md) <br>\n",
    "[![Active Development](https://img.shields.io/badge/Maintenance%20Level-Actively%20Developed-brightgreen.svg)](https://github.com/JanGaida/research_project_machine_learning_hshof_sose2020/) <br>\n",
    "[![Ask Me Anything !](https://img.shields.io/badge/Ask%20me-anything-1abc9c.svg)](https://github.com/JanGaida/research_project_machine_learning_hshof_sose2020/issues) <br>\n",
    "[![Python 3.7.7](https://img.shields.io/badge/python-3.7.7-blue.svg)](https://www.python.org/downloads/release/python-377/)"
   ]
  },
  {
   "cell_type": "markdown",
   "metadata": {},
   "source": [
    "# <img src=\"https://upload.wikimedia.org/wikipedia/commons/thumb/5/50/Logo_fh_hof.svg/2000px-Logo_fh_hof.svg.png\" width=\"300\" style=\"background-color:#FFF\">\n",
    "\n",
    "<font size=\"+4\"><i><u>Q-Learning mit 'Super Mario Bros'</u></i></font>\n",
    "\n",
    "Seminararbeit der Vorlesung **Angewandtes Maschinelles Lernen** an der **Hochschule für angewande Wissenschaften Hof** des **Sommersemesters 2020**."
   ]
  },
  {
   "cell_type": "markdown",
   "metadata": {},
   "source": [
    "# Anleitung\n",
    "\n",
    "*Sollte der nachfolgende Test nicht erfolgreich für Sie sein so finden Sie <a href=\"https://github.com/JanGaida/research_project_machine_learning_hshof_sose2020/blob/master/setup_guide.md\">hier eine passende Anleitung</a>.*"
   ]
  },
  {
   "cell_type": "markdown",
   "metadata": {},
   "source": [
    "# Verbundene GPU's\n",
    "\n",
    "*Nachfolgend werden alle mit dem Notebook verbunde GPU's ausgegeben (orientieren Sie sich bspw. an der Anzahl).*"
   ]
  },
  {
   "cell_type": "code",
   "execution_count": null,
   "metadata": {
    "ExecuteTime": {
     "end_time": "2020-04-27T08:20:08.543366Z",
     "start_time": "2020-04-27T08:20:01.593885Z"
    }
   },
   "outputs": [],
   "source": [
    "from __future__ import absolute_import, division, print_function, unicode_literals\n",
    "import tensorflow as tf"
   ]
  },
  {
   "cell_type": "code",
   "execution_count": null,
   "metadata": {
    "ExecuteTime": {
     "end_time": "2020-04-27T08:20:09.692759Z",
     "start_time": "2020-04-27T08:20:08.544599Z"
    },
    "scrolled": true
   },
   "outputs": [],
   "source": [
    "gpus = tf.config.experimental.list_physical_devices('GPU')\n",
    "l_gpus = len(gpus)\n",
    "\n",
    "x_gpus = tf.config.experimental.list_physical_devices('XLA_GPU')\n",
    "l_x_gpus = len(x_gpus)\n",
    "\n",
    "if l_gpus <= 0 and l_x_gpus <= 0:\n",
    "    print(\"! Warnung: Keine untersützte GPU verfügbar.\")\n",
    "else:\n",
    "    if(l_gpus > 0):\n",
    "        print(\"\\n\\n- Anzahl an verfügbaren GPU's: \", len(gpus), \"\\n- Verfügbare Einheiten:\")\n",
    "        for gpu in gpus:\n",
    "            print(gpu)\n",
    "    \n",
    "    if(l_x_gpus > 0):\n",
    "        print(\"\\n\\n- Anzahl an verfügbaren XLA-GPU's: \", len(x_gpus), \"\\n- Verfügbare Einheiten:\")\n",
    "        for gpu in x_gpus:\n",
    "            print(gpu)"
   ]
  },
  {
   "cell_type": "markdown",
   "metadata": {},
   "source": [
    "# CUDA-Support\n",
    "\n",
    "*Nachfolgend werden alle mit dem Notebook verbunde GPU's und ob diese mit CUDA erfolgreich unterstützt werden (orientieren Sie sich an dem Unterpunkt 'CUDA Information').*"
   ]
  },
  {
   "cell_type": "code",
   "execution_count": null,
   "metadata": {
    "ExecuteTime": {
     "end_time": "2020-04-27T08:20:15.228407Z",
     "start_time": "2020-04-27T08:20:09.693886Z"
    }
   },
   "outputs": [],
   "source": [
    "!numba -s"
   ]
  }
 ],
 "metadata": {
  "kernelspec": {
   "display_name": "Python 3",
   "language": "python",
   "name": "python3"
  },
  "language_info": {
   "codemirror_mode": {
    "name": "ipython",
    "version": 3
   },
   "file_extension": ".py",
   "mimetype": "text/x-python",
   "name": "python",
   "nbconvert_exporter": "python",
   "pygments_lexer": "ipython3",
   "version": "3.7.6"
  },
  "toc": {
   "base_numbering": 1,
   "nav_menu": {},
   "number_sections": false,
   "sideBar": true,
   "skip_h1_title": true,
   "title_cell": "Table of Contents",
   "title_sidebar": "Contents",
   "toc_cell": true,
   "toc_position": {},
   "toc_section_display": true,
   "toc_window_display": true
  }
 },
 "nbformat": 4,
 "nbformat_minor": 2
}
