{
 "cells": [
  {
   "cell_type": "markdown",
   "metadata": {},
   "source": [
    "[![Generic badge](https://img.shields.io/badge/License-Properitary-red.svg)](https://github.com/JanGaida/research_project_machine_learning_hshof_sose2020/blob/master/LICENSE.md) <br>\n",
    "[![Active Development](https://img.shields.io/badge/Maintenance%20Level-Actively%20Developed-brightgreen.svg)](https://github.com/JanGaida/research_project_machine_learning_hshof_sose2020/) <br>\n",
    "[![Ask Me Anything !](https://img.shields.io/badge/Ask%20me-anything-1abc9c.svg)](https://github.com/JanGaida/research_project_machine_learning_hshof_sose2020/issues) <br>\n",
    "[![Python 3.7.7](https://img.shields.io/badge/python-3.7.7-blue.svg)](https://www.python.org/downloads/release/python-377/)"
   ]
  },
  {
   "cell_type": "markdown",
   "metadata": {},
   "source": [
    "# <img src=\"https://upload.wikimedia.org/wikipedia/commons/thumb/5/50/Logo_fh_hof.svg/2000px-Logo_fh_hof.svg.png\" width=\"300\" style=\"background-color:#FFF\">\n",
    "\n",
    "<font size=\"+4\"><i><u>Q-Learning mit 'Super Mario Bros'</u></i></font>\n",
    "\n",
    "Seminararbeit der Vorlesung **Angewandtes Maschinelles Lernen** an der **Hochschule für angewande Wissenschaften Hof** des **Sommersemesters 2020**."
   ]
  },
  {
   "cell_type": "markdown",
   "metadata": {},
   "source": [
    "# Anleitung\n",
    "\n",
    "*Sollte der nachfolgende Test nicht erfolgreich für Sie sein so finden Sie <a href=\"https://github.com/JanGaida/research_project_machine_learning_hshof_sose2020/blob/master/setup_guide.md\">hier eine passende Anleitung</a>.*"
   ]
  },
  {
   "cell_type": "markdown",
   "metadata": {},
   "source": [
    "# Verbundene GPU's\n",
    "\n",
    "*Nachfolgend werden alle mit dem Notebook verbunde GPU's ausgegeben (orientieren Sie sich bspw. an der Anzahl).*"
   ]
  },
  {
   "cell_type": "code",
   "execution_count": null,
   "metadata": {
    "ExecuteTime": {
     "end_time": "2020-04-25T13:10:31.521430Z",
     "start_time": "2020-04-25T13:10:31.517513Z"
    }
   },
   "outputs": [],
   "source": [
    "from __future__ import absolute_import, division, print_function, unicode_literals\n",
    "import tensorflow as tf"
   ]
  },
  {
   "cell_type": "code",
   "execution_count": null,
   "metadata": {
    "ExecuteTime": {
     "end_time": "2020-04-25T13:14:47.604304Z",
     "start_time": "2020-04-25T13:14:47.590512Z"
    },
    "scrolled": true
   },
   "outputs": [],
   "source": [
    "gpus = tf.config.list_physical_devices('GPU')\n",
    "l_gpus = len(gpus)\n",
    "\n",
    "x_gpus = tf.config.list_physical_devices('XLA_GPU')\n",
    "l_x_gpus = len(x_gpus)\n",
    "\n",
    "if l_gpus <= 0 and l_x_gpus <= 0:\n",
    "    print(\"Warnung: Keine untersützte GPU verfügbar.\")\n",
    "else:\n",
    "    if(l_gpus > 0):\n",
    "        print(\"Anzahl an verfügbaren GPU's: \", len(gpus), \"\\n\\nVerfügbare Einheiten:\")\n",
    "        for gpu in gpus:\n",
    "            print(gpu)\n",
    "    \n",
    "    if(l_x_gpus > 0):\n",
    "        print(\"Anzahl an verfügbaren XLA-GPU's: \", len(x_gpus), \"\\n\\nVerfügbare Einheiten:\")\n",
    "        for gpu in x_gpus:\n",
    "            print(gpu)"
   ]
  },
  {
   "cell_type": "markdown",
   "metadata": {},
   "source": [
    "# CUDA-Support\n",
    "\n",
    "*Nachfolgend werden alle mit dem Notebook verbunde GPU's und ob diese mit CUDA erfolgreich unterstützt werden (orientieren Sie sich an dem Unterpunkt 'CUDA Information').*"
   ]
  },
  {
   "cell_type": "code",
   "execution_count": null,
   "metadata": {
    "ExecuteTime": {
     "end_time": "2020-04-25T13:10:49.043852Z",
     "start_time": "2020-04-25T13:10:43.404243Z"
    }
   },
   "outputs": [],
   "source": [
    "!numba -s"
   ]
  }
 ],
 "metadata": {
  "kernelspec": {
   "display_name": "Python 3",
   "language": "python",
   "name": "python3"
  },
  "language_info": {
   "codemirror_mode": {
    "name": "ipython",
    "version": 3
   },
   "file_extension": ".py",
   "mimetype": "text/x-python",
   "name": "python",
   "nbconvert_exporter": "python",
   "pygments_lexer": "ipython3",
   "version": "3.7.6"
  }
 },
 "nbformat": 4,
 "nbformat_minor": 2
}
