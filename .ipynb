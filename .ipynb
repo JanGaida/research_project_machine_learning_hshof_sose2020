{
 "cells": [
  {
   "cell_type": "markdown",
   "metadata": {},
   "source": [
    "[![Generic badge](https://img.shields.io/badge/License-Properitary-red.svg)](https://github.com/JanGaida/research_project_machine_learning_hshof_sose2020/blob/master/LICENSE.md) <br>\n",
    "[![Active Development](https://img.shields.io/badge/Maintenance%20Level-Actively%20Developed-brightgreen.svg)](https://github.com/JanGaida/research_project_machine_learning_hshof_sose2020/) <br>\n",
    "[![Ask Me Anything !](https://img.shields.io/badge/Ask%20me-anything-1abc9c.svg)](https://github.com/JanGaida/research_project_machine_learning_hshof_sose2020/issues) <br>\n",
    "[![Python 3.7.7](https://img.shields.io/badge/python-3.7.7-blue.svg)](https://www.python.org/downloads/release/python-377/)"
   ]
  },
  {
   "cell_type": "markdown",
   "metadata": {},
   "source": [
    "# <img src=\"https://upload.wikimedia.org/wikipedia/commons/thumb/5/50/Logo_fh_hof.svg/2000px-Logo_fh_hof.svg.png\" width=\"300\" style=\"background-color:#FFF\">\n",
    "\n",
    "<font size=\"+4\"><i><u>Q-Learning mit 'Super Mario Bros'</u></i></font>\n",
    "\n",
    "Seminararbeit der Vorlesung **Angewandtes Maschinelles Lernen** an der **Hochschule für angewande Wissenschaften Hof** des **Sommersemesters 2020**."
   ]
  },
  {
   "cell_type": "markdown",
   "metadata": {},
   "source": [
    "# Vorbereitungen\n",
    "\n",
    "*Code der das Jupyter-Notebook vorbereit.*"
   ]
  },
  {
   "cell_type": "markdown",
   "metadata": {
    "ExecuteTime": {
     "end_time": "2020-04-24T12:01:21.619987Z",
     "start_time": "2020-04-24T12:01:21.615688Z"
    }
   },
   "source": [
    "## Notebook-Styling\n",
    "\n",
    "*Ändert u.a. das Layout des Notebooks.*"
   ]
  },
  {
   "cell_type": "code",
   "execution_count": 1,
   "metadata": {
    "ExecuteTime": {
     "end_time": "2020-04-25T22:13:14.588956Z",
     "start_time": "2020-04-25T22:13:14.578296Z"
    }
   },
   "outputs": [
    {
     "data": {
      "text/html": [
       "<style>.container { width: 80% !important; }</style>"
      ],
      "text/plain": [
       "<IPython.core.display.HTML object>"
      ]
     },
     "metadata": {},
     "output_type": "display_data"
    }
   ],
   "source": [
    "from IPython.core.display import display, HTML\n",
    "\n",
    "_notebook_relative_width = \"80%\" # Wertebereich: 0-100, muss nach HTML-Schema definiert sein\n",
    "display(HTML('<style>.container { width: ' + _notebook_relative_width + ' !important; }</style>'))"
   ]
  },
  {
   "cell_type": "markdown",
   "metadata": {},
   "source": [
    "## Requirements\n",
    "\n",
    "*Die benötigten Packages wurden aus der bei mir installierten Pip-Liste gebildet.*\n",
    "\n",
    "**Hinweis:** *Es werden* ***mehr als zwingend notwendige*** *Packages installiert.*"
   ]
  },
  {
   "cell_type": "code",
   "execution_count": 2,
   "metadata": {
    "ExecuteTime": {
     "end_time": "2020-04-25T22:13:14.655380Z",
     "start_time": "2020-04-25T22:13:14.591030Z"
    }
   },
   "outputs": [],
   "source": [
    "# Package-Liste\n",
    "#!pip list"
   ]
  },
  {
   "cell_type": "code",
   "execution_count": 3,
   "metadata": {
    "ExecuteTime": {
     "end_time": "2020-04-25T22:13:14.732971Z",
     "start_time": "2020-04-25T22:13:14.657246Z"
    }
   },
   "outputs": [],
   "source": [
    "%%capture\n",
    "# Installation\n",
    "#!pip install -r requirements.txt"
   ]
  },
  {
   "cell_type": "code",
   "execution_count": 4,
   "metadata": {
    "ExecuteTime": {
     "end_time": "2020-04-25T22:13:14.806351Z",
     "start_time": "2020-04-25T22:13:14.737301Z"
    }
   },
   "outputs": [],
   "source": [
    "%%capture\n",
    "# Update \n",
    "#!pip list --outdated --format=freeze | grep -v '^\\-e' | cut -d = -f 1  | xargs -n1 pip install -U"
   ]
  },
  {
   "cell_type": "code",
   "execution_count": 5,
   "metadata": {
    "ExecuteTime": {
     "end_time": "2020-04-25T22:13:15.304757Z",
     "start_time": "2020-04-25T22:13:14.808677Z"
    }
   },
   "outputs": [],
   "source": [
    "%%capture\n",
    "# Export Pip-Packages nach './requirements.txt'\n",
    "!pip freeze > requirements.txt"
   ]
  },
  {
   "cell_type": "markdown",
   "metadata": {},
   "source": [
    "# Konfiguration\n",
    "\n",
    "*Import-Statements & Vorbereitung der Frameworks/Module zusammengefasst.*"
   ]
  },
  {
   "cell_type": "markdown",
   "metadata": {},
   "source": [
    "## Allgemein\n",
    "\n",
    "*Nicht weiter spezifizierte Import-Statements, bspw. von System-Bibliotheken.*"
   ]
  },
  {
   "cell_type": "code",
   "execution_count": 6,
   "metadata": {
    "ExecuteTime": {
     "end_time": "2020-04-25T22:13:15.362868Z",
     "start_time": "2020-04-25T22:13:15.307041Z"
    }
   },
   "outputs": [],
   "source": [
    "import os\n",
    "\n",
    "from datetime import datetime\n",
    "\n",
    "import numpy as np\n",
    "\n",
    "import random"
   ]
  },
  {
   "cell_type": "code",
   "execution_count": 7,
   "metadata": {
    "ExecuteTime": {
     "end_time": "2020-04-25T22:13:15.371921Z",
     "start_time": "2020-04-25T22:13:15.363978Z"
    }
   },
   "outputs": [],
   "source": [
    "# Erstelle Logs-Folder falls nicht existent.\n",
    "logs_base_dir = \"./logs\"\n",
    "if not os.path.isdir(logs_base_dir):\n",
    "    !mkdir logs"
   ]
  },
  {
   "cell_type": "markdown",
   "metadata": {},
   "source": [
    "## Tensorflow\n",
    "\n",
    "<img src=\"https://upload.wikimedia.org/wikipedia/commons/thumb/1/11/TensorFlowLogo.svg/1280px-TensorFlowLogo.svg.png\" width=\"150px\"/>\n",
    "\n",
    "*TensorFlow ist ein Framework zur datenstromorientierten Programmierung. Es wird aus Python-Programmen heraus benutzt und ist in Python und C++ implementiert. Populäre Anwendung findet TensorFlow im Bereich des maschinellen Lernens. [...]*\n",
    "\n",
    "[Weiter Informationen](https://pypi.org/project/tensorflow/)"
   ]
  },
  {
   "cell_type": "code",
   "execution_count": 8,
   "metadata": {
    "ExecuteTime": {
     "end_time": "2020-04-25T22:13:16.478426Z",
     "start_time": "2020-04-25T22:13:15.373666Z"
    }
   },
   "outputs": [],
   "source": [
    "%%capture\n",
    "import tensorflow as tf"
   ]
  },
  {
   "cell_type": "markdown",
   "metadata": {},
   "source": [
    "## Tensorboard\n",
    "\n",
    "<img src=\"https://www.tensorflow.org/site-assets/images/project-logos/tensorboard-logo-social.png\" width=\"250px\"/>\n",
    "\n",
    "*TensorBoard ist ein Sammlung von Web-Applicationen um TensorFlow zu inspizieren und zu verstehen.*\n",
    "\n",
    "[Weitere Informationen](https://pypi.org/project/tensorboard/)"
   ]
  },
  {
   "cell_type": "code",
   "execution_count": 9,
   "metadata": {
    "ExecuteTime": {
     "end_time": "2020-04-25T22:13:16.483092Z",
     "start_time": "2020-04-25T22:13:16.479838Z"
    },
    "scrolled": true
   },
   "outputs": [],
   "source": [
    "%load_ext tensorboard"
   ]
  },
  {
   "cell_type": "code",
   "execution_count": 10,
   "metadata": {
    "ExecuteTime": {
     "end_time": "2020-04-25T22:13:18.062469Z",
     "start_time": "2020-04-25T22:13:16.483970Z"
    }
   },
   "outputs": [],
   "source": [
    "%%capture\n",
    "from tensorboard import notebook\n",
    "# Starten einer Tensorboard-Instanz mit Logs & gebindeten Ports\n",
    "%tensorboard --port=6007 --logdir {logs_base_dir} --bind_all\n",
    "# Auflisten der TensorBoard-Instanzen (resourcen intesiv)\n",
    "notebook.list()"
   ]
  },
  {
   "cell_type": "markdown",
   "metadata": {},
   "source": [
    "## IPyWidgets"
   ]
  },
  {
   "cell_type": "code",
   "execution_count": 11,
   "metadata": {
    "ExecuteTime": {
     "end_time": "2020-04-25T22:13:18.089646Z",
     "start_time": "2020-04-25T22:13:18.064647Z"
    }
   },
   "outputs": [],
   "source": [
    "import ipywidgets as widgets\n",
    "from ipywidgets import interact, interact_manual"
   ]
  },
  {
   "cell_type": "markdown",
   "metadata": {},
   "source": [
    "## PyVirtualDisplay\n",
    "*Ein python wrapper für Xvfb, Xephyr und Xvnc.*\n",
    "\n",
    "[Weiter Informationen](https://pypi.org/project/PyVirtualDisplay/)"
   ]
  },
  {
   "cell_type": "code",
   "execution_count": 12,
   "metadata": {
    "ExecuteTime": {
     "end_time": "2020-04-25T22:13:18.132012Z",
     "start_time": "2020-04-25T22:13:18.090649Z"
    }
   },
   "outputs": [
    {
     "name": "stdout",
     "output_type": "stream",
     "text": [
      "In case of failure in the next Code-Block consider installing python-opengl, xvfb, ffmpeg, x11-utils - Packages via apt-get.\n",
      "Use command 'sudo apt-get install -y python-opengl xvfb ffmpeg x11-utils > /dev/null' inside a terminal.\n"
     ]
    }
   ],
   "source": [
    "# videocode dependecies; x11-utils als workaround für 'xdpyinfo'\n",
    "print(\"In case of failure in the next Code-Block consider installing python-opengl, xvfb, ffmpeg, x11-utils - Packages via apt-get.\\nUse command 'sudo apt-get install -y python-opengl xvfb ffmpeg x11-utils > /dev/null' inside a terminal.\")"
   ]
  },
  {
   "cell_type": "code",
   "execution_count": 13,
   "metadata": {
    "ExecuteTime": {
     "end_time": "2020-04-25T22:13:18.312063Z",
     "start_time": "2020-04-25T22:13:18.133599Z"
    }
   },
   "outputs": [
    {
     "data": {
      "text/plain": [
       "<Display cmd_param=['Xvfb', '-br', '-nolisten', 'tcp', '-screen', '0', '1400x900x24', ':1285'] cmd=['Xvfb', '-br', '-nolisten', 'tcp', '-screen', '0', '1400x900x24', ':1285'] oserror=None return_code=None stdout=\"None\" stderr=\"None\" timeout_happened=False>"
      ]
     },
     "execution_count": 13,
     "metadata": {},
     "output_type": "execute_result"
    }
   ],
   "source": [
    "from pyvirtualdisplay import Display as PyVDisplay\n",
    "\n",
    "global record_base_dir\n",
    "\n",
    "record_base_dir = \"./mp4\"\n",
    "if not os.path.isdir(record_base_dir):\n",
    "    os.mkdir(record_base_dir)\n",
    "\n",
    "py_vdisplay = PyVDisplay(visible=0, size=(1400, 900))\n",
    "py_vdisplay.start()"
   ]
  },
  {
   "cell_type": "markdown",
   "metadata": {},
   "source": [
    "## OpenAI-Gym\n",
    "\n",
    "<img src=\"https://upload.wikimedia.org/wikipedia/commons/thumb/4/4d/OpenAI_Logo.svg/1920px-OpenAI_Logo.svg.png\" width=\"275px\"/>\n",
    "\n",
    "*OpenAI-Gym ist ein Toolkit für das Entwickeln und Vergleichen von Reinforcement-Learning-Algorithmen.*\n",
    "\n",
    "[Weitere Informationen](https://pypi.org/project/gym/)"
   ]
  },
  {
   "cell_type": "code",
   "execution_count": 14,
   "metadata": {
    "ExecuteTime": {
     "end_time": "2020-04-25T22:13:18.347156Z",
     "start_time": "2020-04-25T22:13:18.313193Z"
    }
   },
   "outputs": [],
   "source": [
    "import gym\n",
    "\n",
    "from gym.wrappers import Monitor\n",
    "from gym import logger as gymlogger\n",
    "\n",
    "# DEBUG = 10 # INFO = 20 # WARN = 30 # ERROR = 40 # DISABLED = 50\n",
    "gymlogger.set_level(50)"
   ]
  },
  {
   "cell_type": "markdown",
   "metadata": {},
   "source": [
    "## Gym-Super-Mario-Bros\n",
    "\n",
    "*Eine OpenAI-Gym-Umgebung für Super Mario Bros. und Super Mario Bros. 2 (Lost Levels) auf den NES (Nitendo Entertainment System) mithilfe des nes-py emulators.*\n",
    "\n",
    "[Weitere Informationen](https://pypi.org/project/gym-super-mario-bros/)"
   ]
  },
  {
   "cell_type": "markdown",
   "metadata": {},
   "source": [
    "<table><thead><tr><th>SuperMarioBros-v0</th><th>SuperMarioBros-v1</th><th>SuperMarioBros-v2</th><th>SuperMarioBros-v3</th><th>SuperMarioBros2-v0</th><th>SuperMarioBros2-v1</th></tr></thead><tbody><tr><td><img src=\"https://warehouse-camo.ingress.cmh1.psfhosted.org/c4717c633d3823dda390ebc21bac34b18e7c22c3/68747470733a2f2f757365722d696d616765732e67697468756275736572636f6e74656e742e636f6d2f323138343436392f34303934383832302d33643135653563322d363833302d313165382d383164342d6563666166666565306131342e706e67\" width=\"175\"></td><td><img src=\"https://warehouse-camo.ingress.cmh1.psfhosted.org/e8eda56caeefcada9af67f43385ef1f48d0ac394/68747470733a2f2f757365722d696d616765732e67697468756275736572636f6e74656e742e636f6d2f323138343436392f34303934383831392d33636666366334382d363833302d313165382d383337332d3866616431363635616337322e706e67\" width=\"175\"></td><td><img src=\"https://warehouse-camo.ingress.cmh1.psfhosted.org/7f53e40eb716be49673cf41fb833486ab3ee104a/68747470733a2f2f757365722d696d616765732e67697468756275736572636f6e74656e742e636f6d2f323138343436392f34303934383831382d33636561303964342d363833302d313165382d386566612d3866333464386230356231312e706e67\" width=\"175\"></td><td><img src=\"https://warehouse-camo.ingress.cmh1.psfhosted.org/51975e7cc634efb02ed92acfb56368733b25f4d9/68747470733a2f2f757365722d696d616765732e67697468756275736572636f6e74656e742e636f6d2f323138343436392f34303934383831372d33636436363030612d363833302d313165382d386162622d3963656536613331643337372e706e67\" width=\"175\"></td><td><img src=\"https://warehouse-camo.ingress.cmh1.psfhosted.org/0618011a5c6cedb9dba051b8cf134ba51dd0777a/68747470733a2f2f757365722d696d616765732e67697468756275736572636f6e74656e742e636f6d2f323138343436392f34303934383832322d33643362383431322d363833302d313165382d383630622d6166333830326635333733662e706e67\" width=\"175\"></td><td><img src=\"https://warehouse-camo.ingress.cmh1.psfhosted.org/7c42437f4d2f447e192c088eab22739534c2d9be/68747470733a2f2f757365722d696d616765732e67697468756275736572636f6e74656e742e636f6d2f323138343436392f34303934383832312d33643264363161322d363833302d313165382d383738392d6139326537353061613961382e706e67\" width=\"175\"></td></tr></tbody></table>"
   ]
  },
  {
   "cell_type": "code",
   "execution_count": 15,
   "metadata": {
    "ExecuteTime": {
     "end_time": "2020-04-25T22:13:18.434767Z",
     "start_time": "2020-04-25T22:13:18.348252Z"
    }
   },
   "outputs": [
    {
     "data": {
      "application/vnd.jupyter.widget-view+json": {
       "model_id": "b3c9cc5f503342eb9766b7fb6a48444f",
       "version_major": 2,
       "version_minor": 0
      },
      "text/plain": [
       "interactive(children=(Dropdown(description='Enviorment', options=('SuperMarioBros-v0', 'SuperMarioBros-v1', 'S…"
      ]
     },
     "metadata": {},
     "output_type": "display_data"
    }
   ],
   "source": [
    "import gym_super_mario_bros\n",
    "\n",
    "from nes_py.wrappers import JoypadSpace, BinarySpaceToDiscreteSpaceEnv # nes_py is a direct dependency by gym_super_mario_bros\n",
    "from gym_super_mario_bros.actions import RIGHT_ONLY, SIMPLE_MOVEMENT, COMPLEX_MOVEMENT\n",
    "\n",
    "global gym_enviorment_id\n",
    "global gym_enviorment_movementset\n",
    "\n",
    "gym_enviorment_id = 'SuperMarioBros-v0'\n",
    "gym_enviorment_movementset = 'Simple'\n",
    "\n",
    "@interact\n",
    "def show_env_param(Enviorment=['SuperMarioBros-v0', 'SuperMarioBros-v1', 'SuperMarioBros-v2', 'SuperMarioBros-v3', 'SuperMarioBros2-v0', 'SuperMarioBros2-v1', 'SuperMarioBros2-v2', 'SuperMarioBros2-v3'],\n",
    "                   Movementset=['Simple', 'Complex', 'Only-Right']):\n",
    "    global gym_enviorment_id\n",
    "    global gym_enviorment_movementset\n",
    "    \n",
    "    gym_enviorment_id = Enviorment\n",
    "    gym_enviorment_movementset = Movementset\n",
    "    \n",
    "    return"
   ]
  },
  {
   "cell_type": "markdown",
   "metadata": {},
   "source": [
    "## Stable-Baselines\n",
    "\n",
    "*Stable Baselines ist eine Sammlung von optimierten Implementation von Reinforcement-Learning-Algorithmen basierend auf OpenAi.*\n",
    "\n",
    "[Weitere Informationen](https://pypi.org/project/stable-baselines/)"
   ]
  },
  {
   "cell_type": "code",
   "execution_count": 16,
   "metadata": {
    "ExecuteTime": {
     "end_time": "2020-04-25T22:13:19.111139Z",
     "start_time": "2020-04-25T22:13:18.435763Z"
    }
   },
   "outputs": [],
   "source": [
    "from stable_baselines.common.policies import MlpPolicy\n",
    "from stable_baselines.common import make_vec_env\n",
    "from stable_baselines import PPO2"
   ]
  },
  {
   "cell_type": "markdown",
   "metadata": {},
   "source": [
    "# Pre-Training\n",
    "\n",
    "*Code der vor dem Traniern ausgeführt wird.*"
   ]
  },
  {
   "cell_type": "markdown",
   "metadata": {},
   "source": [
    "## Trainings-Parameter"
   ]
  },
  {
   "cell_type": "markdown",
   "metadata": {},
   "source": [
    "### Trainings-Epochen"
   ]
  },
  {
   "cell_type": "code",
   "execution_count": 17,
   "metadata": {
    "ExecuteTime": {
     "end_time": "2020-04-25T22:13:19.128521Z",
     "start_time": "2020-04-25T22:13:19.112322Z"
    }
   },
   "outputs": [
    {
     "name": "stdout",
     "output_type": "stream",
     "text": [
      "Geben Sie eine Anzahl an zu trainierenden Epochen ein (Wertebereich: 1-∞; Default: 1).\n"
     ]
    },
    {
     "data": {
      "application/vnd.jupyter.widget-view+json": {
       "model_id": "7af9442a9941402a912c4831ed7766ed",
       "version_major": 2,
       "version_minor": 0
      },
      "text/plain": [
       "interactive(children=(Text(value='', description='Epochen'), Output()), _dom_classes=('widget-interact',))"
      ]
     },
     "metadata": {},
     "output_type": "display_data"
    }
   ],
   "source": [
    "print('Geben Sie eine Anzahl an zu trainierenden Epochen ein (Wertebereich: 1-∞; Default: 1).')\n",
    "\n",
    "max_amount_of_epoches = 1\n",
    "\n",
    "@interact\n",
    "def show_articles_more_than(Epochen=''):\n",
    "    global max_amount_of_epoches\n",
    "    try:\n",
    "        tmp = int(Epochen)\n",
    "        \n",
    "        if tmp > 0:\n",
    "            max_amount_of_epoches = tmp\n",
    "            print('Epochen-Anzahl in Höhe von {} angewandt.'.format(max_amount_of_epoches))\n",
    "        else:\n",
    "            max_amount_of_epoches = 1\n",
    "            print('Default-Anzahl in Höhe von 1 Epochen angewandt.')\n",
    "    except ValueError:\n",
    "        max_amount_of_epoches = 1\n",
    "        print('Default-Anzahl in Höhe von 1 Epochen angewandt.')"
   ]
  },
  {
   "cell_type": "markdown",
   "metadata": {},
   "source": [
    "### Monitor-Funktion"
   ]
  },
  {
   "cell_type": "code",
   "execution_count": 18,
   "metadata": {
    "ExecuteTime": {
     "end_time": "2020-04-25T22:13:19.235926Z",
     "start_time": "2020-04-25T22:13:19.129416Z"
    }
   },
   "outputs": [
    {
     "data": {
      "application/vnd.jupyter.widget-view+json": {
       "model_id": "7a445e471b7242879662e106084a5612",
       "version_major": 2,
       "version_minor": 0
      },
      "text/plain": [
       "interactive(children=(Checkbox(value=True, description='Mointor_Run'), Output()), _dom_classes=('widget-intera…"
      ]
     },
     "metadata": {},
     "output_type": "display_data"
    }
   ],
   "source": [
    "global gym_enviorment_monitor\n",
    "\n",
    "gym_enviorment_monitor = True\n",
    "\n",
    "@interact\n",
    "def show_monitor_param(Mointor_Run = True):\n",
    "    global gym_enviorment_monitor\n",
    "    gym_enviorment_monitor = Mointor_Run\n",
    "    return"
   ]
  },
  {
   "cell_type": "markdown",
   "metadata": {},
   "source": [
    "## Reward-Funktionen\n",
    "\n",
    "*Belohnungsfunktionen zum lernen.*"
   ]
  },
  {
   "cell_type": "code",
   "execution_count": 19,
   "metadata": {
    "ExecuteTime": {
     "end_time": "2020-04-25T22:13:19.307270Z",
     "start_time": "2020-04-25T22:13:19.236848Z"
    }
   },
   "outputs": [
    {
     "name": "stdout",
     "output_type": "stream",
     "text": [
      "test\n"
     ]
    }
   ],
   "source": [
    "print('test')"
   ]
  },
  {
   "cell_type": "markdown",
   "metadata": {},
   "source": [
    "# Enviorment"
   ]
  },
  {
   "cell_type": "code",
   "execution_count": 21,
   "metadata": {
    "ExecuteTime": {
     "end_time": "2020-04-25T22:15:20.280244Z",
     "start_time": "2020-04-25T22:15:20.267502Z"
    }
   },
   "outputs": [],
   "source": [
    "\"\"\"Ein Wrapper-Objekt für das Super-Mario-Bros-Gym-Enviorment\"\"\"\n",
    "class SuperMarioBrosEnviorment:\n",
    "    \n",
    "    ##   Info-Key's   ##\n",
    "    coins = 'coins'               # Anzahl an eingesammelten Münzen\n",
    "    flag_get = 'flag_get'         # Ob Mario die Flagge erreicht hat oder ax:\n",
    "    life = 'life'                 # Marios Anzahl an Leben {3,2,1}\n",
    "    score = 'score'               # Kumulativer in-game Punktestand\n",
    "    stage = 'stage'               # Aktuelle Stage {1,2,3,4}\n",
    "    status = 'status'             # Marios aktueller Status {'small', 'tall', 'fireball'}}\n",
    "    time = 'time'                 # Die Zeit die übrig ist für den Run\n",
    "    world = 'world'               # Die Aktuelle Welt {1, 2, 3, 4, 5, 6, 7, 8}\n",
    "    x_pos = 'x_pos'               # Marios absolute X-Position (von links ausgehend)\n",
    "    x_pos_screen = 'x_pos_screen' # Marios relative X-Position (von links ausgehend)\n",
    "    y_pos = 'y_pos'               # Marios relative Y-Postion (von unten ausgehend)\n",
    "    \n",
    "    # Init-Funktion\n",
    "    def __init__(self):\n",
    "        global gym_enviorment_id\n",
    "        global gym_enviorment_movementset\n",
    "        \n",
    "        env = gym.make(gym_enviorment_id)\n",
    "        \n",
    "        if gym_enviorment_movementset == 'Simple':\n",
    "             self.env = BinarySpaceToDiscreteSpaceEnv(env, SIMPLE_MOVEMENT)\n",
    "        elif gym_enviorment_movementset == 'Complex':\n",
    "             self.env = BinarySpaceToDiscreteSpaceEnv(env, COMPLEX_MOVEMENT)\n",
    "        elif gym_enviorment_movementset == 'Only-Right':\n",
    "             self.env = BinarySpaceToDiscreteSpaceEnv(env, RIGHT_ONLY)\n",
    "        else:\n",
    "            raise Error('Invalid Movementset. Possible Movementset are \\'SIMPLE_MOVEMENT\\', \\'COMPLEX_MOVEMENT\\' or \\'RIGHT_ONLY\\'.')\n",
    "    \n",
    "    # Ändert das Enviorment basierend auf den Aktionen des Agents\n",
    "    def step(self, action):\n",
    "        next_state, _, done, info = self.env.step(action)\n",
    "        reward = self.reward(info)\n",
    "        return next_state, reward, done, info\n",
    "    \n",
    "    # Setzt das Enviorment auf den initalen State\n",
    "    def reset(self):\n",
    "        return self.env.reset()\n",
    "    \n",
    "    # Zeigt den neuen State des Enviorments auf einen Screen\n",
    "    def render(self):\n",
    "        return self.env.render()\n",
    "    \n",
    "    # Berechnet die Reward-Funktion\n",
    "    def reward(info):\n",
    "        # Variablen aus dem Info-Dict lesen\n",
    "        coins = info[coins]\n",
    "        flag_get = info[flag_get]\n",
    "        life = info[life]\n",
    "        score = info[score]\n",
    "        stage = info[stage]\n",
    "        status = info[status]\n",
    "        time = info[time]\n",
    "        world = info[world]\n",
    "        x_pos = info[x_pos]\n",
    "        x_pos_screen = info[x_pos_screen]\n",
    "        y_pos = info[y_pos]\n",
    "        \n",
    "        return 0"
   ]
  },
  {
   "cell_type": "markdown",
   "metadata": {},
   "source": [
    "# Agent"
   ]
  },
  {
   "cell_type": "code",
   "execution_count": null,
   "metadata": {
    "ExecuteTime": {
     "end_time": "2020-04-25T22:13:19.393300Z",
     "start_time": "2020-04-25T22:13:14.629Z"
    }
   },
   "outputs": [],
   "source": [
    "class SuperMarioBrosAgent:\n",
    "    def __init__(self):\n",
    "        pass\n",
    "\n",
    "    def action(self, state):\n",
    "        if state > 0:\n",
    "            return 1\n",
    "        else:\n",
    "            return 0"
   ]
  },
  {
   "cell_type": "markdown",
   "metadata": {
    "ExecuteTime": {
     "end_time": "2020-04-25T20:06:01.849944Z",
     "start_time": "2020-04-25T20:06:01.843807Z"
    }
   },
   "source": [
    "# Hyperparameter"
   ]
  },
  {
   "cell_type": "markdown",
   "metadata": {
    "ExecuteTime": {
     "end_time": "2020-04-25T20:57:07.610990Z",
     "start_time": "2020-04-25T20:57:07.545445Z"
    }
   },
   "source": [
    "def init_model(gym_enviorment):\n",
    "    global model\n",
    "    \n",
    "    model = PPO2(MlpPolicy, gym_enviorment, verbose = 1, tensorboard_log=logs_base_dir)\n",
    "    #model.learn(totald_timesteps=25000)"
   ]
  },
  {
   "cell_type": "code",
   "execution_count": null,
   "metadata": {
    "ExecuteTime": {
     "end_time": "2020-04-25T22:13:19.393942Z",
     "start_time": "2020-04-25T22:13:14.631Z"
    }
   },
   "outputs": [],
   "source": [
    "total_episodes = 20000       # Total episodes\n",
    "learning_rate = 0.7          # Learning rate\n",
    "max_steps = 100              # Max steps per episode\n",
    "gamma = 0.95                 # Discounting rate\n",
    "\n",
    "# Exploration parameters\n",
    "epsilon = 1.0                 # Exploration rate\n",
    "max_epsilon = 1.0             # Exploration probability at start\n",
    "min_epsilon = 0.01            # Minimum exploration probability \n",
    "decay_rate = 0.005            # Exponential decay rate for exploration prob"
   ]
  },
  {
   "cell_type": "code",
   "execution_count": null,
   "metadata": {
    "ExecuteTime": {
     "end_time": "2020-04-25T22:13:19.394640Z",
     "start_time": "2020-04-25T22:13:14.633Z"
    }
   },
   "outputs": [],
   "source": [
    "def init_qtable(gym_enviorment):\n",
    "    action_size = gym_enviorment.action_space.n\n",
    "    state_size = gym_enviorment.observation_space.n\n",
    "\n",
    "    qtable = np.zeros((state_size, action_size))"
   ]
  },
  {
   "cell_type": "code",
   "execution_count": null,
   "metadata": {},
   "outputs": [],
   "source": []
  }
 ],
 "metadata": {
  "kernelspec": {
   "display_name": "Python 3",
   "language": "python",
   "name": "python3"
  },
  "language_info": {
   "codemirror_mode": {
    "name": "ipython",
    "version": 3
   },
   "file_extension": ".py",
   "mimetype": "text/x-python",
   "name": "python",
   "nbconvert_exporter": "python",
   "pygments_lexer": "ipython3",
   "version": "3.7.6"
  },
  "toc": {
   "base_numbering": 1,
   "nav_menu": {},
   "number_sections": false,
   "sideBar": true,
   "skip_h1_title": false,
   "title_cell": "Table of Contents",
   "title_sidebar": "Contents",
   "toc_cell": false,
   "toc_position": {
    "height": "calc(100% - 180px)",
    "left": "10px",
    "top": "150px",
    "width": "352px"
   },
   "toc_section_display": false,
   "toc_window_display": true
  }
 },
 "nbformat": 4,
 "nbformat_minor": 4
}
