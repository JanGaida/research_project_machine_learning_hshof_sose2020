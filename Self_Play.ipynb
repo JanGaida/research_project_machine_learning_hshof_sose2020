{
 "cells": [
  {
   "cell_type": "markdown",
   "metadata": {
    "ExecuteTime": {
     "end_time": "2020-05-03T08:05:42.282288Z",
     "start_time": "2020-05-03T08:05:42.272685Z"
    }
   },
   "source": [
    "<img src=\"https://upload.wikimedia.org/wikipedia/commons/thumb/5/50/Logo_fh_hof.svg/2000px-Logo_fh_hof.svg.png\" width=\"250\" style=\"background-color:#FFF\">"
   ]
  },
  {
   "cell_type": "markdown",
   "metadata": {
    "ExecuteTime": {
     "end_time": "2020-05-03T08:06:41.519871Z",
     "start_time": "2020-05-03T08:06:41.509621Z"
    }
   },
   "source": [
    "---\n",
    "\n",
    "<div style=\"text-align:center;\">\n",
    "    <font size=\"+4\"><i><u>Q-Learning mit 'Super Mario Bros'</u></i></font><br><br>\n",
    "    <font>Seminararbeit der Vorlesung <b>Angewandtes Maschinelles Lernen</b> an der <b>Hochschule für angewande Wissenschaften Hof</b> des <b>Sommersemesters 2020</b>.</font>\n",
    "</div>\n",
    "\n",
    "---"
   ]
  },
  {
   "cell_type": "markdown",
   "metadata": {
    "ExecuteTime": {
     "end_time": "2020-05-03T08:07:01.998941Z",
     "start_time": "2020-05-03T08:07:01.990871Z"
    }
   },
   "source": [
    "# Self-Play-Demo\n",
    "---\n",
    "\n",
    "Hier befindet sich das Skript zum spielen des Gym's; hierbei wird eine MP4 aufgenommen und es werden alle Action's mit aufgenommen."
   ]
  },
  {
   "cell_type": "code",
   "execution_count": null,
   "metadata": {
    "ExecuteTime": {
     "end_time": "2020-05-03T08:08:50.491239Z",
     "start_time": "2020-05-03T08:08:48.874504Z"
    }
   },
   "outputs": [],
   "source": [
    "%%capture\n",
    "\n",
    "from gym.utils import play\n",
    "import gym\n",
    "import gym_super_mario_bros\n",
    "from gym.wrappers import Monitor\n",
    "from nes_py.wrappers import JoypadSpace\n",
    "from gym_super_mario_bros.actions import RIGHT_ONLY, SIMPLE_MOVEMENT, COMPLEX_MOVEMENT\n",
    "from datetime import datetime\n",
    "import uuid\n",
    "\n",
    "%run 'CLASS/Vorbereitungen.ipynb'"
   ]
  },
  {
   "cell_type": "code",
   "execution_count": null,
   "metadata": {
    "ExecuteTime": {
     "end_time": "2020-05-03T07:52:49.163014Z",
     "start_time": "2020-05-03T07:49:12.867897Z"
    }
   },
   "outputs": [],
   "source": [
    "actions = []\n",
    "end = False\n",
    "\n",
    "global _RECORDS_BASE_DIR\n",
    "video_output_path = '{}/run_{}__{}'.format(_RECORDS_BASE_DIR, datetime.now().strftime(\"%d-%m-%Y_%H-%M-%S\"), uuid.uuid4())\n",
    "\n",
    "env = JoypadSpace(gym.make(\"SuperMarioBros-v1\"), COMPLEX_MOVEMENT)\n",
    "env = Monitor(env, video_output_path, force = False)\n",
    "\n",
    "def callback(obs_t, obs_tp1, action, rew, done, info):\n",
    "    global end\n",
    "    if info['life'] == 255:\n",
    "        end = True\n",
    "    if not end:\n",
    "        actions.append(action)\n",
    "    return\n",
    "\n",
    "gym.utils.play.play(env, zoom=3, callback = callback)\n",
    "print(actions)\n",
    "env.close()\n",
    "show_video(video_output_path)"
   ]
  }
 ],
 "metadata": {
  "kernelspec": {
   "display_name": "Python 3",
   "language": "python",
   "name": "python3"
  },
  "language_info": {
   "codemirror_mode": {
    "name": "ipython",
    "version": 3
   },
   "file_extension": ".py",
   "mimetype": "text/x-python",
   "name": "python",
   "nbconvert_exporter": "python",
   "pygments_lexer": "ipython3",
   "version": "3.7.6"
  },
  "toc": {
   "base_numbering": 1,
   "nav_menu": {},
   "number_sections": false,
   "sideBar": true,
   "skip_h1_title": true,
   "title_cell": "Table of Contents",
   "title_sidebar": "Contents",
   "toc_cell": false,
   "toc_position": {},
   "toc_section_display": true,
   "toc_window_display": true
  }
 },
 "nbformat": 4,
 "nbformat_minor": 4
}
